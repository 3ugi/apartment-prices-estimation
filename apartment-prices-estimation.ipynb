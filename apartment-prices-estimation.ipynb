{
 "cells": [
  {
   "cell_type": "markdown",
   "id": "969500ce-4245-4cef-98af-20b00c4c0c41",
   "metadata": {},
   "source": [
    "# Data Collection"
   ]
  },
  {
   "cell_type": "markdown",
   "id": "a5b3be07-6888-4269-8c21-1d075d38edfe",
   "metadata": {},
   "source": [
    "### Downloading data"
   ]
  },
  {
   "cell_type": "code",
   "execution_count": 1,
   "id": "7f4956ef-2f6d-4b02-8b67-843931360551",
   "metadata": {},
   "outputs": [],
   "source": [
    "# python download_data.py"
   ]
  },
  {
   "cell_type": "markdown",
   "id": "1d239125-3b66-4c36-8538-35c0ab9d16b4",
   "metadata": {},
   "source": [
    "### Combining data from all chunks into one file"
   ]
  },
  {
   "cell_type": "code",
   "execution_count": 2,
   "id": "21eeabbb-ab09-45a2-bb5a-0b8e7e0d1eae",
   "metadata": {},
   "outputs": [],
   "source": [
    "# cat data/offers_data*.txt | grep -v '\"error\"' > data/offers_data.txt"
   ]
  },
  {
   "cell_type": "markdown",
   "id": "0f01775f-f126-43d6-8b06-c5286271bb4e",
   "metadata": {},
   "source": [
    "# Data Cleaning & Preparation"
   ]
  },
  {
   "cell_type": "markdown",
   "id": "7f65038e-ebb7-4171-a467-31cd27e5a421",
   "metadata": {},
   "source": [
    "### Importing libraries and configuring settings"
   ]
  },
  {
   "cell_type": "code",
   "execution_count": 3,
   "id": "5a132571-8d77-4378-ba5a-a8f3f99dac26",
   "metadata": {},
   "outputs": [],
   "source": [
    "import numpy as np\n",
    "import pandas as pd"
   ]
  },
  {
   "cell_type": "code",
   "execution_count": 4,
   "id": "5333d359-bd4c-48c4-b02d-bee3c7a2ef6a",
   "metadata": {},
   "outputs": [],
   "source": [
    "pd.set_option('display.max_columns', None)"
   ]
  },
  {
   "cell_type": "markdown",
   "id": "d340c7a4-b0f3-4e58-a41b-9f116ef1a595",
   "metadata": {},
   "source": [
    "### Loading data and reviewing data"
   ]
  },
  {
   "cell_type": "code",
   "execution_count": 5,
   "id": "450b7f5b-205e-4243-ba92-50cc4c40de09",
   "metadata": {},
   "outputs": [],
   "source": [
    "df = pd.read_json('data/offers_data.txt', lines=True)"
   ]
  },
  {
   "cell_type": "code",
   "execution_count": 6,
   "id": "6f61a90d-0a39-48d8-be31-0a97bfa0b938",
   "metadata": {},
   "outputs": [
    {
     "name": "stdout",
     "output_type": "stream",
     "text": [
      "<class 'pandas.core.frame.DataFrame'>\n",
      "RangeIndex: 91712 entries, 0 to 91711\n",
      "Data columns (total 36 columns):\n",
      " #   Column              Non-Null Count  Dtype  \n",
      "---  ------              --------------  -----  \n",
      " 0   street              54322 non-null  object \n",
      " 1   equipment           27034 non-null  object \n",
      " 2   areas               79487 non-null  object \n",
      " 3   floor               89648 non-null  object \n",
      " 4   kitchen             17296 non-null  object \n",
      " 5   parking             0 non-null      float64\n",
      " 6   numberOfRooms       91712 non-null  int64  \n",
      " 7   rooms               0 non-null      float64\n",
      " 8   type                72648 non-null  object \n",
      " 9   windowsOrientation  0 non-null      float64\n",
      " 10  year                67677 non-null  float64\n",
      " 11  material            44438 non-null  object \n",
      " 12  windows             54138 non-null  object \n",
      " 13  heating             65621 non-null  object \n",
      " 14  numberOfFloors      83861 non-null  float64\n",
      " 15  conveniences        58185 non-null  object \n",
      " 16  security            50992 non-null  object \n",
      " 17  condition           70343 non-null  object \n",
      " 18  ownership           69554 non-null  object \n",
      " 19  rent                36397 non-null  float64\n",
      " 20  rent_currency       36397 non-null  object \n",
      " 21  lat                 91712 non-null  float64\n",
      " 22  long                91712 non-null  float64\n",
      " 23  ad_price            86830 non-null  float64\n",
      " 24  price_currency      91712 non-null  object \n",
      " 25  city_name           91712 non-null  object \n",
      " 26  market              91712 non-null  object \n",
      " 27  region_name         91712 non-null  object \n",
      " 28  subregion_id        91712 non-null  object \n",
      " 29  area                91712 non-null  float64\n",
      " 30  media_types         39129 non-null  object \n",
      " 31  propertype          91712 non-null  object \n",
      " 32  user_type           91712 non-null  object \n",
      " 33  offertype           91712 non-null  object \n",
      " 34  free_from           13306 non-null  object \n",
      " 35  lift                84387 non-null  object \n",
      "dtypes: float64(10), int64(1), object(25)\n",
      "memory usage: 25.2+ MB\n"
     ]
    }
   ],
   "source": [
    "df.info()"
   ]
  },
  {
   "cell_type": "code",
   "execution_count": 7,
   "id": "6c11049b-9428-4dd3-9b30-126d0a61a281",
   "metadata": {},
   "outputs": [
    {
     "data": {
      "text/plain": [
       "parking               1.000000\n",
       "rooms                 1.000000\n",
       "windowsOrientation    1.000000\n",
       "free_from             0.854915\n",
       "kitchen               0.811410\n",
       "equipment             0.705229\n",
       "rent_currency         0.603138\n",
       "rent                  0.603138\n",
       "media_types           0.573349\n",
       "material              0.515461\n",
       "security              0.443999\n",
       "windows               0.409696\n",
       "street                0.407689\n",
       "conveniences          0.365568\n",
       "heating               0.284488\n",
       "year                  0.262070\n",
       "ownership             0.241604\n",
       "condition             0.233001\n",
       "type                  0.207868\n",
       "areas                 0.133298\n",
       "numberOfFloors        0.085605\n",
       "lift                  0.079870\n",
       "ad_price              0.053232\n",
       "floor                 0.022505\n",
       "long                  0.000000\n",
       "price_currency        0.000000\n",
       "city_name             0.000000\n",
       "lat                   0.000000\n",
       "region_name           0.000000\n",
       "subregion_id          0.000000\n",
       "area                  0.000000\n",
       "propertype            0.000000\n",
       "user_type             0.000000\n",
       "offertype             0.000000\n",
       "numberOfRooms         0.000000\n",
       "market                0.000000\n",
       "dtype: float64"
      ]
     },
     "execution_count": 7,
     "metadata": {},
     "output_type": "execute_result"
    }
   ],
   "source": [
    "df.isnull().mean().sort_values(ascending=False)"
   ]
  },
  {
   "cell_type": "markdown",
   "id": "7fb514df-82b3-4f91-9e48-e1ea352ac904",
   "metadata": {},
   "source": [
    "- renaming columns"
   ]
  },
  {
   "cell_type": "code",
   "execution_count": 8,
   "id": "a9dfd131-75d7-401d-a5f7-d60fc5649c6c",
   "metadata": {},
   "outputs": [],
   "source": [
    "df['number_of_rooms'] = df.numberOfRooms\n",
    "df['number_of_floors'] = df.numberOfFloors\n",
    "df['building_type'] = df.type\n",
    "df['windows_orientation'] = df.windowsOrientation\n",
    "df = df.drop(columns=['numberOfRooms', 'numberOfFloors', 'type', 'windowsOrientation'])"
   ]
  },
  {
   "cell_type": "markdown",
   "id": "16ef035f-035e-413f-83f9-2c7a69db6bce",
   "metadata": {},
   "source": [
    "### Imputing missing values"
   ]
  },
  {
   "cell_type": "markdown",
   "id": "59cfc18d-0c7f-4a10-9f76-d5b927164e9f",
   "metadata": {},
   "source": [
    "#### equipment, areas, conveniences, security, media_types"
   ]
  },
  {
   "cell_type": "markdown",
   "id": "af95bc34-ec8a-411b-ba52-4d151c2cda28",
   "metadata": {},
   "source": [
    "**Analysis:**\n",
    "- columns with list-like comma-separated string values\n",
    "\n",
    "**Decision:**\n",
    "- create separate column for each unique characteristic\n",
    "- treat null values as lacking of specific characteristic"
   ]
  },
  {
   "cell_type": "code",
   "execution_count": 9,
   "id": "76bce761-fed2-463c-8a83-dfa70f767ff7",
   "metadata": {},
   "outputs": [],
   "source": [
    "multiple_values_columns = ['equipment', 'areas', 'conveniences', 'security', 'media_types']\n",
    "for column in multiple_values_columns:\n",
    "    types = df[column].dropna().apply(lambda x: x.split(', ') if x else None).explode().unique()\n",
    "    for t in types:\n",
    "        df[t] = df[column].apply(lambda x: 1 if x is not None and t in x else 0)\n",
    "df = df.drop(columns=multiple_values_columns)"
   ]
  },
  {
   "cell_type": "markdown",
   "id": "b1a90932-8b7d-4bda-bc97-43f14317e053",
   "metadata": {},
   "source": [
    "- removing duplicated columns added during creation"
   ]
  },
  {
   "cell_type": "code",
   "execution_count": 10,
   "id": "31e39c32-4702-44be-97d2-54790914833b",
   "metadata": {},
   "outputs": [
    {
     "data": {
      "text/plain": [
       "True"
      ]
     },
     "execution_count": 10,
     "metadata": {},
     "output_type": "execute_result"
    }
   ],
   "source": [
    "(df['INTERNET'] == df['internet']).all()"
   ]
  },
  {
   "cell_type": "code",
   "execution_count": 11,
   "id": "7fc026ed-23b0-4834-b9eb-cfdac5b90590",
   "metadata": {},
   "outputs": [],
   "source": [
    "df = df.drop(columns=['internet'])"
   ]
  },
  {
   "cell_type": "code",
   "execution_count": 12,
   "id": "a72ec7c4-4d6f-4c56-9b59-857b3e05299c",
   "metadata": {},
   "outputs": [
    {
     "data": {
      "text/plain": [
       "True"
      ]
     },
     "execution_count": 12,
     "metadata": {},
     "output_type": "execute_result"
    }
   ],
   "source": [
    "df.loc[df['lift'].isnull(), 'lift'] = df['LIFT']\n",
    "df['lift'].replace({'y': 1, 'n': 0}, inplace=True)\n",
    "(df['LIFT'] == df['lift']).all()"
   ]
  },
  {
   "cell_type": "code",
   "execution_count": 13,
   "id": "391351ec-41f7-4f94-b8b2-e70ddf953fac",
   "metadata": {},
   "outputs": [],
   "source": [
    "df = df.drop(columns=['lift'])"
   ]
  },
  {
   "cell_type": "markdown",
   "id": "953025d6-6661-4f19-860e-2d70611a0fa9",
   "metadata": {},
   "source": [
    "#### kitchen"
   ]
  },
  {
   "cell_type": "code",
   "execution_count": 14,
   "id": "23698dba-1535-44dd-a2f3-e0104a1edcdd",
   "metadata": {},
   "outputs": [
    {
     "data": {
      "text/plain": [
       "array([None, 'SEPARATE'], dtype=object)"
      ]
     },
     "execution_count": 14,
     "metadata": {},
     "output_type": "execute_result"
    }
   ],
   "source": [
    "df.kitchen.unique()"
   ]
  },
  {
   "cell_type": "markdown",
   "id": "5bea9031-955b-4f62-a66b-47efa31e7d10",
   "metadata": {},
   "source": [
    "**Analysis:**\n",
    "- only one unique value is present: SEPERATE\n",
    "\n",
    "**Decision:**\n",
    "- create separate_kitchen column with values:\n",
    "  - 0 - non-separate\n",
    "  - 1 - separate \n",
    "- treat null values as 0 - non-separate"
   ]
  },
  {
   "cell_type": "code",
   "execution_count": 15,
   "id": "7435307a-e4f2-4769-b256-d2b1055ae7ae",
   "metadata": {},
   "outputs": [],
   "source": [
    "df['separate_kitchen'] = df.kitchen.map(lambda k: 1 if k else 0)\n",
    "df = df.drop(columns=['kitchen'])"
   ]
  },
  {
   "cell_type": "markdown",
   "id": "14c2edd2-d893-404b-9869-c2a2fe79316b",
   "metadata": {},
   "source": [
    "### heating"
   ]
  },
  {
   "cell_type": "code",
   "execution_count": 16,
   "id": "ed24a43d-8746-42fc-8d75-363b34cf6689",
   "metadata": {},
   "outputs": [
    {
     "data": {
      "text/plain": [
       "building_type  heating    \n",
       "APARTMENT      URBAN          0.735046\n",
       "               GAS            0.148202\n",
       "               OTHER          0.071283\n",
       "               BOILER_ROOM    0.028369\n",
       "               ELECTRICAL     0.016969\n",
       "               TILED_STOVE    0.000131\n",
       "BLOCK          URBAN          0.806867\n",
       "               GAS            0.114169\n",
       "               OTHER          0.046790\n",
       "               BOILER_ROOM    0.022180\n",
       "               ELECTRICAL     0.008734\n",
       "               TILED_STOVE    0.001261\n",
       "HOUSE          GAS            0.540778\n",
       "               OTHER          0.210790\n",
       "               URBAN          0.114806\n",
       "               BOILER_ROOM    0.064617\n",
       "               ELECTRICAL     0.056462\n",
       "               TILED_STOVE    0.012547\n",
       "INFILL         URBAN          0.855263\n",
       "               GAS            0.078947\n",
       "               BOILER_ROOM    0.039474\n",
       "               OTHER          0.013158\n",
       "               ELECTRICAL     0.013158\n",
       "LOFT           URBAN          0.808219\n",
       "               GAS            0.164384\n",
       "               BOILER_ROOM    0.027397\n",
       "RIBBON         GAS            0.753792\n",
       "               OTHER          0.121354\n",
       "               URBAN          0.071762\n",
       "               ELECTRICAL     0.039090\n",
       "               BOILER_ROOM    0.011669\n",
       "               TILED_STOVE    0.002334\n",
       "TENEMENT       GAS            0.447714\n",
       "               URBAN          0.311001\n",
       "               ELECTRICAL     0.103509\n",
       "               OTHER          0.093702\n",
       "               BOILER_ROOM    0.022096\n",
       "               TILED_STOVE    0.021978\n",
       "Name: proportion, dtype: float64"
      ]
     },
     "execution_count": 16,
     "metadata": {},
     "output_type": "execute_result"
    }
   ],
   "source": [
    "building_type_grp = df.groupby(['building_type'])\n",
    "building_type_grp['heating'].value_counts(normalize=True)"
   ]
  },
  {
   "cell_type": "markdown",
   "id": "13183079-ee28-43b8-bb4b-06d326b02c4f",
   "metadata": {},
   "source": [
    "**Analysis:**\n",
    "- 28% of values are null\n",
    "- different building types generally exhibit a preference for specific heating types over others\n",
    "\n",
    "**Decision**: \n",
    "- fillna using the mode value associated with each building type\n",
    "- if obtaining the mode value for a specific building type is not possible, use the mode value corresponding to the entire dataset"
   ]
  },
  {
   "cell_type": "code",
   "execution_count": 17,
   "id": "d17a74e2-d76e-4e65-828d-29263d568535",
   "metadata": {},
   "outputs": [],
   "source": [
    "for building_type in df.building_type.dropna().unique():\n",
    "    heating_mode = df[df['building_type'] == building_type]['heating'].mode()\n",
    "    heating_mode = heating_mode[0] if heating_mode.any() else df['heating'].mode()[0]\n",
    "    df.loc[df['building_type'] == building_type, 'heating'] = df['heating'].fillna(heating_mode)"
   ]
  },
  {
   "cell_type": "markdown",
   "id": "a3841958-e186-421f-8a8b-7ba0bb612138",
   "metadata": {},
   "source": [
    "### windows, ownership"
   ]
  },
  {
   "cell_type": "code",
   "execution_count": 18,
   "id": "b472ac3a-7d68-4ee7-a47b-0e70304e41a5",
   "metadata": {},
   "outputs": [
    {
     "data": {
      "text/plain": [
       "windows\n",
       "PLASTIC      0.920444\n",
       "WOODEN       0.065259\n",
       "ALUMINIUM    0.014297\n",
       "Name: proportion, dtype: float64"
      ]
     },
     "execution_count": 18,
     "metadata": {},
     "output_type": "execute_result"
    }
   ],
   "source": [
    "df.windows.value_counts(normalize=True)"
   ]
  },
  {
   "cell_type": "code",
   "execution_count": 19,
   "id": "1f992abe-0169-42cd-ae69-19f5f515dff7",
   "metadata": {},
   "outputs": [
    {
     "data": {
      "text/plain": [
       "ownership\n",
       "FULL_OWNERSHIP            0.948874\n",
       "LIMITED_OWNERSHIP         0.046266\n",
       "SHARE                     0.004026\n",
       "USUFRUCT                  0.000820\n",
       "CO_OPERATIVE_OWNERSHIP    0.000014\n",
       "Name: proportion, dtype: float64"
      ]
     },
     "execution_count": 19,
     "metadata": {},
     "output_type": "execute_result"
    }
   ],
   "source": [
    "df.ownership.value_counts(normalize=True)"
   ]
  },
  {
   "cell_type": "markdown",
   "id": "07b13a99-b422-4c07-8c19-ed7c155e307a",
   "metadata": {},
   "source": [
    "**Analysis:**\n",
    "- one value significantly dominates, representing over 90% of occurrences compared to the others\n",
    "\n",
    "**Decision:** \n",
    "- fillna using the mode value corresponding to the entire dataset"
   ]
  },
  {
   "cell_type": "code",
   "execution_count": 20,
   "id": "dfb234c9-5c04-4ecb-a31a-e84d01068b5a",
   "metadata": {},
   "outputs": [],
   "source": [
    "df.windows.fillna(df.windows.mode()[0], inplace=True)\n",
    "df.ownership.fillna(df.ownership.mode()[0], inplace=True)"
   ]
  },
  {
   "cell_type": "markdown",
   "id": "08463d5c-d5b1-4402-99bf-d39fa1420aa6",
   "metadata": {},
   "source": [
    "### parking, rooms, windows_orientation, free_from, rent, rent_currency, material, street, year, condition, building_type, number_of_floors, ad_price, floor\n",
    "\n",
    "**Analysis:**\n",
    "- no resonable methods of imputation where identified"
   ]
  },
  {
   "cell_type": "markdown",
   "id": "6c591b40-52da-4331-b8d3-089edc2b2d73",
   "metadata": {},
   "source": [
    "## Cleaning data"
   ]
  },
  {
   "cell_type": "code",
   "execution_count": 21,
   "id": "269d81ed-4f60-41ec-8680-6a23d10fb441",
   "metadata": {},
   "outputs": [
    {
     "name": "stdout",
     "output_type": "stream",
     "text": [
      "<class 'pandas.core.frame.DataFrame'>\n",
      "RangeIndex: 91712 entries, 0 to 91711\n",
      "Data columns (total 59 columns):\n",
      " #   Column               Non-Null Count  Dtype  \n",
      "---  ------               --------------  -----  \n",
      " 0   street               54322 non-null  object \n",
      " 1   floor                89648 non-null  object \n",
      " 2   parking              0 non-null      float64\n",
      " 3   rooms                0 non-null      float64\n",
      " 4   year                 67677 non-null  float64\n",
      " 5   material             44438 non-null  object \n",
      " 6   windows              91712 non-null  object \n",
      " 7   heating              77767 non-null  object \n",
      " 8   condition            70343 non-null  object \n",
      " 9   ownership            91712 non-null  object \n",
      " 10  rent                 36397 non-null  float64\n",
      " 11  rent_currency        36397 non-null  object \n",
      " 12  lat                  91712 non-null  float64\n",
      " 13  long                 91712 non-null  float64\n",
      " 14  ad_price             86830 non-null  float64\n",
      " 15  price_currency       91712 non-null  object \n",
      " 16  city_name            91712 non-null  object \n",
      " 17  market               91712 non-null  object \n",
      " 18  region_name          91712 non-null  object \n",
      " 19  subregion_id         91712 non-null  object \n",
      " 20  area                 91712 non-null  float64\n",
      " 21  propertype           91712 non-null  object \n",
      " 22  user_type            91712 non-null  object \n",
      " 23  offertype            91712 non-null  object \n",
      " 24  free_from            13306 non-null  object \n",
      " 25  number_of_rooms      91712 non-null  int64  \n",
      " 26  number_of_floors     83861 non-null  float64\n",
      " 27  building_type        72648 non-null  object \n",
      " 28  windows_orientation  0 non-null      float64\n",
      " 29  dishwasher           91712 non-null  int64  \n",
      " 30  furniture            91712 non-null  int64  \n",
      " 31  oven                 91712 non-null  int64  \n",
      " 32  stove                91712 non-null  int64  \n",
      " 33  fridge               91712 non-null  int64  \n",
      " 34  washing_machine      91712 non-null  int64  \n",
      " 35  air_conditioning     91712 non-null  int64  \n",
      " 36  tv                   91712 non-null  int64  \n",
      " 37  balcony              91712 non-null  int64  \n",
      " 38  basement             91712 non-null  int64  \n",
      " 39  garage               91712 non-null  int64  \n",
      " 40  garden               91712 non-null  int64  \n",
      " 41  terrace              91712 non-null  int64  \n",
      " 42  usable_room          91712 non-null  int64  \n",
      " 43  INTERNET             91712 non-null  int64  \n",
      " 44  LIFT                 91712 non-null  int64  \n",
      " 45  ENTRYPHONE           91712 non-null  int64  \n",
      " 46  ALARM                91712 non-null  int64  \n",
      " 47  CLOSED_AREA          91712 non-null  int64  \n",
      " 48  ROLLER_SHUTTERS      91712 non-null  int64  \n",
      " 49  ANTI_BURGLARY_DOOR   91712 non-null  int64  \n",
      " 50  MONITORING           91712 non-null  int64  \n",
      " 51  cable-television     91712 non-null  int64  \n",
      " 52  phone                91712 non-null  int64  \n",
      " 53  cable_television     91712 non-null  int64  \n",
      " 54  electricity          91712 non-null  int64  \n",
      " 55  sewage               91712 non-null  int64  \n",
      " 56  water                91712 non-null  int64  \n",
      " 57  gas                  91712 non-null  int64  \n",
      " 58  separate_kitchen     91712 non-null  int64  \n",
      "dtypes: float64(10), int64(31), object(18)\n",
      "memory usage: 41.3+ MB\n"
     ]
    }
   ],
   "source": [
    "df.info()"
   ]
  },
  {
   "cell_type": "code",
   "execution_count": 22,
   "id": "2e748b2c-83c7-4994-b179-642d060e7e28",
   "metadata": {},
   "outputs": [
    {
     "data": {
      "text/plain": [
       "parking                1.000000\n",
       "rooms                  1.000000\n",
       "windows_orientation    1.000000\n",
       "free_from              0.854915\n",
       "rent                   0.603138\n",
       "rent_currency          0.603138\n",
       "material               0.515461\n",
       "street                 0.407689\n",
       "year                   0.262070\n",
       "condition              0.233001\n",
       "building_type          0.207868\n",
       "heating                0.152052\n",
       "number_of_floors       0.085605\n",
       "ad_price               0.053232\n",
       "floor                  0.022505\n",
       "garage                 0.000000\n",
       "garden                 0.000000\n",
       "ENTRYPHONE             0.000000\n",
       "terrace                0.000000\n",
       "usable_room            0.000000\n",
       "INTERNET               0.000000\n",
       "LIFT                   0.000000\n",
       "MONITORING             0.000000\n",
       "ALARM                  0.000000\n",
       "CLOSED_AREA            0.000000\n",
       "ROLLER_SHUTTERS        0.000000\n",
       "ANTI_BURGLARY_DOOR     0.000000\n",
       "balcony                0.000000\n",
       "cable-television       0.000000\n",
       "phone                  0.000000\n",
       "cable_television       0.000000\n",
       "electricity            0.000000\n",
       "sewage                 0.000000\n",
       "water                  0.000000\n",
       "gas                    0.000000\n",
       "basement               0.000000\n",
       "dishwasher             0.000000\n",
       "tv                     0.000000\n",
       "air_conditioning       0.000000\n",
       "windows                0.000000\n",
       "ownership              0.000000\n",
       "lat                    0.000000\n",
       "long                   0.000000\n",
       "price_currency         0.000000\n",
       "city_name              0.000000\n",
       "market                 0.000000\n",
       "region_name            0.000000\n",
       "subregion_id           0.000000\n",
       "area                   0.000000\n",
       "propertype             0.000000\n",
       "user_type              0.000000\n",
       "offertype              0.000000\n",
       "number_of_rooms        0.000000\n",
       "furniture              0.000000\n",
       "oven                   0.000000\n",
       "stove                  0.000000\n",
       "fridge                 0.000000\n",
       "washing_machine        0.000000\n",
       "separate_kitchen       0.000000\n",
       "dtype: float64"
      ]
     },
     "execution_count": 22,
     "metadata": {},
     "output_type": "execute_result"
    }
   ],
   "source": [
    "df.isnull().mean().sort_values(ascending=False)"
   ]
  },
  {
   "cell_type": "markdown",
   "id": "12dab1df-2dc4-4780-9d26-f5da9e6741e2",
   "metadata": {},
   "source": [
    "##### Analysis:\n",
    "- parking, rooms, windows_orientation, free_from, rent, rent_currency, material - over 50% of null values\n",
    "- propertype, offertype - only one unique value\n",
    "- street - 41% null values\n",
    "- year, condition, building_type, heating - less than 30% of null values\n",
    "- number_of_floors, ad_price, floor - less than 1% of null values\n",
    "##### Decision:\n",
    "- parking, rooms, windows_orientation, free_from, rent, rent_currency, material, propertype, offertype - drop entire columns\n",
    "- street, year, condition, building_type, heating, number_of_floors, ad_price, floor - dropna"
   ]
  },
  {
   "cell_type": "code",
   "execution_count": 23,
   "id": "7b11c271-8f50-4bcc-8adc-9e1402dd2da0",
   "metadata": {},
   "outputs": [],
   "source": [
    "df = df.drop(columns=['parking', 'rooms', 'windows_orientation', 'free_from', 'rent', 'rent_currency', 'material', 'propertype', 'offertype'])"
   ]
  },
  {
   "cell_type": "code",
   "execution_count": 24,
   "id": "6a37e277-787d-4b0a-9dea-f24124771061",
   "metadata": {},
   "outputs": [],
   "source": [
    "df.dropna(inplace=True)\n",
    "df.reset_index(inplace=True)"
   ]
  },
  {
   "cell_type": "code",
   "execution_count": 25,
   "id": "d5cd7832-beea-4016-a068-fb20e88ecc74",
   "metadata": {},
   "outputs": [
    {
     "name": "stdout",
     "output_type": "stream",
     "text": [
      "<class 'pandas.core.frame.DataFrame'>\n",
      "RangeIndex: 26230 entries, 0 to 26229\n",
      "Data columns (total 51 columns):\n",
      " #   Column              Non-Null Count  Dtype  \n",
      "---  ------              --------------  -----  \n",
      " 0   index               26230 non-null  int64  \n",
      " 1   street              26230 non-null  object \n",
      " 2   floor               26230 non-null  object \n",
      " 3   year                26230 non-null  float64\n",
      " 4   windows             26230 non-null  object \n",
      " 5   heating             26230 non-null  object \n",
      " 6   condition           26230 non-null  object \n",
      " 7   ownership           26230 non-null  object \n",
      " 8   lat                 26230 non-null  float64\n",
      " 9   long                26230 non-null  float64\n",
      " 10  ad_price            26230 non-null  float64\n",
      " 11  price_currency      26230 non-null  object \n",
      " 12  city_name           26230 non-null  object \n",
      " 13  market              26230 non-null  object \n",
      " 14  region_name         26230 non-null  object \n",
      " 15  subregion_id        26230 non-null  object \n",
      " 16  area                26230 non-null  float64\n",
      " 17  user_type           26230 non-null  object \n",
      " 18  number_of_rooms     26230 non-null  int64  \n",
      " 19  number_of_floors    26230 non-null  float64\n",
      " 20  building_type       26230 non-null  object \n",
      " 21  dishwasher          26230 non-null  int64  \n",
      " 22  furniture           26230 non-null  int64  \n",
      " 23  oven                26230 non-null  int64  \n",
      " 24  stove               26230 non-null  int64  \n",
      " 25  fridge              26230 non-null  int64  \n",
      " 26  washing_machine     26230 non-null  int64  \n",
      " 27  air_conditioning    26230 non-null  int64  \n",
      " 28  tv                  26230 non-null  int64  \n",
      " 29  balcony             26230 non-null  int64  \n",
      " 30  basement            26230 non-null  int64  \n",
      " 31  garage              26230 non-null  int64  \n",
      " 32  garden              26230 non-null  int64  \n",
      " 33  terrace             26230 non-null  int64  \n",
      " 34  usable_room         26230 non-null  int64  \n",
      " 35  INTERNET            26230 non-null  int64  \n",
      " 36  LIFT                26230 non-null  int64  \n",
      " 37  ENTRYPHONE          26230 non-null  int64  \n",
      " 38  ALARM               26230 non-null  int64  \n",
      " 39  CLOSED_AREA         26230 non-null  int64  \n",
      " 40  ROLLER_SHUTTERS     26230 non-null  int64  \n",
      " 41  ANTI_BURGLARY_DOOR  26230 non-null  int64  \n",
      " 42  MONITORING          26230 non-null  int64  \n",
      " 43  cable-television    26230 non-null  int64  \n",
      " 44  phone               26230 non-null  int64  \n",
      " 45  cable_television    26230 non-null  int64  \n",
      " 46  electricity         26230 non-null  int64  \n",
      " 47  sewage              26230 non-null  int64  \n",
      " 48  water               26230 non-null  int64  \n",
      " 49  gas                 26230 non-null  int64  \n",
      " 50  separate_kitchen    26230 non-null  int64  \n",
      "dtypes: float64(6), int64(32), object(13)\n",
      "memory usage: 10.2+ MB\n"
     ]
    }
   ],
   "source": [
    "df.info()"
   ]
  },
  {
   "cell_type": "code",
   "execution_count": null,
   "id": "c5cb6b48-59c2-40ae-94a3-56194fb167fa",
   "metadata": {},
   "outputs": [],
   "source": []
  }
 ],
 "metadata": {
  "kernelspec": {
   "display_name": "Python 3 (ipykernel)",
   "language": "python",
   "name": "python3"
  },
  "language_info": {
   "codemirror_mode": {
    "name": "ipython",
    "version": 3
   },
   "file_extension": ".py",
   "mimetype": "text/x-python",
   "name": "python",
   "nbconvert_exporter": "python",
   "pygments_lexer": "ipython3",
   "version": "3.11.3"
  }
 },
 "nbformat": 4,
 "nbformat_minor": 5
}
