{
 "cells": [
  {
   "cell_type": "markdown",
   "id": "969500ce-4245-4cef-98af-20b00c4c0c41",
   "metadata": {},
   "source": [
    "# Data Collection"
   ]
  },
  {
   "cell_type": "markdown",
   "id": "a5b3be07-6888-4269-8c21-1d075d38edfe",
   "metadata": {},
   "source": [
    "### Downloading data"
   ]
  },
  {
   "cell_type": "code",
   "execution_count": 789,
   "id": "7f4956ef-2f6d-4b02-8b67-843931360551",
   "metadata": {},
   "outputs": [],
   "source": [
    "# python download_data.py"
   ]
  },
  {
   "cell_type": "markdown",
   "id": "1d239125-3b66-4c36-8538-35c0ab9d16b4",
   "metadata": {},
   "source": [
    "### Combining data from all chunks into one file"
   ]
  },
  {
   "cell_type": "code",
   "execution_count": 790,
   "id": "21eeabbb-ab09-45a2-bb5a-0b8e7e0d1eae",
   "metadata": {},
   "outputs": [],
   "source": [
    "# cat data/offers_data*.txt | grep -v '\"error\"' > data/offers_data.txt"
   ]
  },
  {
   "cell_type": "markdown",
   "id": "0f01775f-f126-43d6-8b06-c5286271bb4e",
   "metadata": {},
   "source": [
    "# Data Cleaning & Preparation"
   ]
  },
  {
   "cell_type": "markdown",
   "id": "7f65038e-ebb7-4171-a467-31cd27e5a421",
   "metadata": {},
   "source": [
    "### Importing libraries and configuring settings"
   ]
  },
  {
   "cell_type": "code",
   "execution_count": 791,
   "id": "5a132571-8d77-4378-ba5a-a8f3f99dac26",
   "metadata": {},
   "outputs": [],
   "source": [
    "import numpy as np\n",
    "import matplotlib.pyplot as plt \n",
    "import pandas as pd\n",
    "\n",
    "from math import ceil"
   ]
  },
  {
   "cell_type": "code",
   "execution_count": 792,
   "id": "5333d359-bd4c-48c4-b02d-bee3c7a2ef6a",
   "metadata": {},
   "outputs": [],
   "source": [
    "pd.set_option('display.max_columns', None)"
   ]
  },
  {
   "cell_type": "markdown",
   "id": "d340c7a4-b0f3-4e58-a41b-9f116ef1a595",
   "metadata": {},
   "source": [
    "### Loading and reviewing data"
   ]
  },
  {
   "cell_type": "code",
   "execution_count": 793,
   "id": "450b7f5b-205e-4243-ba92-50cc4c40de09",
   "metadata": {},
   "outputs": [],
   "source": [
    "df = pd.read_json('data/offers_data.txt', lines=True)"
   ]
  },
  {
   "cell_type": "code",
   "execution_count": 794,
   "id": "6f61a90d-0a39-48d8-be31-0a97bfa0b938",
   "metadata": {},
   "outputs": [
    {
     "name": "stdout",
     "output_type": "stream",
     "text": [
      "<class 'pandas.core.frame.DataFrame'>\n",
      "RangeIndex: 91712 entries, 0 to 91711\n",
      "Data columns (total 36 columns):\n",
      " #   Column              Non-Null Count  Dtype  \n",
      "---  ------              --------------  -----  \n",
      " 0   street              54322 non-null  object \n",
      " 1   equipment           27034 non-null  object \n",
      " 2   areas               79487 non-null  object \n",
      " 3   floor               89648 non-null  object \n",
      " 4   kitchen             17296 non-null  object \n",
      " 5   parking             0 non-null      float64\n",
      " 6   numberOfRooms       91712 non-null  int64  \n",
      " 7   rooms               0 non-null      float64\n",
      " 8   type                72648 non-null  object \n",
      " 9   windowsOrientation  0 non-null      float64\n",
      " 10  year                67677 non-null  float64\n",
      " 11  material            44438 non-null  object \n",
      " 12  windows             54138 non-null  object \n",
      " 13  heating             65621 non-null  object \n",
      " 14  numberOfFloors      83861 non-null  float64\n",
      " 15  conveniences        58185 non-null  object \n",
      " 16  security            50992 non-null  object \n",
      " 17  condition           70343 non-null  object \n",
      " 18  ownership           69554 non-null  object \n",
      " 19  rent                36397 non-null  float64\n",
      " 20  rent_currency       36397 non-null  object \n",
      " 21  lat                 91712 non-null  float64\n",
      " 22  long                91712 non-null  float64\n",
      " 23  ad_price            86830 non-null  float64\n",
      " 24  price_currency      91712 non-null  object \n",
      " 25  city_name           91712 non-null  object \n",
      " 26  market              91712 non-null  object \n",
      " 27  region_name         91712 non-null  object \n",
      " 28  subregion_id        91712 non-null  object \n",
      " 29  area                91712 non-null  float64\n",
      " 30  media_types         39129 non-null  object \n",
      " 31  propertype          91712 non-null  object \n",
      " 32  user_type           91712 non-null  object \n",
      " 33  offertype           91712 non-null  object \n",
      " 34  free_from           13306 non-null  object \n",
      " 35  lift                84387 non-null  object \n",
      "dtypes: float64(10), int64(1), object(25)\n",
      "memory usage: 25.2+ MB\n"
     ]
    }
   ],
   "source": [
    "df.info()"
   ]
  },
  {
   "cell_type": "code",
   "execution_count": 795,
   "id": "6c11049b-9428-4dd3-9b30-126d0a61a281",
   "metadata": {},
   "outputs": [
    {
     "data": {
      "text/plain": [
       "parking               1.000000\n",
       "rooms                 1.000000\n",
       "windowsOrientation    1.000000\n",
       "free_from             0.854915\n",
       "kitchen               0.811410\n",
       "equipment             0.705229\n",
       "rent_currency         0.603138\n",
       "rent                  0.603138\n",
       "media_types           0.573349\n",
       "material              0.515461\n",
       "security              0.443999\n",
       "windows               0.409696\n",
       "street                0.407689\n",
       "conveniences          0.365568\n",
       "heating               0.284488\n",
       "year                  0.262070\n",
       "ownership             0.241604\n",
       "condition             0.233001\n",
       "type                  0.207868\n",
       "areas                 0.133298\n",
       "numberOfFloors        0.085605\n",
       "lift                  0.079870\n",
       "ad_price              0.053232\n",
       "floor                 0.022505\n",
       "long                  0.000000\n",
       "price_currency        0.000000\n",
       "city_name             0.000000\n",
       "lat                   0.000000\n",
       "region_name           0.000000\n",
       "subregion_id          0.000000\n",
       "area                  0.000000\n",
       "propertype            0.000000\n",
       "user_type             0.000000\n",
       "offertype             0.000000\n",
       "numberOfRooms         0.000000\n",
       "market                0.000000\n",
       "dtype: float64"
      ]
     },
     "execution_count": 795,
     "metadata": {},
     "output_type": "execute_result"
    }
   ],
   "source": [
    "df.isnull().mean().sort_values(ascending=False)"
   ]
  },
  {
   "cell_type": "markdown",
   "id": "7fb514df-82b3-4f91-9e48-e1ea352ac904",
   "metadata": {},
   "source": [
    "- renaming columns"
   ]
  },
  {
   "cell_type": "code",
   "execution_count": 796,
   "id": "a9dfd131-75d7-401d-a5f7-d60fc5649c6c",
   "metadata": {},
   "outputs": [],
   "source": [
    "df['number_of_rooms'] = df.numberOfRooms\n",
    "df['number_of_floors'] = df.numberOfFloors\n",
    "df['building_type'] = df.type\n",
    "df['windows_orientation'] = df.windowsOrientation\n",
    "df = df.drop(columns=['numberOfRooms', 'numberOfFloors', 'type', 'windowsOrientation'])"
   ]
  },
  {
   "cell_type": "markdown",
   "id": "16ef035f-035e-413f-83f9-2c7a69db6bce",
   "metadata": {},
   "source": [
    "### Imputing missing values"
   ]
  },
  {
   "cell_type": "markdown",
   "id": "59cfc18d-0c7f-4a10-9f76-d5b927164e9f",
   "metadata": {},
   "source": [
    "#### equipment, areas, conveniences, security, media_types"
   ]
  },
  {
   "cell_type": "markdown",
   "id": "af95bc34-ec8a-411b-ba52-4d151c2cda28",
   "metadata": {},
   "source": [
    "**Analysis:**\n",
    "- columns with list-like comma-separated string values\n",
    "\n",
    "**Decision:**\n",
    "- create separate column for each unique characteristic\n",
    "- treat null values as lacking of specific characteristic"
   ]
  },
  {
   "cell_type": "code",
   "execution_count": 797,
   "id": "76bce761-fed2-463c-8a83-dfa70f767ff7",
   "metadata": {},
   "outputs": [],
   "source": [
    "multiple_values_columns = ['equipment', 'areas', 'conveniences', 'security', 'media_types']\n",
    "for column in multiple_values_columns:\n",
    "    types = df[column].dropna().apply(lambda x: x.split(', ') if x else None).explode().unique()\n",
    "    for t in types:\n",
    "        df[t] = df[column].apply(lambda x: 1 if x is not None and t in x else 0)\n",
    "df = df.drop(columns=multiple_values_columns)"
   ]
  },
  {
   "cell_type": "markdown",
   "id": "b1a90932-8b7d-4bda-bc97-43f14317e053",
   "metadata": {},
   "source": [
    "- removing duplicated columns added during creation"
   ]
  },
  {
   "cell_type": "code",
   "execution_count": 798,
   "id": "31e39c32-4702-44be-97d2-54790914833b",
   "metadata": {},
   "outputs": [
    {
     "data": {
      "text/plain": [
       "True"
      ]
     },
     "execution_count": 798,
     "metadata": {},
     "output_type": "execute_result"
    }
   ],
   "source": [
    "(df['INTERNET'] == df['internet']).all()"
   ]
  },
  {
   "cell_type": "code",
   "execution_count": 799,
   "id": "7fc026ed-23b0-4834-b9eb-cfdac5b90590",
   "metadata": {},
   "outputs": [],
   "source": [
    "df = df.drop(columns=['internet'])"
   ]
  },
  {
   "cell_type": "code",
   "execution_count": 800,
   "id": "a72ec7c4-4d6f-4c56-9b59-857b3e05299c",
   "metadata": {},
   "outputs": [
    {
     "data": {
      "text/plain": [
       "True"
      ]
     },
     "execution_count": 800,
     "metadata": {},
     "output_type": "execute_result"
    }
   ],
   "source": [
    "df.loc[df['lift'].isnull(), 'lift'] = df['LIFT']\n",
    "df['lift'].replace({'y': 1, 'n': 0}, inplace=True)\n",
    "(df['LIFT'] == df['lift']).all()"
   ]
  },
  {
   "cell_type": "code",
   "execution_count": 801,
   "id": "391351ec-41f7-4f94-b8b2-e70ddf953fac",
   "metadata": {},
   "outputs": [],
   "source": [
    "df = df.drop(columns=['lift'])"
   ]
  },
  {
   "cell_type": "markdown",
   "id": "953025d6-6661-4f19-860e-2d70611a0fa9",
   "metadata": {},
   "source": [
    "#### kitchen"
   ]
  },
  {
   "cell_type": "code",
   "execution_count": 802,
   "id": "23698dba-1535-44dd-a2f3-e0104a1edcdd",
   "metadata": {},
   "outputs": [
    {
     "data": {
      "text/plain": [
       "array([None, 'SEPARATE'], dtype=object)"
      ]
     },
     "execution_count": 802,
     "metadata": {},
     "output_type": "execute_result"
    }
   ],
   "source": [
    "df.kitchen.unique()"
   ]
  },
  {
   "cell_type": "markdown",
   "id": "5bea9031-955b-4f62-a66b-47efa31e7d10",
   "metadata": {},
   "source": [
    "**Analysis:**\n",
    "- only one unique value is present: SEPERATE\n",
    "\n",
    "**Decision:**\n",
    "- create separate_kitchen column with values:\n",
    "  - 0 - non-separate\n",
    "  - 1 - separate \n",
    "- treat null values as 0 - non-separate"
   ]
  },
  {
   "cell_type": "code",
   "execution_count": 803,
   "id": "7435307a-e4f2-4769-b256-d2b1055ae7ae",
   "metadata": {},
   "outputs": [],
   "source": [
    "df['separate_kitchen'] = df.kitchen.map(lambda k: 1 if k else 0)\n",
    "df = df.drop(columns=['kitchen'])"
   ]
  },
  {
   "cell_type": "markdown",
   "id": "14c2edd2-d893-404b-9869-c2a2fe79316b",
   "metadata": {},
   "source": [
    "### heating"
   ]
  },
  {
   "cell_type": "code",
   "execution_count": 804,
   "id": "ed24a43d-8746-42fc-8d75-363b34cf6689",
   "metadata": {},
   "outputs": [
    {
     "data": {
      "text/plain": [
       "building_type  heating    \n",
       "APARTMENT      URBAN          0.735046\n",
       "               GAS            0.148202\n",
       "               OTHER          0.071283\n",
       "               BOILER_ROOM    0.028369\n",
       "               ELECTRICAL     0.016969\n",
       "               TILED_STOVE    0.000131\n",
       "BLOCK          URBAN          0.806867\n",
       "               GAS            0.114169\n",
       "               OTHER          0.046790\n",
       "               BOILER_ROOM    0.022180\n",
       "               ELECTRICAL     0.008734\n",
       "               TILED_STOVE    0.001261\n",
       "HOUSE          GAS            0.540778\n",
       "               OTHER          0.210790\n",
       "               URBAN          0.114806\n",
       "               BOILER_ROOM    0.064617\n",
       "               ELECTRICAL     0.056462\n",
       "               TILED_STOVE    0.012547\n",
       "INFILL         URBAN          0.855263\n",
       "               GAS            0.078947\n",
       "               BOILER_ROOM    0.039474\n",
       "               OTHER          0.013158\n",
       "               ELECTRICAL     0.013158\n",
       "LOFT           URBAN          0.808219\n",
       "               GAS            0.164384\n",
       "               BOILER_ROOM    0.027397\n",
       "RIBBON         GAS            0.753792\n",
       "               OTHER          0.121354\n",
       "               URBAN          0.071762\n",
       "               ELECTRICAL     0.039090\n",
       "               BOILER_ROOM    0.011669\n",
       "               TILED_STOVE    0.002334\n",
       "TENEMENT       GAS            0.447714\n",
       "               URBAN          0.311001\n",
       "               ELECTRICAL     0.103509\n",
       "               OTHER          0.093702\n",
       "               BOILER_ROOM    0.022096\n",
       "               TILED_STOVE    0.021978\n",
       "Name: proportion, dtype: float64"
      ]
     },
     "execution_count": 804,
     "metadata": {},
     "output_type": "execute_result"
    }
   ],
   "source": [
    "building_type_grp = df.groupby(['building_type'])\n",
    "building_type_grp['heating'].value_counts(normalize=True)"
   ]
  },
  {
   "cell_type": "markdown",
   "id": "13183079-ee28-43b8-bb4b-06d326b02c4f",
   "metadata": {},
   "source": [
    "**Analysis:**\n",
    "- 28% of values are null\n",
    "- different building types generally exhibit a preference for specific heating types over others\n",
    "\n",
    "**Decision**: \n",
    "- fillna using the mode value associated with each building type\n",
    "- if obtaining the mode value for a specific building type is not possible, use the mode value corresponding to the entire dataset"
   ]
  },
  {
   "cell_type": "code",
   "execution_count": 805,
   "id": "d17a74e2-d76e-4e65-828d-29263d568535",
   "metadata": {},
   "outputs": [],
   "source": [
    "for building_type in df.building_type.dropna().unique():\n",
    "    heating_mode = df[df['building_type'] == building_type]['heating'].mode()\n",
    "    heating_mode = heating_mode[0] if heating_mode.any() else df['heating'].mode()[0]\n",
    "    df.loc[df['building_type'] == building_type, 'heating'] = df['heating'].fillna(heating_mode)"
   ]
  },
  {
   "cell_type": "markdown",
   "id": "a3841958-e186-421f-8a8b-7ba0bb612138",
   "metadata": {},
   "source": [
    "### windows, ownership"
   ]
  },
  {
   "cell_type": "code",
   "execution_count": 806,
   "id": "b472ac3a-7d68-4ee7-a47b-0e70304e41a5",
   "metadata": {},
   "outputs": [
    {
     "data": {
      "text/plain": [
       "windows\n",
       "PLASTIC      0.920444\n",
       "WOODEN       0.065259\n",
       "ALUMINIUM    0.014297\n",
       "Name: proportion, dtype: float64"
      ]
     },
     "execution_count": 806,
     "metadata": {},
     "output_type": "execute_result"
    }
   ],
   "source": [
    "df.windows.value_counts(normalize=True)"
   ]
  },
  {
   "cell_type": "code",
   "execution_count": 807,
   "id": "1f992abe-0169-42cd-ae69-19f5f515dff7",
   "metadata": {},
   "outputs": [
    {
     "data": {
      "text/plain": [
       "ownership\n",
       "FULL_OWNERSHIP            0.948874\n",
       "LIMITED_OWNERSHIP         0.046266\n",
       "SHARE                     0.004026\n",
       "USUFRUCT                  0.000820\n",
       "CO_OPERATIVE_OWNERSHIP    0.000014\n",
       "Name: proportion, dtype: float64"
      ]
     },
     "execution_count": 807,
     "metadata": {},
     "output_type": "execute_result"
    }
   ],
   "source": [
    "df.ownership.value_counts(normalize=True)"
   ]
  },
  {
   "cell_type": "markdown",
   "id": "07b13a99-b422-4c07-8c19-ed7c155e307a",
   "metadata": {},
   "source": [
    "**Analysis:**\n",
    "- one value significantly dominates, representing over 90% of occurrences compared to the others\n",
    "\n",
    "**Decision:** \n",
    "- fillna using the mode value corresponding to the entire dataset"
   ]
  },
  {
   "cell_type": "code",
   "execution_count": 808,
   "id": "dfb234c9-5c04-4ecb-a31a-e84d01068b5a",
   "metadata": {},
   "outputs": [],
   "source": [
    "df.windows.fillna(df.windows.mode()[0], inplace=True)\n",
    "df.ownership.fillna(df.ownership.mode()[0], inplace=True)"
   ]
  },
  {
   "cell_type": "markdown",
   "id": "08463d5c-d5b1-4402-99bf-d39fa1420aa6",
   "metadata": {},
   "source": [
    "### parking, rooms, windows_orientation, free_from, rent, rent_currency, material, street, year, condition, building_type, number_of_floors, ad_price, floor\n",
    "\n",
    "**Analysis:**\n",
    "- no resonable methods of imputation where identified"
   ]
  },
  {
   "cell_type": "code",
   "execution_count": null,
   "id": "6e7c49f5-fe68-4ec5-8ae5-9d289d5359cf",
   "metadata": {},
   "outputs": [],
   "source": []
  },
  {
   "cell_type": "markdown",
   "id": "6c591b40-52da-4331-b8d3-089edc2b2d73",
   "metadata": {},
   "source": [
    "## Cleaning data"
   ]
  },
  {
   "cell_type": "code",
   "execution_count": 809,
   "id": "269d81ed-4f60-41ec-8680-6a23d10fb441",
   "metadata": {},
   "outputs": [
    {
     "name": "stdout",
     "output_type": "stream",
     "text": [
      "<class 'pandas.core.frame.DataFrame'>\n",
      "RangeIndex: 91712 entries, 0 to 91711\n",
      "Data columns (total 59 columns):\n",
      " #   Column               Non-Null Count  Dtype  \n",
      "---  ------               --------------  -----  \n",
      " 0   street               54322 non-null  object \n",
      " 1   floor                89648 non-null  object \n",
      " 2   parking              0 non-null      float64\n",
      " 3   rooms                0 non-null      float64\n",
      " 4   year                 67677 non-null  float64\n",
      " 5   material             44438 non-null  object \n",
      " 6   windows              91712 non-null  object \n",
      " 7   heating              77767 non-null  object \n",
      " 8   condition            70343 non-null  object \n",
      " 9   ownership            91712 non-null  object \n",
      " 10  rent                 36397 non-null  float64\n",
      " 11  rent_currency        36397 non-null  object \n",
      " 12  lat                  91712 non-null  float64\n",
      " 13  long                 91712 non-null  float64\n",
      " 14  ad_price             86830 non-null  float64\n",
      " 15  price_currency       91712 non-null  object \n",
      " 16  city_name            91712 non-null  object \n",
      " 17  market               91712 non-null  object \n",
      " 18  region_name          91712 non-null  object \n",
      " 19  subregion_id         91712 non-null  object \n",
      " 20  area                 91712 non-null  float64\n",
      " 21  propertype           91712 non-null  object \n",
      " 22  user_type            91712 non-null  object \n",
      " 23  offertype            91712 non-null  object \n",
      " 24  free_from            13306 non-null  object \n",
      " 25  number_of_rooms      91712 non-null  int64  \n",
      " 26  number_of_floors     83861 non-null  float64\n",
      " 27  building_type        72648 non-null  object \n",
      " 28  windows_orientation  0 non-null      float64\n",
      " 29  dishwasher           91712 non-null  int64  \n",
      " 30  furniture            91712 non-null  int64  \n",
      " 31  oven                 91712 non-null  int64  \n",
      " 32  stove                91712 non-null  int64  \n",
      " 33  fridge               91712 non-null  int64  \n",
      " 34  washing_machine      91712 non-null  int64  \n",
      " 35  air_conditioning     91712 non-null  int64  \n",
      " 36  tv                   91712 non-null  int64  \n",
      " 37  balcony              91712 non-null  int64  \n",
      " 38  basement             91712 non-null  int64  \n",
      " 39  garage               91712 non-null  int64  \n",
      " 40  garden               91712 non-null  int64  \n",
      " 41  terrace              91712 non-null  int64  \n",
      " 42  usable_room          91712 non-null  int64  \n",
      " 43  INTERNET             91712 non-null  int64  \n",
      " 44  LIFT                 91712 non-null  int64  \n",
      " 45  ENTRYPHONE           91712 non-null  int64  \n",
      " 46  ALARM                91712 non-null  int64  \n",
      " 47  CLOSED_AREA          91712 non-null  int64  \n",
      " 48  ROLLER_SHUTTERS      91712 non-null  int64  \n",
      " 49  ANTI_BURGLARY_DOOR   91712 non-null  int64  \n",
      " 50  MONITORING           91712 non-null  int64  \n",
      " 51  cable-television     91712 non-null  int64  \n",
      " 52  phone                91712 non-null  int64  \n",
      " 53  cable_television     91712 non-null  int64  \n",
      " 54  electricity          91712 non-null  int64  \n",
      " 55  sewage               91712 non-null  int64  \n",
      " 56  water                91712 non-null  int64  \n",
      " 57  gas                  91712 non-null  int64  \n",
      " 58  separate_kitchen     91712 non-null  int64  \n",
      "dtypes: float64(10), int64(31), object(18)\n",
      "memory usage: 41.3+ MB\n"
     ]
    }
   ],
   "source": [
    "df.info()"
   ]
  },
  {
   "cell_type": "code",
   "execution_count": 810,
   "id": "2e748b2c-83c7-4994-b179-642d060e7e28",
   "metadata": {},
   "outputs": [
    {
     "data": {
      "text/plain": [
       "parking                1.000000\n",
       "rooms                  1.000000\n",
       "windows_orientation    1.000000\n",
       "free_from              0.854915\n",
       "rent                   0.603138\n",
       "rent_currency          0.603138\n",
       "material               0.515461\n",
       "street                 0.407689\n",
       "year                   0.262070\n",
       "condition              0.233001\n",
       "building_type          0.207868\n",
       "heating                0.152052\n",
       "number_of_floors       0.085605\n",
       "ad_price               0.053232\n",
       "floor                  0.022505\n",
       "garage                 0.000000\n",
       "garden                 0.000000\n",
       "ENTRYPHONE             0.000000\n",
       "terrace                0.000000\n",
       "usable_room            0.000000\n",
       "INTERNET               0.000000\n",
       "LIFT                   0.000000\n",
       "MONITORING             0.000000\n",
       "ALARM                  0.000000\n",
       "CLOSED_AREA            0.000000\n",
       "ROLLER_SHUTTERS        0.000000\n",
       "ANTI_BURGLARY_DOOR     0.000000\n",
       "balcony                0.000000\n",
       "cable-television       0.000000\n",
       "phone                  0.000000\n",
       "cable_television       0.000000\n",
       "electricity            0.000000\n",
       "sewage                 0.000000\n",
       "water                  0.000000\n",
       "gas                    0.000000\n",
       "basement               0.000000\n",
       "dishwasher             0.000000\n",
       "tv                     0.000000\n",
       "air_conditioning       0.000000\n",
       "windows                0.000000\n",
       "ownership              0.000000\n",
       "lat                    0.000000\n",
       "long                   0.000000\n",
       "price_currency         0.000000\n",
       "city_name              0.000000\n",
       "market                 0.000000\n",
       "region_name            0.000000\n",
       "subregion_id           0.000000\n",
       "area                   0.000000\n",
       "propertype             0.000000\n",
       "user_type              0.000000\n",
       "offertype              0.000000\n",
       "number_of_rooms        0.000000\n",
       "furniture              0.000000\n",
       "oven                   0.000000\n",
       "stove                  0.000000\n",
       "fridge                 0.000000\n",
       "washing_machine        0.000000\n",
       "separate_kitchen       0.000000\n",
       "dtype: float64"
      ]
     },
     "execution_count": 810,
     "metadata": {},
     "output_type": "execute_result"
    }
   ],
   "source": [
    "df.isnull().mean().sort_values(ascending=False)"
   ]
  },
  {
   "cell_type": "code",
   "execution_count": 811,
   "id": "c206a6b3-4650-43d3-9f01-c77b720a4f53",
   "metadata": {},
   "outputs": [
    {
     "data": {
      "text/plain": [
       "['propertype', 'offertype']"
      ]
     },
     "execution_count": 811,
     "metadata": {},
     "output_type": "execute_result"
    }
   ],
   "source": [
    "unique_counts = df.nunique()\n",
    "columns_with_one_unique_value = unique_counts[unique_counts == 1].index.tolist()\n",
    "columns_with_one_unique_value"
   ]
  },
  {
   "cell_type": "markdown",
   "id": "12dab1df-2dc4-4780-9d26-f5da9e6741e2",
   "metadata": {},
   "source": [
    "##### Analysis:\n",
    "- parking, rooms, windows_orientation, free_from, rent, rent_currency, material - over 50% of null values\n",
    "- price_currency, propertype, offertype - only one unique value\n",
    "- street - 41% null values\n",
    "- year, condition, building_type, heating - less than 30% of null values\n",
    "- number_of_floors, ad_price, floor - less than 1% of null values\n",
    "##### Decision:\n",
    "- parking, rooms, windows_orientation, free_from, rent, rent_currency, material, propertype, offertype - drop entire columns\n",
    "- street, year, condition, building_type, heating, number_of_floors, ad_price, floor - dropna"
   ]
  },
  {
   "cell_type": "code",
   "execution_count": 812,
   "id": "7b11c271-8f50-4bcc-8adc-9e1402dd2da0",
   "metadata": {},
   "outputs": [],
   "source": [
    "df = df.drop(columns=['parking', 'rooms', 'windows_orientation', 'free_from', 'rent', 'rent_currency', 'material', 'propertype', 'offertype'])"
   ]
  },
  {
   "cell_type": "code",
   "execution_count": 813,
   "id": "6a37e277-787d-4b0a-9dea-f24124771061",
   "metadata": {},
   "outputs": [],
   "source": [
    "df.dropna(inplace=True)\n",
    "df.reset_index(drop=True, inplace=True)"
   ]
  },
  {
   "cell_type": "code",
   "execution_count": 814,
   "id": "d5cd7832-beea-4016-a068-fb20e88ecc74",
   "metadata": {},
   "outputs": [
    {
     "name": "stdout",
     "output_type": "stream",
     "text": [
      "<class 'pandas.core.frame.DataFrame'>\n",
      "RangeIndex: 26230 entries, 0 to 26229\n",
      "Data columns (total 50 columns):\n",
      " #   Column              Non-Null Count  Dtype  \n",
      "---  ------              --------------  -----  \n",
      " 0   street              26230 non-null  object \n",
      " 1   floor               26230 non-null  object \n",
      " 2   year                26230 non-null  float64\n",
      " 3   windows             26230 non-null  object \n",
      " 4   heating             26230 non-null  object \n",
      " 5   condition           26230 non-null  object \n",
      " 6   ownership           26230 non-null  object \n",
      " 7   lat                 26230 non-null  float64\n",
      " 8   long                26230 non-null  float64\n",
      " 9   ad_price            26230 non-null  float64\n",
      " 10  price_currency      26230 non-null  object \n",
      " 11  city_name           26230 non-null  object \n",
      " 12  market              26230 non-null  object \n",
      " 13  region_name         26230 non-null  object \n",
      " 14  subregion_id        26230 non-null  object \n",
      " 15  area                26230 non-null  float64\n",
      " 16  user_type           26230 non-null  object \n",
      " 17  number_of_rooms     26230 non-null  int64  \n",
      " 18  number_of_floors    26230 non-null  float64\n",
      " 19  building_type       26230 non-null  object \n",
      " 20  dishwasher          26230 non-null  int64  \n",
      " 21  furniture           26230 non-null  int64  \n",
      " 22  oven                26230 non-null  int64  \n",
      " 23  stove               26230 non-null  int64  \n",
      " 24  fridge              26230 non-null  int64  \n",
      " 25  washing_machine     26230 non-null  int64  \n",
      " 26  air_conditioning    26230 non-null  int64  \n",
      " 27  tv                  26230 non-null  int64  \n",
      " 28  balcony             26230 non-null  int64  \n",
      " 29  basement            26230 non-null  int64  \n",
      " 30  garage              26230 non-null  int64  \n",
      " 31  garden              26230 non-null  int64  \n",
      " 32  terrace             26230 non-null  int64  \n",
      " 33  usable_room         26230 non-null  int64  \n",
      " 34  INTERNET            26230 non-null  int64  \n",
      " 35  LIFT                26230 non-null  int64  \n",
      " 36  ENTRYPHONE          26230 non-null  int64  \n",
      " 37  ALARM               26230 non-null  int64  \n",
      " 38  CLOSED_AREA         26230 non-null  int64  \n",
      " 39  ROLLER_SHUTTERS     26230 non-null  int64  \n",
      " 40  ANTI_BURGLARY_DOOR  26230 non-null  int64  \n",
      " 41  MONITORING          26230 non-null  int64  \n",
      " 42  cable-television    26230 non-null  int64  \n",
      " 43  phone               26230 non-null  int64  \n",
      " 44  cable_television    26230 non-null  int64  \n",
      " 45  electricity         26230 non-null  int64  \n",
      " 46  sewage              26230 non-null  int64  \n",
      " 47  water               26230 non-null  int64  \n",
      " 48  gas                 26230 non-null  int64  \n",
      " 49  separate_kitchen    26230 non-null  int64  \n",
      "dtypes: float64(6), int64(31), object(13)\n",
      "memory usage: 10.0+ MB\n"
     ]
    }
   ],
   "source": [
    "df.info()"
   ]
  },
  {
   "cell_type": "code",
   "execution_count": 815,
   "id": "48704b3c-04a8-47d3-92d0-60ba549066be",
   "metadata": {},
   "outputs": [
    {
     "data": {
      "text/plain": [
       "['cable_television', 'electricity', 'sewage', 'water', 'gas']"
      ]
     },
     "execution_count": 815,
     "metadata": {},
     "output_type": "execute_result"
    }
   ],
   "source": [
    "unique_counts = df.nunique()\n",
    "columns_with_one_unique_value = unique_counts[unique_counts == 1].index.tolist()\n",
    "columns_with_one_unique_value"
   ]
  },
  {
   "cell_type": "code",
   "execution_count": 816,
   "id": "c263b925-5e9c-4375-b3a1-96ed90d339fb",
   "metadata": {},
   "outputs": [],
   "source": [
    "df = df.drop(columns=columns_with_one_unique_value)"
   ]
  },
  {
   "cell_type": "code",
   "execution_count": 817,
   "id": "e7dbc34f-ca68-4358-8b6f-74439a82bee4",
   "metadata": {},
   "outputs": [
    {
     "name": "stdout",
     "output_type": "stream",
     "text": [
      "<class 'pandas.core.frame.DataFrame'>\n",
      "RangeIndex: 26230 entries, 0 to 26229\n",
      "Data columns (total 45 columns):\n",
      " #   Column              Non-Null Count  Dtype  \n",
      "---  ------              --------------  -----  \n",
      " 0   street              26230 non-null  object \n",
      " 1   floor               26230 non-null  object \n",
      " 2   year                26230 non-null  float64\n",
      " 3   windows             26230 non-null  object \n",
      " 4   heating             26230 non-null  object \n",
      " 5   condition           26230 non-null  object \n",
      " 6   ownership           26230 non-null  object \n",
      " 7   lat                 26230 non-null  float64\n",
      " 8   long                26230 non-null  float64\n",
      " 9   ad_price            26230 non-null  float64\n",
      " 10  price_currency      26230 non-null  object \n",
      " 11  city_name           26230 non-null  object \n",
      " 12  market              26230 non-null  object \n",
      " 13  region_name         26230 non-null  object \n",
      " 14  subregion_id        26230 non-null  object \n",
      " 15  area                26230 non-null  float64\n",
      " 16  user_type           26230 non-null  object \n",
      " 17  number_of_rooms     26230 non-null  int64  \n",
      " 18  number_of_floors    26230 non-null  float64\n",
      " 19  building_type       26230 non-null  object \n",
      " 20  dishwasher          26230 non-null  int64  \n",
      " 21  furniture           26230 non-null  int64  \n",
      " 22  oven                26230 non-null  int64  \n",
      " 23  stove               26230 non-null  int64  \n",
      " 24  fridge              26230 non-null  int64  \n",
      " 25  washing_machine     26230 non-null  int64  \n",
      " 26  air_conditioning    26230 non-null  int64  \n",
      " 27  tv                  26230 non-null  int64  \n",
      " 28  balcony             26230 non-null  int64  \n",
      " 29  basement            26230 non-null  int64  \n",
      " 30  garage              26230 non-null  int64  \n",
      " 31  garden              26230 non-null  int64  \n",
      " 32  terrace             26230 non-null  int64  \n",
      " 33  usable_room         26230 non-null  int64  \n",
      " 34  INTERNET            26230 non-null  int64  \n",
      " 35  LIFT                26230 non-null  int64  \n",
      " 36  ENTRYPHONE          26230 non-null  int64  \n",
      " 37  ALARM               26230 non-null  int64  \n",
      " 38  CLOSED_AREA         26230 non-null  int64  \n",
      " 39  ROLLER_SHUTTERS     26230 non-null  int64  \n",
      " 40  ANTI_BURGLARY_DOOR  26230 non-null  int64  \n",
      " 41  MONITORING          26230 non-null  int64  \n",
      " 42  cable-television    26230 non-null  int64  \n",
      " 43  phone               26230 non-null  int64  \n",
      " 44  separate_kitchen    26230 non-null  int64  \n",
      "dtypes: float64(6), int64(26), object(13)\n",
      "memory usage: 9.0+ MB\n"
     ]
    }
   ],
   "source": [
    "df.info()"
   ]
  },
  {
   "cell_type": "markdown",
   "id": "8aaad116-bce1-42c4-b925-cde9e85bee6a",
   "metadata": {},
   "source": [
    "# Exploratory Data Analysis"
   ]
  },
  {
   "cell_type": "markdown",
   "id": "fa4afd10-7f55-4dfb-98b1-64ce3765956b",
   "metadata": {},
   "source": [
    "## Categorical columns"
   ]
  },
  {
   "cell_type": "code",
   "execution_count": 818,
   "id": "de443746-0cc5-4926-8f85-263616614897",
   "metadata": {},
   "outputs": [
    {
     "data": {
      "text/plain": [
       "['street',\n",
       " 'floor',\n",
       " 'windows',\n",
       " 'heating',\n",
       " 'condition',\n",
       " 'ownership',\n",
       " 'price_currency',\n",
       " 'city_name',\n",
       " 'market',\n",
       " 'region_name',\n",
       " 'subregion_id',\n",
       " 'user_type',\n",
       " 'building_type']"
      ]
     },
     "execution_count": 818,
     "metadata": {},
     "output_type": "execute_result"
    }
   ],
   "source": [
    "categorical_columns = df.select_dtypes(exclude=['int64', 'float64']).columns.tolist()\n",
    "categorical_columns"
   ]
  },
  {
   "cell_type": "code",
   "execution_count": 819,
   "id": "9cb1622a-5517-4345-bfb0-48b9457f0120",
   "metadata": {},
   "outputs": [
    {
     "data": {
      "text/plain": [
       "street            5726\n",
       "floor               14\n",
       "windows              3\n",
       "heating              6\n",
       "condition            3\n",
       "ownership            4\n",
       "price_currency       2\n",
       "city_name          917\n",
       "market               2\n",
       "region_name         16\n",
       "subregion_id       348\n",
       "user_type            3\n",
       "building_type        7\n",
       "dtype: int64"
      ]
     },
     "execution_count": 819,
     "metadata": {},
     "output_type": "execute_result"
    }
   ],
   "source": [
    "df[categorical_columns].nunique()"
   ]
  },
  {
   "cell_type": "markdown",
   "id": "66723fed-4c4e-4b96-9603-f234786f2b37",
   "metadata": {},
   "source": [
    "### street"
   ]
  },
  {
   "cell_type": "markdown",
   "id": "086fcf8d-c46c-43d5-bb0d-a0c4430e8aae",
   "metadata": {},
   "source": [
    "### floor"
   ]
  },
  {
   "cell_type": "code",
   "execution_count": 820,
   "id": "c6445e69-d82b-42ed-8e7c-dc2400ac1058",
   "metadata": {},
   "outputs": [
    {
     "data": {
      "text/plain": [
       "floor\n",
       "FLOOR_1            6433\n",
       "GROUND_FLOOR       5215\n",
       "FLOOR_2            4981\n",
       "FLOOR_3            4143\n",
       "FLOOR_4            2631\n",
       "FLOOR_5             923\n",
       "FLOOR_6             545\n",
       "FLOOR_7             379\n",
       "FLOOR_HIGHER_10     289\n",
       "FLOOR_8             272\n",
       "FLOOR_9             179\n",
       "FLOOR_10            173\n",
       "GARRET               50\n",
       "CELLAR               17\n",
       "Name: count, dtype: int64"
      ]
     },
     "execution_count": 820,
     "metadata": {},
     "output_type": "execute_result"
    }
   ],
   "source": [
    "df.floor.value_counts()"
   ]
  },
  {
   "cell_type": "code",
   "execution_count": 821,
   "id": "7e5ed702-0634-4faa-9bc6-5497a7b3bdd5",
   "metadata": {},
   "outputs": [],
   "source": [
    "def process_floor(floor):\n",
    "    if floor == 'CELLAR':\n",
    "        return -1\n",
    "    elif floor == 'GROUND_FLOOR':\n",
    "        return 0\n",
    "    elif floor == 'FLOOR_HIGHER_10':\n",
    "        return 11\n",
    "    elif floor == 'GARRET':\n",
    "        return 12\n",
    "    else:\n",
    "        return int(floor.split('_')[-1])"
   ]
  },
  {
   "cell_type": "code",
   "execution_count": 822,
   "id": "b8722a55-a445-4674-86a0-ec23b5ffe4f9",
   "metadata": {},
   "outputs": [],
   "source": [
    "df.floor = df.floor.apply(process_floor)"
   ]
  },
  {
   "cell_type": "markdown",
   "id": "fe11dc5e-0e4c-43ab-92d2-8c3402da6989",
   "metadata": {},
   "source": [
    "### windows"
   ]
  },
  {
   "cell_type": "code",
   "execution_count": 823,
   "id": "a9bd0ab4-b41f-4969-9153-a2f0bf0940fb",
   "metadata": {},
   "outputs": [
    {
     "data": {
      "text/plain": [
       "windows\n",
       "PLASTIC      0.932291\n",
       "WOODEN       0.055852\n",
       "ALUMINIUM    0.011857\n",
       "Name: proportion, dtype: float64"
      ]
     },
     "execution_count": 823,
     "metadata": {},
     "output_type": "execute_result"
    }
   ],
   "source": [
    "df.windows.value_counts(normalize=True)"
   ]
  },
  {
   "cell_type": "code",
   "execution_count": 824,
   "id": "2e6a1f8b-f08e-4a38-b4bd-15f96b339aaa",
   "metadata": {},
   "outputs": [],
   "source": [
    "df.windows = df.windows.replace(['WOODEN', 'ALUMINIUM'], 'NON_PLASTIC')"
   ]
  },
  {
   "cell_type": "markdown",
   "id": "2515416e-21f9-48a7-bb42-acd962b2aaaf",
   "metadata": {},
   "source": [
    "### heating"
   ]
  },
  {
   "cell_type": "code",
   "execution_count": 825,
   "id": "5181291d-865c-4ef7-b2bc-a92f32de8e2b",
   "metadata": {},
   "outputs": [
    {
     "data": {
      "text/plain": [
       "heating\n",
       "URBAN          0.714335\n",
       "GAS            0.189058\n",
       "OTHER          0.052650\n",
       "BOILER_ROOM    0.022913\n",
       "ELECTRICAL     0.019748\n",
       "TILED_STOVE    0.001296\n",
       "Name: proportion, dtype: float64"
      ]
     },
     "execution_count": 825,
     "metadata": {},
     "output_type": "execute_result"
    }
   ],
   "source": [
    "df.heating.value_counts(normalize=True)"
   ]
  },
  {
   "cell_type": "code",
   "execution_count": 826,
   "id": "1df9bd3b-7f64-4d69-8d74-6b31d9288ebf",
   "metadata": {},
   "outputs": [],
   "source": [
    "df.heating = df.heating.replace(['TILED_STOVE', 'ELECTRICAL', 'BOILER_ROOM'], 'OTHER')"
   ]
  },
  {
   "cell_type": "markdown",
   "id": "922e052a-4e77-4828-813c-6d845e504b59",
   "metadata": {},
   "source": [
    "### condition"
   ]
  },
  {
   "cell_type": "code",
   "execution_count": 827,
   "id": "48f91caa-df94-4734-b2bd-684df73e67d9",
   "metadata": {},
   "outputs": [
    {
     "data": {
      "text/plain": [
       "condition\n",
       "READY_TO_USE     0.514678\n",
       "TO_COMPLETION    0.406100\n",
       "TO_RENOVATION    0.079222\n",
       "Name: proportion, dtype: float64"
      ]
     },
     "execution_count": 827,
     "metadata": {},
     "output_type": "execute_result"
    }
   ],
   "source": [
    "df.condition.value_counts(normalize=True)"
   ]
  },
  {
   "cell_type": "markdown",
   "id": "a5967b09-be71-4ac6-bc2e-59b1db0955be",
   "metadata": {},
   "source": [
    "### ownership"
   ]
  },
  {
   "cell_type": "code",
   "execution_count": 828,
   "id": "c1358e1b-7734-4445-8b19-91836662cb97",
   "metadata": {},
   "outputs": [
    {
     "data": {
      "text/plain": [
       "ownership\n",
       "FULL_OWNERSHIP       0.950019\n",
       "LIMITED_OWNERSHIP    0.045177\n",
       "SHARE                0.003317\n",
       "USUFRUCT             0.001487\n",
       "Name: proportion, dtype: float64"
      ]
     },
     "execution_count": 828,
     "metadata": {},
     "output_type": "execute_result"
    }
   ],
   "source": [
    "df.ownership.value_counts(normalize=True)"
   ]
  },
  {
   "cell_type": "code",
   "execution_count": 829,
   "id": "1167da4f-aa4f-4b9e-9d70-e3e459edc72e",
   "metadata": {},
   "outputs": [],
   "source": [
    "df.ownership = df.ownership.replace(['SHARE', 'USUFRUCT'], 'LIMITED_OWNERSHIP')"
   ]
  },
  {
   "cell_type": "markdown",
   "id": "beaed581-88d1-480e-8521-cda2a820a3cb",
   "metadata": {},
   "source": [
    "### price_currency"
   ]
  },
  {
   "cell_type": "code",
   "execution_count": 830,
   "id": "56a10dfd-d27a-4083-b80b-94ad95af4896",
   "metadata": {},
   "outputs": [
    {
     "data": {
      "text/plain": [
       "array(['PLN', 'EUR'], dtype=object)"
      ]
     },
     "execution_count": 830,
     "metadata": {},
     "output_type": "execute_result"
    }
   ],
   "source": [
    "df.price_currency.unique()"
   ]
  },
  {
   "cell_type": "code",
   "execution_count": 831,
   "id": "78d016a0-33d7-464b-84e8-3e493a4121ce",
   "metadata": {},
   "outputs": [],
   "source": [
    "df.loc[df['price_currency'] == 'EUR', 'ad_price'] = df['ad_price'] * 4.35\n",
    "df.loc[df['price_currency'] == 'USD', 'ad_price'] = df['ad_price'] * 4\n",
    "df = df.drop(columns=['price_currency'])"
   ]
  },
  {
   "cell_type": "markdown",
   "id": "fa3ac577-0427-45f0-a7ba-942befbeeec8",
   "metadata": {},
   "source": [
    "### city_name"
   ]
  },
  {
   "cell_type": "code",
   "execution_count": 832,
   "id": "e5fd432c-4e79-42ef-81a6-870207863d4d",
   "metadata": {},
   "outputs": [
    {
     "data": {
      "text/plain": [
       "917"
      ]
     },
     "execution_count": 832,
     "metadata": {},
     "output_type": "execute_result"
    }
   ],
   "source": [
    "df.city_name.nunique()"
   ]
  },
  {
   "cell_type": "code",
   "execution_count": 833,
   "id": "bb3c083d-71e1-4614-846b-625f5c1f0c8d",
   "metadata": {},
   "outputs": [
    {
     "data": {
      "text/plain": [
       "city_name\n",
       "warszawa    3726\n",
       "wroclaw     1986\n",
       "krakow      1790\n",
       "gdansk      1721\n",
       "poznan      1022\n",
       "Name: count, dtype: int64"
      ]
     },
     "execution_count": 833,
     "metadata": {},
     "output_type": "execute_result"
    }
   ],
   "source": [
    "df.city_name.value_counts().head(5)"
   ]
  },
  {
   "cell_type": "markdown",
   "id": "0364186d-c4a9-4c36-a439-12b5d46a0a49",
   "metadata": {},
   "source": [
    "### market"
   ]
  },
  {
   "cell_type": "code",
   "execution_count": 834,
   "id": "b753e580-9ad4-4354-99ac-9e70a849031b",
   "metadata": {},
   "outputs": [
    {
     "data": {
      "text/plain": [
       "market\n",
       "secondary    0.623103\n",
       "primary      0.376897\n",
       "Name: proportion, dtype: float64"
      ]
     },
     "execution_count": 834,
     "metadata": {},
     "output_type": "execute_result"
    }
   ],
   "source": [
    "df.market.value_counts(normalize=True)"
   ]
  },
  {
   "cell_type": "markdown",
   "id": "b38e02ab-992d-4e4b-8395-493d164d22e2",
   "metadata": {},
   "source": [
    "### region_name"
   ]
  },
  {
   "cell_type": "code",
   "execution_count": 835,
   "id": "ff02931e-1b18-4f32-b95d-80ac7fdb25bd",
   "metadata": {},
   "outputs": [
    {
     "data": {
      "text/plain": [
       "array(['dolnoslaskie', 'opolskie', 'lubuskie', 'wielkopolskie',\n",
       "       'kujawsko-pomorskie', 'lodzkie', 'zachodniopomorskie', 'slaskie',\n",
       "       'lubelskie', 'malopolskie', 'podlaskie', 'podkarpackie',\n",
       "       'mazowieckie', 'swietokrzyskie', 'pomorskie',\n",
       "       'warminsko-mazurskie'], dtype=object)"
      ]
     },
     "execution_count": 835,
     "metadata": {},
     "output_type": "execute_result"
    }
   ],
   "source": [
    "df.region_name.unique()"
   ]
  },
  {
   "cell_type": "markdown",
   "id": "17557509-f1ae-4188-8fef-53d8d5eb77c0",
   "metadata": {},
   "source": [
    "### subregion_id"
   ]
  },
  {
   "cell_type": "code",
   "execution_count": 836,
   "id": "e96dda89-8dfd-4117-90b7-2c00260a6b23",
   "metadata": {},
   "outputs": [
    {
     "data": {
      "text/plain": [
       "348"
      ]
     },
     "execution_count": 836,
     "metadata": {},
     "output_type": "execute_result"
    }
   ],
   "source": [
    "df.subregion_id.nunique()"
   ]
  },
  {
   "cell_type": "code",
   "execution_count": 837,
   "id": "72753ba8-beae-43e8-8ceb-15231d567526",
   "metadata": {},
   "outputs": [],
   "source": [
    "df = df.drop(columns=['subregion_id'])"
   ]
  },
  {
   "cell_type": "markdown",
   "id": "cd703fdb-c844-4ab9-96d3-ed225f0a4043",
   "metadata": {},
   "source": [
    "### user_type"
   ]
  },
  {
   "cell_type": "code",
   "execution_count": 838,
   "id": "91babf20-de6a-4781-938d-5df465be12e9",
   "metadata": {},
   "outputs": [
    {
     "data": {
      "text/plain": [
       "user_type\n",
       "agency       0.718414\n",
       "private      0.150019\n",
       "developer    0.131567\n",
       "Name: proportion, dtype: float64"
      ]
     },
     "execution_count": 838,
     "metadata": {},
     "output_type": "execute_result"
    }
   ],
   "source": [
    "df.user_type.value_counts(normalize=True)"
   ]
  },
  {
   "cell_type": "code",
   "execution_count": 839,
   "id": "fe85e6ab-c817-4bcd-994c-f62355d26a87",
   "metadata": {},
   "outputs": [],
   "source": [
    "df = df.drop(columns=['user_type'])"
   ]
  },
  {
   "cell_type": "markdown",
   "id": "96f2c22d-0e44-4e70-b68f-59e7b570fb6f",
   "metadata": {},
   "source": [
    "### building_type"
   ]
  },
  {
   "cell_type": "code",
   "execution_count": 840,
   "id": "a795032a-1c1a-4500-b4d0-69f515abacad",
   "metadata": {},
   "outputs": [
    {
     "data": {
      "text/plain": [
       "building_type\n",
       "BLOCK        0.549218\n",
       "APARTMENT    0.278689\n",
       "TENEMENT     0.116279\n",
       "RIBBON       0.029661\n",
       "HOUSE        0.022531\n",
       "LOFT         0.001868\n",
       "INFILL       0.001754\n",
       "Name: proportion, dtype: float64"
      ]
     },
     "execution_count": 840,
     "metadata": {},
     "output_type": "execute_result"
    }
   ],
   "source": [
    "df.building_type.value_counts(normalize=True)"
   ]
  },
  {
   "cell_type": "code",
   "execution_count": 841,
   "id": "1c48a9bd-acc2-4c8b-8ebd-bf04db5b1d62",
   "metadata": {},
   "outputs": [],
   "source": [
    "df.building_type = df.building_type.replace(['INFILL', 'LOFT', 'HOUSE', 'RIBBON'], 'OTHER')"
   ]
  },
  {
   "cell_type": "markdown",
   "id": "07a3a8c9-ca51-4678-8746-b4533c0d7441",
   "metadata": {},
   "source": [
    "## Numerical columns"
   ]
  },
  {
   "cell_type": "code",
   "execution_count": 842,
   "id": "bbf5beee-6413-4f44-b375-7a169579b691",
   "metadata": {},
   "outputs": [
    {
     "data": {
      "text/html": [
       "<div>\n",
       "<style scoped>\n",
       "    .dataframe tbody tr th:only-of-type {\n",
       "        vertical-align: middle;\n",
       "    }\n",
       "\n",
       "    .dataframe tbody tr th {\n",
       "        vertical-align: top;\n",
       "    }\n",
       "\n",
       "    .dataframe thead th {\n",
       "        text-align: right;\n",
       "    }\n",
       "</style>\n",
       "<table border=\"1\" class=\"dataframe\">\n",
       "  <thead>\n",
       "    <tr style=\"text-align: right;\">\n",
       "      <th></th>\n",
       "      <th>floor</th>\n",
       "      <th>year</th>\n",
       "      <th>lat</th>\n",
       "      <th>long</th>\n",
       "      <th>ad_price</th>\n",
       "      <th>area</th>\n",
       "      <th>number_of_rooms</th>\n",
       "      <th>number_of_floors</th>\n",
       "      <th>dishwasher</th>\n",
       "      <th>furniture</th>\n",
       "      <th>oven</th>\n",
       "      <th>stove</th>\n",
       "      <th>fridge</th>\n",
       "      <th>washing_machine</th>\n",
       "      <th>air_conditioning</th>\n",
       "      <th>tv</th>\n",
       "      <th>balcony</th>\n",
       "      <th>basement</th>\n",
       "      <th>garage</th>\n",
       "      <th>garden</th>\n",
       "      <th>terrace</th>\n",
       "      <th>usable_room</th>\n",
       "      <th>INTERNET</th>\n",
       "      <th>LIFT</th>\n",
       "      <th>ENTRYPHONE</th>\n",
       "      <th>ALARM</th>\n",
       "      <th>CLOSED_AREA</th>\n",
       "      <th>ROLLER_SHUTTERS</th>\n",
       "      <th>ANTI_BURGLARY_DOOR</th>\n",
       "      <th>MONITORING</th>\n",
       "      <th>cable-television</th>\n",
       "      <th>phone</th>\n",
       "      <th>separate_kitchen</th>\n",
       "    </tr>\n",
       "  </thead>\n",
       "  <tbody>\n",
       "    <tr>\n",
       "      <th>count</th>\n",
       "      <td>26230.000000</td>\n",
       "      <td>26230.000000</td>\n",
       "      <td>26230.000000</td>\n",
       "      <td>26230.000000</td>\n",
       "      <td>2.623000e+04</td>\n",
       "      <td>26230.000000</td>\n",
       "      <td>26230.000000</td>\n",
       "      <td>26230.000000</td>\n",
       "      <td>26230.000000</td>\n",
       "      <td>26230.000000</td>\n",
       "      <td>26230.000000</td>\n",
       "      <td>26230.000000</td>\n",
       "      <td>26230.000000</td>\n",
       "      <td>26230.000000</td>\n",
       "      <td>26230.000000</td>\n",
       "      <td>26230.000000</td>\n",
       "      <td>26230.000000</td>\n",
       "      <td>26230.000000</td>\n",
       "      <td>26230.000000</td>\n",
       "      <td>26230.000000</td>\n",
       "      <td>26230.000000</td>\n",
       "      <td>26230.000000</td>\n",
       "      <td>26230.000000</td>\n",
       "      <td>26230.000000</td>\n",
       "      <td>26230.000000</td>\n",
       "      <td>26230.000000</td>\n",
       "      <td>26230.000000</td>\n",
       "      <td>26230.000000</td>\n",
       "      <td>26230.000000</td>\n",
       "      <td>26230.000000</td>\n",
       "      <td>26230.000000</td>\n",
       "      <td>26230.000000</td>\n",
       "      <td>26230.000000</td>\n",
       "    </tr>\n",
       "    <tr>\n",
       "      <th>mean</th>\n",
       "      <td>2.255623</td>\n",
       "      <td>1999.433931</td>\n",
       "      <td>52.138714</td>\n",
       "      <td>18.972244</td>\n",
       "      <td>7.235831e+05</td>\n",
       "      <td>61.748852</td>\n",
       "      <td>2.715936</td>\n",
       "      <td>4.413725</td>\n",
       "      <td>0.181014</td>\n",
       "      <td>0.340526</td>\n",
       "      <td>0.228669</td>\n",
       "      <td>0.245292</td>\n",
       "      <td>0.237857</td>\n",
       "      <td>0.175067</td>\n",
       "      <td>0.079718</td>\n",
       "      <td>0.087610</td>\n",
       "      <td>0.637095</td>\n",
       "      <td>0.355547</td>\n",
       "      <td>0.580137</td>\n",
       "      <td>0.140526</td>\n",
       "      <td>0.158750</td>\n",
       "      <td>0.228174</td>\n",
       "      <td>0.582310</td>\n",
       "      <td>0.528136</td>\n",
       "      <td>0.642051</td>\n",
       "      <td>0.069729</td>\n",
       "      <td>0.251658</td>\n",
       "      <td>0.046397</td>\n",
       "      <td>0.319405</td>\n",
       "      <td>0.324133</td>\n",
       "      <td>0.466374</td>\n",
       "      <td>0.294510</td>\n",
       "      <td>0.191193</td>\n",
       "    </tr>\n",
       "    <tr>\n",
       "      <th>std</th>\n",
       "      <td>2.182572</td>\n",
       "      <td>35.817771</td>\n",
       "      <td>1.499467</td>\n",
       "      <td>2.052765</td>\n",
       "      <td>6.438178e+05</td>\n",
       "      <td>43.047460</td>\n",
       "      <td>0.997776</td>\n",
       "      <td>3.196765</td>\n",
       "      <td>0.385037</td>\n",
       "      <td>0.473895</td>\n",
       "      <td>0.419984</td>\n",
       "      <td>0.430268</td>\n",
       "      <td>0.425779</td>\n",
       "      <td>0.380031</td>\n",
       "      <td>0.270861</td>\n",
       "      <td>0.282732</td>\n",
       "      <td>0.480847</td>\n",
       "      <td>0.478688</td>\n",
       "      <td>0.493546</td>\n",
       "      <td>0.347539</td>\n",
       "      <td>0.365449</td>\n",
       "      <td>0.419663</td>\n",
       "      <td>0.493188</td>\n",
       "      <td>0.499217</td>\n",
       "      <td>0.479406</td>\n",
       "      <td>0.254695</td>\n",
       "      <td>0.433974</td>\n",
       "      <td>0.210348</td>\n",
       "      <td>0.466255</td>\n",
       "      <td>0.468059</td>\n",
       "      <td>0.498878</td>\n",
       "      <td>0.455831</td>\n",
       "      <td>0.393248</td>\n",
       "    </tr>\n",
       "    <tr>\n",
       "      <th>min</th>\n",
       "      <td>-1.000000</td>\n",
       "      <td>1056.000000</td>\n",
       "      <td>49.282100</td>\n",
       "      <td>14.228806</td>\n",
       "      <td>3.995000e+04</td>\n",
       "      <td>12.660000</td>\n",
       "      <td>0.000000</td>\n",
       "      <td>1.000000</td>\n",
       "      <td>0.000000</td>\n",
       "      <td>0.000000</td>\n",
       "      <td>0.000000</td>\n",
       "      <td>0.000000</td>\n",
       "      <td>0.000000</td>\n",
       "      <td>0.000000</td>\n",
       "      <td>0.000000</td>\n",
       "      <td>0.000000</td>\n",
       "      <td>0.000000</td>\n",
       "      <td>0.000000</td>\n",
       "      <td>0.000000</td>\n",
       "      <td>0.000000</td>\n",
       "      <td>0.000000</td>\n",
       "      <td>0.000000</td>\n",
       "      <td>0.000000</td>\n",
       "      <td>0.000000</td>\n",
       "      <td>0.000000</td>\n",
       "      <td>0.000000</td>\n",
       "      <td>0.000000</td>\n",
       "      <td>0.000000</td>\n",
       "      <td>0.000000</td>\n",
       "      <td>0.000000</td>\n",
       "      <td>0.000000</td>\n",
       "      <td>0.000000</td>\n",
       "      <td>0.000000</td>\n",
       "    </tr>\n",
       "    <tr>\n",
       "      <th>25%</th>\n",
       "      <td>1.000000</td>\n",
       "      <td>1980.000000</td>\n",
       "      <td>51.026980</td>\n",
       "      <td>17.081491</td>\n",
       "      <td>4.121880e+05</td>\n",
       "      <td>44.000000</td>\n",
       "      <td>2.000000</td>\n",
       "      <td>3.000000</td>\n",
       "      <td>0.000000</td>\n",
       "      <td>0.000000</td>\n",
       "      <td>0.000000</td>\n",
       "      <td>0.000000</td>\n",
       "      <td>0.000000</td>\n",
       "      <td>0.000000</td>\n",
       "      <td>0.000000</td>\n",
       "      <td>0.000000</td>\n",
       "      <td>0.000000</td>\n",
       "      <td>0.000000</td>\n",
       "      <td>0.000000</td>\n",
       "      <td>0.000000</td>\n",
       "      <td>0.000000</td>\n",
       "      <td>0.000000</td>\n",
       "      <td>0.000000</td>\n",
       "      <td>0.000000</td>\n",
       "      <td>0.000000</td>\n",
       "      <td>0.000000</td>\n",
       "      <td>0.000000</td>\n",
       "      <td>0.000000</td>\n",
       "      <td>0.000000</td>\n",
       "      <td>0.000000</td>\n",
       "      <td>0.000000</td>\n",
       "      <td>0.000000</td>\n",
       "      <td>0.000000</td>\n",
       "    </tr>\n",
       "    <tr>\n",
       "      <th>50%</th>\n",
       "      <td>2.000000</td>\n",
       "      <td>2018.000000</td>\n",
       "      <td>52.196594</td>\n",
       "      <td>18.968393</td>\n",
       "      <td>5.880000e+05</td>\n",
       "      <td>56.000000</td>\n",
       "      <td>3.000000</td>\n",
       "      <td>4.000000</td>\n",
       "      <td>0.000000</td>\n",
       "      <td>0.000000</td>\n",
       "      <td>0.000000</td>\n",
       "      <td>0.000000</td>\n",
       "      <td>0.000000</td>\n",
       "      <td>0.000000</td>\n",
       "      <td>0.000000</td>\n",
       "      <td>0.000000</td>\n",
       "      <td>1.000000</td>\n",
       "      <td>0.000000</td>\n",
       "      <td>1.000000</td>\n",
       "      <td>0.000000</td>\n",
       "      <td>0.000000</td>\n",
       "      <td>0.000000</td>\n",
       "      <td>1.000000</td>\n",
       "      <td>1.000000</td>\n",
       "      <td>1.000000</td>\n",
       "      <td>0.000000</td>\n",
       "      <td>0.000000</td>\n",
       "      <td>0.000000</td>\n",
       "      <td>0.000000</td>\n",
       "      <td>0.000000</td>\n",
       "      <td>0.000000</td>\n",
       "      <td>0.000000</td>\n",
       "      <td>0.000000</td>\n",
       "    </tr>\n",
       "    <tr>\n",
       "      <th>75%</th>\n",
       "      <td>3.000000</td>\n",
       "      <td>2023.000000</td>\n",
       "      <td>53.433295</td>\n",
       "      <td>20.905859</td>\n",
       "      <td>8.122045e+05</td>\n",
       "      <td>70.845000</td>\n",
       "      <td>3.000000</td>\n",
       "      <td>5.000000</td>\n",
       "      <td>0.000000</td>\n",
       "      <td>1.000000</td>\n",
       "      <td>0.000000</td>\n",
       "      <td>0.000000</td>\n",
       "      <td>0.000000</td>\n",
       "      <td>0.000000</td>\n",
       "      <td>0.000000</td>\n",
       "      <td>0.000000</td>\n",
       "      <td>1.000000</td>\n",
       "      <td>1.000000</td>\n",
       "      <td>1.000000</td>\n",
       "      <td>0.000000</td>\n",
       "      <td>0.000000</td>\n",
       "      <td>0.000000</td>\n",
       "      <td>1.000000</td>\n",
       "      <td>1.000000</td>\n",
       "      <td>1.000000</td>\n",
       "      <td>0.000000</td>\n",
       "      <td>1.000000</td>\n",
       "      <td>0.000000</td>\n",
       "      <td>1.000000</td>\n",
       "      <td>1.000000</td>\n",
       "      <td>1.000000</td>\n",
       "      <td>1.000000</td>\n",
       "      <td>0.000000</td>\n",
       "    </tr>\n",
       "    <tr>\n",
       "      <th>max</th>\n",
       "      <td>12.000000</td>\n",
       "      <td>3022.000000</td>\n",
       "      <td>54.833130</td>\n",
       "      <td>23.896709</td>\n",
       "      <td>2.135010e+07</td>\n",
       "      <td>5074.000000</td>\n",
       "      <td>10.000000</td>\n",
       "      <td>52.000000</td>\n",
       "      <td>1.000000</td>\n",
       "      <td>1.000000</td>\n",
       "      <td>1.000000</td>\n",
       "      <td>1.000000</td>\n",
       "      <td>1.000000</td>\n",
       "      <td>1.000000</td>\n",
       "      <td>1.000000</td>\n",
       "      <td>1.000000</td>\n",
       "      <td>1.000000</td>\n",
       "      <td>1.000000</td>\n",
       "      <td>1.000000</td>\n",
       "      <td>1.000000</td>\n",
       "      <td>1.000000</td>\n",
       "      <td>1.000000</td>\n",
       "      <td>1.000000</td>\n",
       "      <td>1.000000</td>\n",
       "      <td>1.000000</td>\n",
       "      <td>1.000000</td>\n",
       "      <td>1.000000</td>\n",
       "      <td>1.000000</td>\n",
       "      <td>1.000000</td>\n",
       "      <td>1.000000</td>\n",
       "      <td>1.000000</td>\n",
       "      <td>1.000000</td>\n",
       "      <td>1.000000</td>\n",
       "    </tr>\n",
       "  </tbody>\n",
       "</table>\n",
       "</div>"
      ],
      "text/plain": [
       "              floor          year           lat          long      ad_price  \\\n",
       "count  26230.000000  26230.000000  26230.000000  26230.000000  2.623000e+04   \n",
       "mean       2.255623   1999.433931     52.138714     18.972244  7.235831e+05   \n",
       "std        2.182572     35.817771      1.499467      2.052765  6.438178e+05   \n",
       "min       -1.000000   1056.000000     49.282100     14.228806  3.995000e+04   \n",
       "25%        1.000000   1980.000000     51.026980     17.081491  4.121880e+05   \n",
       "50%        2.000000   2018.000000     52.196594     18.968393  5.880000e+05   \n",
       "75%        3.000000   2023.000000     53.433295     20.905859  8.122045e+05   \n",
       "max       12.000000   3022.000000     54.833130     23.896709  2.135010e+07   \n",
       "\n",
       "               area  number_of_rooms  number_of_floors    dishwasher  \\\n",
       "count  26230.000000     26230.000000      26230.000000  26230.000000   \n",
       "mean      61.748852         2.715936          4.413725      0.181014   \n",
       "std       43.047460         0.997776          3.196765      0.385037   \n",
       "min       12.660000         0.000000          1.000000      0.000000   \n",
       "25%       44.000000         2.000000          3.000000      0.000000   \n",
       "50%       56.000000         3.000000          4.000000      0.000000   \n",
       "75%       70.845000         3.000000          5.000000      0.000000   \n",
       "max     5074.000000        10.000000         52.000000      1.000000   \n",
       "\n",
       "          furniture          oven         stove        fridge  \\\n",
       "count  26230.000000  26230.000000  26230.000000  26230.000000   \n",
       "mean       0.340526      0.228669      0.245292      0.237857   \n",
       "std        0.473895      0.419984      0.430268      0.425779   \n",
       "min        0.000000      0.000000      0.000000      0.000000   \n",
       "25%        0.000000      0.000000      0.000000      0.000000   \n",
       "50%        0.000000      0.000000      0.000000      0.000000   \n",
       "75%        1.000000      0.000000      0.000000      0.000000   \n",
       "max        1.000000      1.000000      1.000000      1.000000   \n",
       "\n",
       "       washing_machine  air_conditioning            tv       balcony  \\\n",
       "count     26230.000000      26230.000000  26230.000000  26230.000000   \n",
       "mean          0.175067          0.079718      0.087610      0.637095   \n",
       "std           0.380031          0.270861      0.282732      0.480847   \n",
       "min           0.000000          0.000000      0.000000      0.000000   \n",
       "25%           0.000000          0.000000      0.000000      0.000000   \n",
       "50%           0.000000          0.000000      0.000000      1.000000   \n",
       "75%           0.000000          0.000000      0.000000      1.000000   \n",
       "max           1.000000          1.000000      1.000000      1.000000   \n",
       "\n",
       "           basement        garage        garden       terrace   usable_room  \\\n",
       "count  26230.000000  26230.000000  26230.000000  26230.000000  26230.000000   \n",
       "mean       0.355547      0.580137      0.140526      0.158750      0.228174   \n",
       "std        0.478688      0.493546      0.347539      0.365449      0.419663   \n",
       "min        0.000000      0.000000      0.000000      0.000000      0.000000   \n",
       "25%        0.000000      0.000000      0.000000      0.000000      0.000000   \n",
       "50%        0.000000      1.000000      0.000000      0.000000      0.000000   \n",
       "75%        1.000000      1.000000      0.000000      0.000000      0.000000   \n",
       "max        1.000000      1.000000      1.000000      1.000000      1.000000   \n",
       "\n",
       "           INTERNET          LIFT    ENTRYPHONE         ALARM   CLOSED_AREA  \\\n",
       "count  26230.000000  26230.000000  26230.000000  26230.000000  26230.000000   \n",
       "mean       0.582310      0.528136      0.642051      0.069729      0.251658   \n",
       "std        0.493188      0.499217      0.479406      0.254695      0.433974   \n",
       "min        0.000000      0.000000      0.000000      0.000000      0.000000   \n",
       "25%        0.000000      0.000000      0.000000      0.000000      0.000000   \n",
       "50%        1.000000      1.000000      1.000000      0.000000      0.000000   \n",
       "75%        1.000000      1.000000      1.000000      0.000000      1.000000   \n",
       "max        1.000000      1.000000      1.000000      1.000000      1.000000   \n",
       "\n",
       "       ROLLER_SHUTTERS  ANTI_BURGLARY_DOOR    MONITORING  cable-television  \\\n",
       "count     26230.000000        26230.000000  26230.000000      26230.000000   \n",
       "mean          0.046397            0.319405      0.324133          0.466374   \n",
       "std           0.210348            0.466255      0.468059          0.498878   \n",
       "min           0.000000            0.000000      0.000000          0.000000   \n",
       "25%           0.000000            0.000000      0.000000          0.000000   \n",
       "50%           0.000000            0.000000      0.000000          0.000000   \n",
       "75%           0.000000            1.000000      1.000000          1.000000   \n",
       "max           1.000000            1.000000      1.000000          1.000000   \n",
       "\n",
       "              phone  separate_kitchen  \n",
       "count  26230.000000      26230.000000  \n",
       "mean       0.294510          0.191193  \n",
       "std        0.455831          0.393248  \n",
       "min        0.000000          0.000000  \n",
       "25%        0.000000          0.000000  \n",
       "50%        0.000000          0.000000  \n",
       "75%        1.000000          0.000000  \n",
       "max        1.000000          1.000000  "
      ]
     },
     "execution_count": 842,
     "metadata": {},
     "output_type": "execute_result"
    }
   ],
   "source": [
    "df.describe()"
   ]
  },
  {
   "cell_type": "markdown",
   "id": "a37b3b6a-fcf2-4898-a410-362768c28d92",
   "metadata": {},
   "source": [
    "### Data distribution"
   ]
  },
  {
   "cell_type": "code",
   "execution_count": 843,
   "id": "2accb16e-2178-4abd-9681-b3a791d0bfdc",
   "metadata": {},
   "outputs": [
    {
     "data": {
      "image/png": "[encoded data removed]",
      "text/plain": [
       "<Figure size 600x400 with 1 Axes>"
      ]
     },
     "metadata": {},
     "output_type": "display_data"
    },
    {
     "data": {
      "image/png": "[encoded data removed]",
      "text/plain": [
       "<Figure size 600x400 with 1 Axes>"
      ]
     },
     "metadata": {},
     "output_type": "display_data"
    },
    {
     "data": {
      "image/png": "[encoded data removed]",
      "text/plain": [
       "<Figure size 600x400 with 1 Axes>"
      ]
     },
     "metadata": {},
     "output_type": "display_data"
    },
    {
     "data": {
      "image/png": "[encoded data removed]",
      "text/plain": [
       "<Figure size 600x400 with 1 Axes>"
      ]
     },
     "metadata": {},
     "output_type": "display_data"
    },
    {
     "data": {
      "image/png": "[encoded data removed]",
      "text/plain": [
       "<Figure size 600x400 with 1 Axes>"
      ]
     },
     "metadata": {},
     "output_type": "display_data"
    },
    {
     "data": {
      "image/png": "[encoded data removed]",
      "text/plain": [
       "<Figure size 600x400 with 1 Axes>"
      ]
     },
     "metadata": {},
     "output_type": "display_data"
    },
    {
     "data": {
      "image/png": "[encoded data removed]",
      "text/plain": [
       "<Figure size 600x400 with 1 Axes>"
      ]
     },
     "metadata": {},
     "output_type": "display_data"
    },
    {
     "data": {
      "image/png": "[encoded data removed]",
      "text/plain": [
       "<Figure size 600x400 with 1 Axes>"
      ]
     },
     "metadata": {},
     "output_type": "display_data"
    }
   ],
   "source": [
    "numerical_columns = df.select_dtypes(include=['int64', 'float64']).columns.tolist()\n",
    "for column in numerical_columns:\n",
    "    if all(value in [0, 1] for value in df[column].unique()):\n",
    "        continue\n",
    "    plt.figure(figsize=(6, 4))\n",
    "    plt.hist(df[column], bins=100)\n",
    "    plt.xlabel(column)\n",
    "    plt.grid(True)\n",
    "    plt.show()"
   ]
  },
  {
   "cell_type": "markdown",
   "id": "17cd2d3d-c767-4986-ab94-4bff737bf5d2",
   "metadata": {},
   "source": [
    "### Outliers"
   ]
  },
  {
   "cell_type": "code",
   "execution_count": 844,
   "id": "a97d4ff8-f623-48fe-80c7-d2e8a51eab1a",
   "metadata": {},
   "outputs": [],
   "source": [
    "from scipy.stats import zscore\n",
    "\n",
    "def get_outliers_zscore(df, threshold=3):\n",
    "    result = {}\n",
    "    numerical_columns = df.select_dtypes(include=['int64', 'float64']).columns.tolist()\n",
    "    for column in numerical_columns:\n",
    "        if all(value in [0, 1] for value in df[column].unique()):\n",
    "            continue\n",
    "        outliers = df[abs(zscore(df[column])) > threshold]\n",
    "        num_outliers = len(outliers)\n",
    "        if num_outliers:\n",
    "            result.update({column: {'num': num_outliers, 'values': outliers}})\n",
    "    return result\n",
    "\n",
    "def get_outliers_iqr(df):\n",
    "    result = {}\n",
    "    numerical_columns = df.select_dtypes(include=['int64', 'float64']).columns.tolist()\n",
    "    for column in numerical_columns:\n",
    "        if all(value in [0, 1] for value in df[column].unique()):\n",
    "            continue\n",
    "        Q1 = df[column].quantile(0.25)\n",
    "        Q3 = df[column].quantile(0.75)\n",
    "        IQR = Q3 - Q1\n",
    "        outliers = df[(df[column] < (Q1 - 1.5 * IQR)) | (df[column] > (Q3 + 1.5 * IQR))]\n",
    "        num_outliers = len(outliers)\n",
    "        if num_outliers:\n",
    "            result.update({column: {'num': num_outliers, 'values': outliers}})\n",
    "    return result\n",
    "\n",
    "def remove_outliers_iqr(df):\n",
    "    outliers_columns = get_outliers_iqr(df).keys()\n",
    "    df_filtered = df.copy()\n",
    "    for column in outliers_columns:\n",
    "        Q1 = df[column].quantile(0.25)\n",
    "        Q3 = df[column].quantile(0.75)\n",
    "        IQR = Q3 - Q1\n",
    "        lower_bound = Q1 - 1.5 * IQR\n",
    "        upper_bound = Q3 + 1.5 * IQR\n",
    "        df_filtered = df_filtered[(df_filtered[column] >= lower_bound) & (df_filtered[column] <= upper_bound)]\n",
    "    return df_filtered\n",
    "\n",
    "def remove_outliers_zscore(df):\n",
    "    outliers_columns = get_outliers_zscore(df).keys()\n",
    "    return df[(np.abs(zscore(df[outliers_columns])) < 3).all(axis=1)]"
   ]
  },
  {
   "cell_type": "code",
   "execution_count": 845,
   "id": "fc66192e-31d9-44ee-992f-fc3acd735662",
   "metadata": {},
   "outputs": [],
   "source": [
    "outliers_zscore = get_outliers_zscore(df)\n",
    "outliers_iqr = get_outliers_iqr(df)"
   ]
  },
  {
   "cell_type": "code",
   "execution_count": 846,
   "id": "fb281a84-d888-4860-96e8-2a11a13ab219",
   "metadata": {},
   "outputs": [
    {
     "name": "stdout",
     "output_type": "stream",
     "text": [
      "floor 691\n",
      "year 149\n",
      "ad_price 417\n",
      "area 136\n",
      "number_of_rooms 248\n",
      "number_of_floors 415\n"
     ]
    }
   ],
   "source": [
    "for k, v in outliers_zscore.items():\n",
    "    print(k, v['num'])"
   ]
  },
  {
   "cell_type": "code",
   "execution_count": 847,
   "id": "2574b410-4afd-4c8b-97df-28662399a2b7",
   "metadata": {},
   "outputs": [
    {
     "name": "stdout",
     "output_type": "stream",
     "text": [
      "floor 1342\n",
      "year 975\n",
      "ad_price 1776\n",
      "area 1380\n",
      "number_of_rooms 1062\n",
      "number_of_floors 2428\n"
     ]
    }
   ],
   "source": [
    "for k, v in outliers_iqr.items():\n",
    "    print(k, v['num'])"
   ]
  },
  {
   "cell_type": "code",
   "execution_count": 848,
   "id": "70c4e7d6-f0be-4e55-aa1b-d6d383a41686",
   "metadata": {},
   "outputs": [],
   "source": [
    "df_zscore = remove_outliers_zscore(df)"
   ]
  },
  {
   "cell_type": "code",
   "execution_count": 849,
   "id": "5bdbe322-0ed1-4c7d-9139-ebff66aed7b5",
   "metadata": {},
   "outputs": [
    {
     "data": {
      "text/plain": [
       "24609"
      ]
     },
     "execution_count": 849,
     "metadata": {},
     "output_type": "execute_result"
    }
   ],
   "source": [
    "df_zscore.__len__()"
   ]
  },
  {
   "cell_type": "code",
   "execution_count": 850,
   "id": "3f5a5870-43f8-4d97-8caa-8e4b74269d26",
   "metadata": {},
   "outputs": [],
   "source": [
    "df_iqr = remove_outliers_iqr(df)"
   ]
  },
  {
   "cell_type": "code",
   "execution_count": 851,
   "id": "ba14a0ee-594a-449e-b91a-c5988b8a5931",
   "metadata": {},
   "outputs": [
    {
     "data": {
      "text/plain": [
       "20263"
      ]
     },
     "execution_count": 851,
     "metadata": {},
     "output_type": "execute_result"
    }
   ],
   "source": [
    "df_iqr.__len__()"
   ]
  },
  {
   "cell_type": "code",
   "execution_count": 852,
   "id": "71cd98a6-8982-4483-801e-560a208c0e53",
   "metadata": {},
   "outputs": [],
   "source": [
    "df = df_iqr"
   ]
  },
  {
   "cell_type": "code",
   "execution_count": 853,
   "id": "26dfc74b-54f8-4140-8200-223add14fada",
   "metadata": {
    "scrolled": true
   },
   "outputs": [
    {
     "data": {
      "image/png": "[encoded data removed]",
      "text/plain": [
       "<Figure size 600x400 with 1 Axes>"
      ]
     },
     "metadata": {},
     "output_type": "display_data"
    },
    {
     "data": {
      "image/png": "[encoded data removed]",
      "text/plain": [
       "<Figure size 600x400 with 1 Axes>"
      ]
     },
     "metadata": {},
     "output_type": "display_data"
    },
    {
     "data": {
      "image/png": "[encoded data removed]",
      "text/plain": [
       "<Figure size 600x400 with 1 Axes>"
      ]
     },
     "metadata": {},
     "output_type": "display_data"
    },
    {
     "data": {
      "image/png": "[encoded data removed]",
      "text/plain": [
       "<Figure size 600x400 with 1 Axes>"
      ]
     },
     "metadata": {},
     "output_type": "display_data"
    },
    {
     "data": {
      "image/png": "[encoded data removed]",
      "text/plain": [
       "<Figure size 600x400 with 1 Axes>"
      ]
     },
     "metadata": {},
     "output_type": "display_data"
    },
    {
     "data": {
      "image/png": "[encoded data removed]",
      "text/plain": [
       "<Figure size 600x400 with 1 Axes>"
      ]
     },
     "metadata": {},
     "output_type": "display_data"
    },
    {
     "data": {
      "image/png": "[encoded data removed]",
      "text/plain": [
       "<Figure size 600x400 with 1 Axes>"
      ]
     },
     "metadata": {},
     "output_type": "display_data"
    },
    {
     "data": {
      "image/png": "[encoded data removed]",
      "text/plain": [
       "<Figure size 600x400 with 1 Axes>"
      ]
     },
     "metadata": {},
     "output_type": "display_data"
    }
   ],
   "source": [
    "numerical_columns = df.select_dtypes(include=['int64', 'float64']).columns.tolist()\n",
    "for column in numerical_columns:\n",
    "    if all(value in [0, 1] for value in df[column].unique()):\n",
    "        continue\n",
    "    plt.figure(figsize=(6, 4))\n",
    "    plt.hist(df[column], bins=10)\n",
    "    plt.xlabel(column)\n",
    "    plt.grid(True)\n",
    "    plt.show()"
   ]
  },
  {
   "cell_type": "code",
   "execution_count": null,
   "id": "8a1a7947-d7de-44c9-9e7d-a443a21b8b28",
   "metadata": {},
   "outputs": [],
   "source": []
  }
 ],
 "metadata": {
  "kernelspec": {
   "display_name": "Python 3 (ipykernel)",
   "language": "python",
   "name": "python3"
  },
  "language_info": {
   "codemirror_mode": {
    "name": "ipython",
    "version": 3
   },
   "file_extension": ".py",
   "mimetype": "text/x-python",
   "name": "python",
   "nbconvert_exporter": "python",
   "pygments_lexer": "ipython3",
   "version": "3.11.3"
  }
 },
 "nbformat": 4,
 "nbformat_minor": 5
}
