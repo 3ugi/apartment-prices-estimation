{
 "cells": [
  {
   "cell_type": "code",
   "execution_count": 325,
   "id": "5a132571-8d77-4378-ba5a-a8f3f99dac26",
   "metadata": {},
   "outputs": [],
   "source": [
    "import numpy as np\n",
    "import matplotlib.pyplot as plt \n",
    "import pandas as pd\n",
    "import seaborn as sns\n",
    "import string\n",
    "import time\n",
    "\n",
    "from datetime import datetime\n",
    "from scipy.stats import uniform, randint, zscore\n",
    "from sklearn.base import BaseEstimator, TransformerMixin\n",
    "from sklearn.compose import ColumnTransformer\n",
    "from sklearn.feature_selection import SequentialFeatureSelector\n",
    "from sklearn.linear_model import LinearRegression\n",
    "from sklearn.metrics import ( \n",
    "    mean_absolute_error, \n",
    "    mean_absolute_percentage_error, \n",
    "    mean_squared_error,\n",
    "    r2_score\n",
    ")\n",
    "from sklearn.model_selection import RandomizedSearchCV, train_test_split\n",
    "from sklearn.preprocessing import MinMaxScaler, OneHotEncoder, StandardScaler, PowerTransformer\n",
    "from sklearn.pipeline import FeatureUnion, Pipeline \n",
    "from unidecode import unidecode\n",
    "from xgboost.sklearn import XGBRegressor"
   ]
  },
  {
   "cell_type": "markdown",
   "id": "969500ce-4245-4cef-98af-20b00c4c0c41",
   "metadata": {},
   "source": [
    "# Data Collection"
   ]
  },
  {
   "cell_type": "markdown",
   "id": "a5b3be07-6888-4269-8c21-1d075d38edfe",
   "metadata": {},
   "source": [
    "## Downloading data"
   ]
  },
  {
   "cell_type": "code",
   "execution_count": 326,
   "id": "7f4956ef-2f6d-4b02-8b67-843931360551",
   "metadata": {},
   "outputs": [],
   "source": [
    "# python download_data.py"
   ]
  },
  {
   "cell_type": "markdown",
   "id": "1d239125-3b66-4c36-8538-35c0ab9d16b4",
   "metadata": {},
   "source": [
    "## Combining data from all chunks into one file"
   ]
  },
  {
   "cell_type": "code",
   "execution_count": 327,
   "id": "21eeabbb-ab09-45a2-bb5a-0b8e7e0d1eae",
   "metadata": {},
   "outputs": [],
   "source": [
    "# cat data/offers_data*.txt | grep -v '\"error\"' > data/offers_data.txt"
   ]
  },
  {
   "cell_type": "markdown",
   "id": "0f01775f-f126-43d6-8b06-c5286271bb4e",
   "metadata": {},
   "source": [
    "# Data Cleaning & Preparation"
   ]
  },
  {
   "cell_type": "code",
   "execution_count": 328,
   "id": "5333d359-bd4c-48c4-b02d-bee3c7a2ef6a",
   "metadata": {},
   "outputs": [],
   "source": [
    "pd.set_option('display.max_columns', None)"
   ]
  },
  {
   "cell_type": "markdown",
   "id": "d340c7a4-b0f3-4e58-a41b-9f116ef1a595",
   "metadata": {},
   "source": [
    "## Loading and reviewing data"
   ]
  },
  {
   "cell_type": "code",
   "execution_count": 329,
   "id": "450b7f5b-205e-4243-ba92-50cc4c40de09",
   "metadata": {},
   "outputs": [],
   "source": [
    "df = pd.read_json('data/offers_data.txt', lines=True)"
   ]
  },
  {
   "cell_type": "code",
   "execution_count": 330,
   "id": "a9dfd131-75d7-401d-a5f7-d60fc5649c6c",
   "metadata": {},
   "outputs": [],
   "source": [
    "df['number_of_rooms'] = df.numberOfRooms\n",
    "df['number_of_floors'] = df.numberOfFloors\n",
    "df['building_type'] = df.type\n",
    "df['windows_orientation'] = df.windowsOrientation\n",
    "df = df.drop(columns=['numberOfRooms', 'numberOfFloors', 'type', 'windowsOrientation'])"
   ]
  },
  {
   "cell_type": "markdown",
   "id": "16ef035f-035e-413f-83f9-2c7a69db6bce",
   "metadata": {},
   "source": [
    "## Imputing missing values"
   ]
  },
  {
   "cell_type": "code",
   "execution_count": 331,
   "id": "76bce761-fed2-463c-8a83-dfa70f767ff7",
   "metadata": {},
   "outputs": [],
   "source": [
    "multiple_values_columns = ['equipment', 'areas', 'conveniences', 'security', 'media_types']\n",
    "for column in multiple_values_columns:\n",
    "    types = df[column].dropna().apply(lambda x: x.split(', ') if x else None).explode().unique()\n",
    "    for t in types:\n",
    "        df[t] = df[column].apply(lambda x: 1 if x is not None and t in x else 0)\n",
    "df = df.drop(columns=multiple_values_columns)"
   ]
  },
  {
   "cell_type": "code",
   "execution_count": 332,
   "id": "7fc026ed-23b0-4834-b9eb-cfdac5b90590",
   "metadata": {},
   "outputs": [],
   "source": [
    "df = df.drop(columns=['internet'])"
   ]
  },
  {
   "cell_type": "code",
   "execution_count": 333,
   "id": "391351ec-41f7-4f94-b8b2-e70ddf953fac",
   "metadata": {},
   "outputs": [],
   "source": [
    "df = df.drop(columns=['lift'])"
   ]
  },
  {
   "cell_type": "code",
   "execution_count": 334,
   "id": "7435307a-e4f2-4769-b256-d2b1055ae7ae",
   "metadata": {},
   "outputs": [],
   "source": [
    "df['separate_kitchen'] = df.kitchen.map(lambda k: 1 if k else 0)\n",
    "df = df.drop(columns=['kitchen'])"
   ]
  },
  {
   "cell_type": "code",
   "execution_count": 335,
   "id": "ed24a43d-8746-42fc-8d75-363b34cf6689",
   "metadata": {},
   "outputs": [
    {
     "data": {
      "text/plain": [
       "building_type  heating    \n",
       "APARTMENT      URBAN          0.735046\n",
       "               GAS            0.148202\n",
       "               OTHER          0.071283\n",
       "               BOILER_ROOM    0.028369\n",
       "               ELECTRICAL     0.016969\n",
       "               TILED_STOVE    0.000131\n",
       "BLOCK          URBAN          0.806867\n",
       "               GAS            0.114169\n",
       "               OTHER          0.046790\n",
       "               BOILER_ROOM    0.022180\n",
       "               ELECTRICAL     0.008734\n",
       "               TILED_STOVE    0.001261\n",
       "HOUSE          GAS            0.540778\n",
       "               OTHER          0.210790\n",
       "               URBAN          0.114806\n",
       "               BOILER_ROOM    0.064617\n",
       "               ELECTRICAL     0.056462\n",
       "               TILED_STOVE    0.012547\n",
       "INFILL         URBAN          0.855263\n",
       "               GAS            0.078947\n",
       "               BOILER_ROOM    0.039474\n",
       "               OTHER          0.013158\n",
       "               ELECTRICAL     0.013158\n",
       "LOFT           URBAN          0.808219\n",
       "               GAS            0.164384\n",
       "               BOILER_ROOM    0.027397\n",
       "RIBBON         GAS            0.753792\n",
       "               OTHER          0.121354\n",
       "               URBAN          0.071762\n",
       "               ELECTRICAL     0.039090\n",
       "               BOILER_ROOM    0.011669\n",
       "               TILED_STOVE    0.002334\n",
       "TENEMENT       GAS            0.447714\n",
       "               URBAN          0.311001\n",
       "               ELECTRICAL     0.103509\n",
       "               OTHER          0.093702\n",
       "               BOILER_ROOM    0.022096\n",
       "               TILED_STOVE    0.021978\n",
       "Name: proportion, dtype: float64"
      ]
     },
     "execution_count": 335,
     "metadata": {},
     "output_type": "execute_result"
    }
   ],
   "source": [
    "building_type_grp = df.groupby(['building_type'])\n",
    "building_type_grp['heating'].value_counts(normalize=True)"
   ]
  },
  {
   "cell_type": "code",
   "execution_count": 336,
   "id": "d17a74e2-d76e-4e65-828d-29263d568535",
   "metadata": {},
   "outputs": [],
   "source": [
    "for building_type in df.building_type.dropna().unique():\n",
    "    heating_mode = df[df['building_type'] == building_type]['heating'].mode()\n",
    "    heating_mode = heating_mode[0] if heating_mode.any() else df['heating'].mode()[0]\n",
    "    df.loc[df['building_type'] == building_type, 'heating'] = df['heating'].fillna(heating_mode)"
   ]
  },
  {
   "cell_type": "code",
   "execution_count": 337,
   "id": "dfb234c9-5c04-4ecb-a31a-e84d01068b5a",
   "metadata": {},
   "outputs": [],
   "source": [
    "df.windows.fillna(df.windows.mode()[0], inplace=True)\n",
    "df.ownership.fillna(df.ownership.mode()[0], inplace=True)"
   ]
  },
  {
   "cell_type": "markdown",
   "id": "6c591b40-52da-4331-b8d3-089edc2b2d73",
   "metadata": {},
   "source": [
    "## Cleaning data"
   ]
  },
  {
   "cell_type": "code",
   "execution_count": 338,
   "id": "c206a6b3-4650-43d3-9f01-c77b720a4f53",
   "metadata": {},
   "outputs": [
    {
     "data": {
      "text/plain": [
       "['propertype', 'offertype']"
      ]
     },
     "execution_count": 338,
     "metadata": {},
     "output_type": "execute_result"
    }
   ],
   "source": [
    "unique_counts = df.nunique()\n",
    "columns_with_one_unique_value = unique_counts[unique_counts == 1].index.tolist()\n",
    "columns_with_one_unique_value"
   ]
  },
  {
   "cell_type": "code",
   "execution_count": 339,
   "id": "7b11c271-8f50-4bcc-8adc-9e1402dd2da0",
   "metadata": {},
   "outputs": [],
   "source": [
    "df = df.drop(columns=['parking', 'rooms', 'windows_orientation', 'free_from', 'rent', 'rent_currency', 'material', 'street', 'propertype', 'offertype'])"
   ]
  },
  {
   "cell_type": "code",
   "execution_count": 340,
   "id": "6a37e277-787d-4b0a-9dea-f24124771061",
   "metadata": {},
   "outputs": [],
   "source": [
    "df.dropna(inplace=True)\n",
    "df.reset_index(drop=True, inplace=True)"
   ]
  },
  {
   "cell_type": "code",
   "execution_count": 341,
   "id": "48704b3c-04a8-47d3-92d0-60ba549066be",
   "metadata": {},
   "outputs": [
    {
     "data": {
      "text/plain": [
       "['cable_television', 'electricity', 'sewage', 'water', 'gas']"
      ]
     },
     "execution_count": 341,
     "metadata": {},
     "output_type": "execute_result"
    }
   ],
   "source": [
    "unique_counts = df.nunique()\n",
    "columns_with_one_unique_value = unique_counts[unique_counts == 1].index.tolist()\n",
    "columns_with_one_unique_value"
   ]
  },
  {
   "cell_type": "code",
   "execution_count": 342,
   "id": "c263b925-5e9c-4375-b3a1-96ed90d339fb",
   "metadata": {},
   "outputs": [],
   "source": [
    "df = df.drop(columns=columns_with_one_unique_value)"
   ]
  },
  {
   "cell_type": "code",
   "execution_count": 343,
   "id": "72753ba8-beae-43e8-8ceb-15231d567526",
   "metadata": {},
   "outputs": [],
   "source": [
    "df = df.drop(columns=['subregion_id'])  # too many unique values, information conveyed in region_name"
   ]
  },
  {
   "cell_type": "code",
   "execution_count": 344,
   "id": "fe85e6ab-c817-4bcd-994c-f62355d26a87",
   "metadata": {},
   "outputs": [],
   "source": [
    "df = df.drop(columns=['user_type'])  # irrelevant"
   ]
  },
  {
   "cell_type": "markdown",
   "id": "22372ad0-2bac-4afc-a128-4d7fd389ddb5",
   "metadata": {},
   "source": [
    "# Feature Engineering"
   ]
  },
  {
   "cell_type": "markdown",
   "id": "7028cb02-4546-4072-935a-c7eaae75b305",
   "metadata": {},
   "source": [
    "## Adjusting existing features"
   ]
  },
  {
   "cell_type": "markdown",
   "id": "086fcf8d-c46c-43d5-bb0d-a0c4430e8aae",
   "metadata": {},
   "source": [
    "### floor"
   ]
  },
  {
   "cell_type": "code",
   "execution_count": 345,
   "id": "c6445e69-d82b-42ed-8e7c-dc2400ac1058",
   "metadata": {},
   "outputs": [
    {
     "data": {
      "text/plain": [
       "floor\n",
       "FLOOR_1            10379\n",
       "GROUND_FLOOR        8599\n",
       "FLOOR_2             7859\n",
       "FLOOR_3             6377\n",
       "FLOOR_4             4116\n",
       "FLOOR_5             1348\n",
       "FLOOR_6              829\n",
       "FLOOR_7              547\n",
       "FLOOR_HIGHER_10      416\n",
       "FLOOR_8              377\n",
       "FLOOR_9              273\n",
       "FLOOR_10             252\n",
       "GARRET                72\n",
       "CELLAR                29\n",
       "Name: count, dtype: int64"
      ]
     },
     "execution_count": 345,
     "metadata": {},
     "output_type": "execute_result"
    }
   ],
   "source": [
    "df.floor.value_counts()"
   ]
  },
  {
   "cell_type": "code",
   "execution_count": 346,
   "id": "7e5ed702-0634-4faa-9bc6-5497a7b3bdd5",
   "metadata": {},
   "outputs": [],
   "source": [
    "def process_floor(floor):\n",
    "    if floor == 'CELLAR':\n",
    "        return -1\n",
    "    elif floor == 'GROUND_FLOOR':\n",
    "        return 0\n",
    "    elif floor == 'FLOOR_HIGHER_10':\n",
    "        return 11\n",
    "    elif floor == 'GARRET':\n",
    "        return 12\n",
    "    else:\n",
    "        return int(floor.split('_')[-1])"
   ]
  },
  {
   "cell_type": "code",
   "execution_count": 347,
   "id": "b8722a55-a445-4674-86a0-ec23b5ffe4f9",
   "metadata": {},
   "outputs": [],
   "source": [
    "df.floor = df.floor.apply(process_floor)"
   ]
  },
  {
   "cell_type": "markdown",
   "id": "fe11dc5e-0e4c-43ab-92d2-8c3402da6989",
   "metadata": {},
   "source": [
    "### windows"
   ]
  },
  {
   "cell_type": "code",
   "execution_count": 348,
   "id": "a9bd0ab4-b41f-4969-9153-a2f0bf0940fb",
   "metadata": {},
   "outputs": [
    {
     "data": {
      "text/plain": [
       "windows\n",
       "PLASTIC      0.939864\n",
       "WOODEN       0.048296\n",
       "ALUMINIUM    0.011839\n",
       "Name: proportion, dtype: float64"
      ]
     },
     "execution_count": 348,
     "metadata": {},
     "output_type": "execute_result"
    }
   ],
   "source": [
    "df.windows.value_counts(normalize=True)"
   ]
  },
  {
   "cell_type": "code",
   "execution_count": 349,
   "id": "2e6a1f8b-f08e-4a38-b4bd-15f96b339aaa",
   "metadata": {},
   "outputs": [],
   "source": [
    "df.windows = df.windows.replace(['WOODEN', 'ALUMINIUM'], 'NON_PLASTIC')"
   ]
  },
  {
   "cell_type": "markdown",
   "id": "2515416e-21f9-48a7-bb42-acd962b2aaaf",
   "metadata": {},
   "source": [
    "### heating"
   ]
  },
  {
   "cell_type": "code",
   "execution_count": 350,
   "id": "5181291d-865c-4ef7-b2bc-a92f32de8e2b",
   "metadata": {},
   "outputs": [
    {
     "data": {
      "text/plain": [
       "heating\n",
       "URBAN          0.697466\n",
       "GAS            0.201119\n",
       "OTHER          0.056591\n",
       "BOILER_ROOM    0.022931\n",
       "ELECTRICAL     0.020061\n",
       "TILED_STOVE    0.001833\n",
       "Name: proportion, dtype: float64"
      ]
     },
     "execution_count": 350,
     "metadata": {},
     "output_type": "execute_result"
    }
   ],
   "source": [
    "df.heating.value_counts(normalize=True)"
   ]
  },
  {
   "cell_type": "code",
   "execution_count": 351,
   "id": "1df9bd3b-7f64-4d69-8d74-6b31d9288ebf",
   "metadata": {},
   "outputs": [],
   "source": [
    "df.heating = df.heating.replace(['TILED_STOVE', 'ELECTRICAL', 'BOILER_ROOM'], 'OTHER')"
   ]
  },
  {
   "cell_type": "markdown",
   "id": "922e052a-4e77-4828-813c-6d845e504b59",
   "metadata": {},
   "source": [
    "### condition"
   ]
  },
  {
   "cell_type": "code",
   "execution_count": 352,
   "id": "48f91caa-df94-4734-b2bd-684df73e67d9",
   "metadata": {},
   "outputs": [
    {
     "data": {
      "text/plain": [
       "condition\n",
       "READY_TO_USE     0.508114\n",
       "TO_COMPLETION    0.408844\n",
       "TO_RENOVATION    0.083042\n",
       "Name: proportion, dtype: float64"
      ]
     },
     "execution_count": 352,
     "metadata": {},
     "output_type": "execute_result"
    }
   ],
   "source": [
    "df.condition.value_counts(normalize=True)"
   ]
  },
  {
   "cell_type": "code",
   "execution_count": 353,
   "id": "f3e00acd-0b72-4841-a460-5eebcc2ae8c8",
   "metadata": {},
   "outputs": [],
   "source": [
    "df.condition = df.condition.replace('TO_RENOVATION', 'TO_COMPLETION')"
   ]
  },
  {
   "cell_type": "markdown",
   "id": "a5967b09-be71-4ac6-bc2e-59b1db0955be",
   "metadata": {},
   "source": [
    "### ownership"
   ]
  },
  {
   "cell_type": "code",
   "execution_count": 354,
   "id": "c1358e1b-7734-4445-8b19-91836662cb97",
   "metadata": {},
   "outputs": [
    {
     "data": {
      "text/plain": [
       "ownership\n",
       "FULL_OWNERSHIP       0.953849\n",
       "LIMITED_OWNERSHIP    0.041834\n",
       "SHARE                0.003231\n",
       "USUFRUCT             0.001085\n",
       "Name: proportion, dtype: float64"
      ]
     },
     "execution_count": 354,
     "metadata": {},
     "output_type": "execute_result"
    }
   ],
   "source": [
    "df.ownership.value_counts(normalize=True)"
   ]
  },
  {
   "cell_type": "code",
   "execution_count": 355,
   "id": "1167da4f-aa4f-4b9e-9d70-e3e459edc72e",
   "metadata": {},
   "outputs": [],
   "source": [
    "df.ownership = df.ownership.replace(['SHARE', 'USUFRUCT'], 'LIMITED_OWNERSHIP')"
   ]
  },
  {
   "cell_type": "markdown",
   "id": "beaed581-88d1-480e-8521-cda2a820a3cb",
   "metadata": {},
   "source": [
    "### price_currency"
   ]
  },
  {
   "cell_type": "code",
   "execution_count": 356,
   "id": "56a10dfd-d27a-4083-b80b-94ad95af4896",
   "metadata": {},
   "outputs": [
    {
     "data": {
      "text/plain": [
       "array(['PLN', 'EUR'], dtype=object)"
      ]
     },
     "execution_count": 356,
     "metadata": {},
     "output_type": "execute_result"
    }
   ],
   "source": [
    "df.price_currency.unique()"
   ]
  },
  {
   "cell_type": "code",
   "execution_count": 357,
   "id": "78d016a0-33d7-464b-84e8-3e493a4121ce",
   "metadata": {},
   "outputs": [],
   "source": [
    "df.loc[df['price_currency'] == 'EUR', 'ad_price'] = df['ad_price'] * 4.35\n",
    "df.loc[df['price_currency'] == 'USD', 'ad_price'] = df['ad_price'] * 4\n",
    "df = df.drop(columns=['price_currency'])"
   ]
  },
  {
   "cell_type": "markdown",
   "id": "4b2509f3-6023-4bd1-b4be-e588a763b78d",
   "metadata": {},
   "source": [
    "### city_name"
   ]
  },
  {
   "cell_type": "code",
   "execution_count": 358,
   "id": "900413a9-2739-4639-ab37-5c0c4b98a116",
   "metadata": {},
   "outputs": [],
   "source": [
    "punctuation_chars = set(string.punctuation)\n",
    "whitespace_chars = set(string.whitespace)\n",
    "special_chars = punctuation_chars - {'-'} | whitespace_chars\n",
    "\n",
    "df['city_name'] = df['city_name'].apply(lambda x: '_'.join(x.split('_')[:-1]) if x.split('_')[-1].isdigit() else x)"
   ]
  },
  {
   "cell_type": "markdown",
   "id": "96f2c22d-0e44-4e70-b68f-59e7b570fb6f",
   "metadata": {},
   "source": [
    "### building_type"
   ]
  },
  {
   "cell_type": "code",
   "execution_count": 359,
   "id": "a795032a-1c1a-4500-b4d0-69f515abacad",
   "metadata": {},
   "outputs": [
    {
     "data": {
      "text/plain": [
       "building_type\n",
       "BLOCK        0.546283\n",
       "APARTMENT    0.279965\n",
       "TENEMENT     0.115545\n",
       "RIBBON       0.030839\n",
       "HOUSE        0.024691\n",
       "INFILL       0.001350\n",
       "LOFT         0.001326\n",
       "Name: proportion, dtype: float64"
      ]
     },
     "execution_count": 359,
     "metadata": {},
     "output_type": "execute_result"
    }
   ],
   "source": [
    "df.building_type.value_counts(normalize=True)"
   ]
  },
  {
   "cell_type": "code",
   "execution_count": 360,
   "id": "1c48a9bd-acc2-4c8b-8ebd-bf04db5b1d62",
   "metadata": {},
   "outputs": [],
   "source": [
    "df.building_type = df.building_type.replace(['INFILL', 'LOFT', 'HOUSE', 'RIBBON'], 'OTHER')"
   ]
  },
  {
   "cell_type": "markdown",
   "id": "062d50bf-deac-404d-9d8b-344a11c7c95f",
   "metadata": {},
   "source": [
    "## Adding new features"
   ]
  },
  {
   "cell_type": "markdown",
   "id": "b15e5f3c-eb08-4fa3-8e1d-3b089bf38660",
   "metadata": {},
   "source": [
    "### building_age"
   ]
  },
  {
   "cell_type": "code",
   "execution_count": 361,
   "id": "d23af5c8-db80-4138-af37-2965913470d3",
   "metadata": {},
   "outputs": [],
   "source": [
    "df['building_age'] = df['year'].apply(lambda x: age if (age := datetime.now().year - x) >= 0 else 0)"
   ]
  },
  {
   "cell_type": "markdown",
   "id": "8ecc91bf-5055-47ec-af5c-d07affb87353",
   "metadata": {},
   "source": [
    "### population, city_area, population_density"
   ]
  },
  {
   "cell_type": "code",
   "execution_count": 362,
   "id": "975a1dc7-4ae1-4fb4-a53d-9e7e75429d07",
   "metadata": {},
   "outputs": [],
   "source": [
    "df_cities_data = pd.read_csv('data/cities_data.txt', sep=',')  # https://pl.wikipedia.org/wiki/Dane_statystyczne_o_miastach_w_Polsce"
   ]
  },
  {
   "cell_type": "code",
   "execution_count": 363,
   "id": "308b9198-9467-46ac-9cb7-195f01e49871",
   "metadata": {},
   "outputs": [
    {
     "data": {
      "text/html": [
       "<div>\n",
       "<style scoped>\n",
       "    .dataframe tbody tr th:only-of-type {\n",
       "        vertical-align: middle;\n",
       "    }\n",
       "\n",
       "    .dataframe tbody tr th {\n",
       "        vertical-align: top;\n",
       "    }\n",
       "\n",
       "    .dataframe thead th {\n",
       "        text-align: right;\n",
       "    }\n",
       "</style>\n",
       "<table border=\"1\" class=\"dataframe\">\n",
       "  <thead>\n",
       "    <tr style=\"text-align: right;\">\n",
       "      <th></th>\n",
       "      <th>city_name</th>\n",
       "      <th>subregion_id</th>\n",
       "      <th>region_name</th>\n",
       "      <th>city_area</th>\n",
       "      <th>population</th>\n",
       "      <th>population_density</th>\n",
       "    </tr>\n",
       "  </thead>\n",
       "  <tbody>\n",
       "    <tr>\n",
       "      <th>0</th>\n",
       "      <td>Aleksandrów Kujawski</td>\n",
       "      <td>aleksandrowski</td>\n",
       "      <td>kujawsko-pomorskie</td>\n",
       "      <td>723</td>\n",
       "      <td>12058</td>\n",
       "      <td>1668</td>\n",
       "    </tr>\n",
       "    <tr>\n",
       "      <th>1</th>\n",
       "      <td>Aleksandrów Łódzki</td>\n",
       "      <td>zgierski</td>\n",
       "      <td>łódzkie</td>\n",
       "      <td>1382</td>\n",
       "      <td>21754</td>\n",
       "      <td>1574</td>\n",
       "    </tr>\n",
       "    <tr>\n",
       "      <th>2</th>\n",
       "      <td>Alwernia</td>\n",
       "      <td>chrzanowski</td>\n",
       "      <td>małopolskie</td>\n",
       "      <td>888</td>\n",
       "      <td>3336</td>\n",
       "      <td>376</td>\n",
       "    </tr>\n",
       "    <tr>\n",
       "      <th>3</th>\n",
       "      <td>Andrychów</td>\n",
       "      <td>wadowicki</td>\n",
       "      <td>małopolskie</td>\n",
       "      <td>1033</td>\n",
       "      <td>19837</td>\n",
       "      <td>1920</td>\n",
       "    </tr>\n",
       "    <tr>\n",
       "      <th>4</th>\n",
       "      <td>Annopol</td>\n",
       "      <td>kraśnicki</td>\n",
       "      <td>lubelskie</td>\n",
       "      <td>773</td>\n",
       "      <td>2436</td>\n",
       "      <td>315</td>\n",
       "    </tr>\n",
       "  </tbody>\n",
       "</table>\n",
       "</div>"
      ],
      "text/plain": [
       "              city_name    subregion_id         region_name  city_area  \\\n",
       "0  Aleksandrów Kujawski  aleksandrowski  kujawsko-pomorskie        723   \n",
       "1    Aleksandrów Łódzki        zgierski             łódzkie       1382   \n",
       "2              Alwernia     chrzanowski         małopolskie        888   \n",
       "3             Andrychów       wadowicki         małopolskie       1033   \n",
       "4               Annopol       kraśnicki           lubelskie        773   \n",
       "\n",
       "   population  population_density  \n",
       "0       12058                1668  \n",
       "1       21754                1574  \n",
       "2        3336                 376  \n",
       "3       19837                1920  \n",
       "4        2436                 315  "
      ]
     },
     "execution_count": 363,
     "metadata": {},
     "output_type": "execute_result"
    }
   ],
   "source": [
    "df_cities_data.head()"
   ]
  },
  {
   "cell_type": "code",
   "execution_count": 364,
   "id": "dba2d228-2ab1-4d36-bb77-1029404357e6",
   "metadata": {},
   "outputs": [],
   "source": [
    "df_cities_data['city_name'] = df_cities_data['city_name'].apply(lambda x: '-'.join(unidecode(x).lower().split()))"
   ]
  },
  {
   "cell_type": "code",
   "execution_count": 365,
   "id": "98c9bd10-f4a3-4a98-b754-07a31c5e9459",
   "metadata": {},
   "outputs": [
    {
     "data": {
      "text/html": [
       "<div>\n",
       "<style scoped>\n",
       "    .dataframe tbody tr th:only-of-type {\n",
       "        vertical-align: middle;\n",
       "    }\n",
       "\n",
       "    .dataframe tbody tr th {\n",
       "        vertical-align: top;\n",
       "    }\n",
       "\n",
       "    .dataframe thead th {\n",
       "        text-align: right;\n",
       "    }\n",
       "</style>\n",
       "<table border=\"1\" class=\"dataframe\">\n",
       "  <thead>\n",
       "    <tr style=\"text-align: right;\">\n",
       "      <th></th>\n",
       "      <th>city_name</th>\n",
       "      <th>subregion_id</th>\n",
       "      <th>region_name</th>\n",
       "      <th>city_area</th>\n",
       "      <th>population</th>\n",
       "      <th>population_density</th>\n",
       "    </tr>\n",
       "  </thead>\n",
       "  <tbody>\n",
       "    <tr>\n",
       "      <th>0</th>\n",
       "      <td>aleksandrow-kujawski</td>\n",
       "      <td>aleksandrowski</td>\n",
       "      <td>kujawsko-pomorskie</td>\n",
       "      <td>723</td>\n",
       "      <td>12058</td>\n",
       "      <td>1668</td>\n",
       "    </tr>\n",
       "    <tr>\n",
       "      <th>1</th>\n",
       "      <td>aleksandrow-lodzki</td>\n",
       "      <td>zgierski</td>\n",
       "      <td>łódzkie</td>\n",
       "      <td>1382</td>\n",
       "      <td>21754</td>\n",
       "      <td>1574</td>\n",
       "    </tr>\n",
       "    <tr>\n",
       "      <th>2</th>\n",
       "      <td>alwernia</td>\n",
       "      <td>chrzanowski</td>\n",
       "      <td>małopolskie</td>\n",
       "      <td>888</td>\n",
       "      <td>3336</td>\n",
       "      <td>376</td>\n",
       "    </tr>\n",
       "    <tr>\n",
       "      <th>3</th>\n",
       "      <td>andrychow</td>\n",
       "      <td>wadowicki</td>\n",
       "      <td>małopolskie</td>\n",
       "      <td>1033</td>\n",
       "      <td>19837</td>\n",
       "      <td>1920</td>\n",
       "    </tr>\n",
       "    <tr>\n",
       "      <th>4</th>\n",
       "      <td>annopol</td>\n",
       "      <td>kraśnicki</td>\n",
       "      <td>lubelskie</td>\n",
       "      <td>773</td>\n",
       "      <td>2436</td>\n",
       "      <td>315</td>\n",
       "    </tr>\n",
       "  </tbody>\n",
       "</table>\n",
       "</div>"
      ],
      "text/plain": [
       "              city_name    subregion_id         region_name  city_area  \\\n",
       "0  aleksandrow-kujawski  aleksandrowski  kujawsko-pomorskie        723   \n",
       "1    aleksandrow-lodzki        zgierski             łódzkie       1382   \n",
       "2              alwernia     chrzanowski         małopolskie        888   \n",
       "3             andrychow       wadowicki         małopolskie       1033   \n",
       "4               annopol       kraśnicki           lubelskie        773   \n",
       "\n",
       "   population  population_density  \n",
       "0       12058                1668  \n",
       "1       21754                1574  \n",
       "2        3336                 376  \n",
       "3       19837                1920  \n",
       "4        2436                 315  "
      ]
     },
     "execution_count": 365,
     "metadata": {},
     "output_type": "execute_result"
    }
   ],
   "source": [
    "df_cities_data.head()"
   ]
  },
  {
   "cell_type": "code",
   "execution_count": 366,
   "id": "83e80a7d-37f1-4145-ad63-2122cc1b6c38",
   "metadata": {
    "scrolled": true
   },
   "outputs": [
    {
     "data": {
      "text/plain": [
       "3041"
      ]
     },
     "execution_count": 366,
     "metadata": {},
     "output_type": "execute_result"
    }
   ],
   "source": [
    "df[df.city_name.apply(lambda x: x not in df_cities_data.city_name.tolist())].__len__()"
   ]
  },
  {
   "cell_type": "code",
   "execution_count": 367,
   "id": "961fec27-a87e-4022-9a3d-712c75141b56",
   "metadata": {},
   "outputs": [],
   "source": [
    "cities_names = df_cities_data.city_name.to_list()\n",
    "def create_feature(city_name, feature_name):\n",
    "    if not city_name in cities_names:\n",
    "        return None\n",
    "    else:\n",
    "        return df_cities_data[df_cities_data.city_name == city_name][feature_name].iloc[0]"
   ]
  },
  {
   "cell_type": "code",
   "execution_count": 368,
   "id": "e7b3d913-7e06-425c-af99-48445c27b2e4",
   "metadata": {},
   "outputs": [],
   "source": [
    "df['population'] = df.city_name.apply(create_feature, args=('population',))"
   ]
  },
  {
   "cell_type": "code",
   "execution_count": 369,
   "id": "65998c4a-3b95-415f-b3a0-5164ba699146",
   "metadata": {},
   "outputs": [],
   "source": [
    "df['city_area'] = df.city_name.apply(create_feature, args=('city_area',))"
   ]
  },
  {
   "cell_type": "code",
   "execution_count": 370,
   "id": "12d52342-4c42-4de9-81fc-08a90a0e3481",
   "metadata": {},
   "outputs": [],
   "source": [
    "df['population_density'] = df.city_name.apply(create_feature, args=('population_density',))"
   ]
  },
  {
   "cell_type": "code",
   "execution_count": 371,
   "id": "5ccceb25-7fec-4019-974e-25ae19802eb5",
   "metadata": {},
   "outputs": [],
   "source": [
    "df.drop(columns=['city_name'], inplace=True)\n",
    "df.dropna(inplace=True)\n",
    "df.reset_index(drop=True, inplace=True)"
   ]
  },
  {
   "cell_type": "code",
   "execution_count": 372,
   "id": "6e050fb2-1c74-4bc1-9a18-cea753982471",
   "metadata": {},
   "outputs": [],
   "source": [
    "df_cleaned = df"
   ]
  },
  {
   "cell_type": "code",
   "execution_count": 373,
   "id": "a43c888c-d096-4df9-83a9-f7ecdbfdea49",
   "metadata": {},
   "outputs": [
    {
     "data": {
      "text/plain": [
       "38432"
      ]
     },
     "execution_count": 373,
     "metadata": {},
     "output_type": "execute_result"
    }
   ],
   "source": [
    "df_cleaned.__len__()"
   ]
  },
  {
   "cell_type": "code",
   "execution_count": 374,
   "id": "45f53bb6-a441-4d8b-80f5-39c3b34e9be6",
   "metadata": {},
   "outputs": [
    {
     "name": "stdout",
     "output_type": "stream",
     "text": [
      "<class 'pandas.core.frame.DataFrame'>\n",
      "RangeIndex: 38432 entries, 0 to 38431\n",
      "Data columns (total 44 columns):\n",
      " #   Column              Non-Null Count  Dtype  \n",
      "---  ------              --------------  -----  \n",
      " 0   floor               38432 non-null  int64  \n",
      " 1   year                38432 non-null  float64\n",
      " 2   windows             38432 non-null  object \n",
      " 3   heating             38432 non-null  object \n",
      " 4   condition           38432 non-null  object \n",
      " 5   ownership           38432 non-null  object \n",
      " 6   lat                 38432 non-null  float64\n",
      " 7   long                38432 non-null  float64\n",
      " 8   ad_price            38432 non-null  float64\n",
      " 9   market              38432 non-null  object \n",
      " 10  region_name         38432 non-null  object \n",
      " 11  area                38432 non-null  float64\n",
      " 12  number_of_rooms     38432 non-null  int64  \n",
      " 13  number_of_floors    38432 non-null  float64\n",
      " 14  building_type       38432 non-null  object \n",
      " 15  dishwasher          38432 non-null  int64  \n",
      " 16  furniture           38432 non-null  int64  \n",
      " 17  oven                38432 non-null  int64  \n",
      " 18  stove               38432 non-null  int64  \n",
      " 19  fridge              38432 non-null  int64  \n",
      " 20  washing_machine     38432 non-null  int64  \n",
      " 21  air_conditioning    38432 non-null  int64  \n",
      " 22  tv                  38432 non-null  int64  \n",
      " 23  balcony             38432 non-null  int64  \n",
      " 24  basement            38432 non-null  int64  \n",
      " 25  garage              38432 non-null  int64  \n",
      " 26  garden              38432 non-null  int64  \n",
      " 27  terrace             38432 non-null  int64  \n",
      " 28  usable_room         38432 non-null  int64  \n",
      " 29  INTERNET            38432 non-null  int64  \n",
      " 30  LIFT                38432 non-null  int64  \n",
      " 31  ENTRYPHONE          38432 non-null  int64  \n",
      " 32  ALARM               38432 non-null  int64  \n",
      " 33  CLOSED_AREA         38432 non-null  int64  \n",
      " 34  ROLLER_SHUTTERS     38432 non-null  int64  \n",
      " 35  ANTI_BURGLARY_DOOR  38432 non-null  int64  \n",
      " 36  MONITORING          38432 non-null  int64  \n",
      " 37  cable-television    38432 non-null  int64  \n",
      " 38  phone               38432 non-null  int64  \n",
      " 39  separate_kitchen    38432 non-null  int64  \n",
      " 40  building_age        38432 non-null  float64\n",
      " 41  population          38432 non-null  float64\n",
      " 42  city_area           38432 non-null  float64\n",
      " 43  population_density  38432 non-null  float64\n",
      "dtypes: float64(10), int64(27), object(7)\n",
      "memory usage: 12.9+ MB\n"
     ]
    }
   ],
   "source": [
    "df_cleaned.info()"
   ]
  },
  {
   "cell_type": "markdown",
   "id": "5920aa61-beac-4016-926b-f4f85c084b6e",
   "metadata": {},
   "source": [
    "# Data Preprocessing"
   ]
  },
  {
   "cell_type": "code",
   "execution_count": 313,
   "id": "d1092528-d888-445a-b488-3e24689245ef",
   "metadata": {},
   "outputs": [],
   "source": [
    "class SelectColumnsTransformer(BaseEstimator, TransformerMixin):\n",
    "    def __init__(self, columns_to_select: list):\n",
    "        self.columns_to_select = columns_to_select\n",
    "    \n",
    "    def fit(self, X, y=None):\n",
    "        return self\n",
    "    \n",
    "    def transform(self, X, y=None):\n",
    "        return X[self.columns_to_select]"
   ]
  },
  {
   "cell_type": "code",
   "execution_count": 261,
   "id": "b4166017-0e63-4a61-8573-14a3e37df3c5",
   "metadata": {},
   "outputs": [],
   "source": [
    "class LogTransformer(BaseEstimator, TransformerMixin):\n",
    "\n",
    "    def fit(self, X, y=None):\n",
    "        return self    \n",
    "    \n",
    "    def transform(self, X, y=None):\n",
    "        X = pd.DataFrame(X)\n",
    "        for col in X:\n",
    "            X[col] = X[col].apply(lambda x: 0 if x==0 else np.log(x))\n",
    "        return X"
   ]
  },
  {
   "cell_type": "code",
   "execution_count": 306,
   "id": "7406d129-822d-479c-9357-69d17a09d4e6",
   "metadata": {},
   "outputs": [],
   "source": [
    "class DropNaTransformer(BaseEstimator, TransformerMixin):\n",
    "    def fit(self, X, y=None):\n",
    "        return self\n",
    "    \n",
    "    def transform(self, X):\n",
    "        X = pd.DataFrame(X)\n",
    "        X = X.dropna().reset_index(drop=True)\n",
    "        return X"
   ]
  },
  {
   "cell_type": "code",
   "execution_count": 263,
   "id": "b6768f61-4001-4189-96c9-d0711cc5962c",
   "metadata": {},
   "outputs": [],
   "source": [
    "class ConcatenateFeaturesTargetTransformer(BaseEstimator, TransformerMixin):\n",
    "    def __init__(self):\n",
    "        self.target = None\n",
    "    \n",
    "    def fit(self, X, y=None):\n",
    "        self.target = y\n",
    "        return self\n",
    "    \n",
    "    def transform(self, X):\n",
    "        X = pd.DataFrame(X)\n",
    "        X = X.rename(str, axis=\"columns\")\n",
    "        y = pd.DataFrame(self.target)\n",
    "        return pd.concat([X, y], axis=1)"
   ]
  },
  {
   "cell_type": "markdown",
   "id": "4f052a72-bd3d-4591-82e4-cc1d26cffd81",
   "metadata": {},
   "source": [
    "## Outliers"
   ]
  },
  {
   "cell_type": "code",
   "execution_count": 387,
   "id": "8f82e25c-7f3b-444f-8a3f-8b391b9bf6ef",
   "metadata": {},
   "outputs": [],
   "source": [
    "class RemoveOutliersTransformer(BaseEstimator, TransformerMixin):\n",
    "    def __init__(self, method='iqr', threshold=3, q1=0.25, q3=0.75):\n",
    "        _allowed_methods = ['iqr', 'zscore']\n",
    "        if method not in _allowed_methods:\n",
    "            raise ValueError(f\"Allowed methods: {_allowed_methods}, given {method}\")\n",
    "        self.method = method\n",
    "        self.threshold = threshold\n",
    "        self.q1 = q1\n",
    "        self.q3 = q3\n",
    "        self.outliers_columns = []\n",
    "        \n",
    "    def fit(self, X, y=None):\n",
    "        self._get_outliers_columns(X)\n",
    "        return self \n",
    "    \n",
    "    def transform(self, X, y=None):\n",
    "        if self.method == 'zscore':\n",
    "            for column in self.outliers_columns:\n",
    "                z_scores = np.abs(zscore(X[column]))\n",
    "                outliers_mask = z_scores > self.threshold\n",
    "                X.loc[outliers_mask, column] = None\n",
    "        else:\n",
    "            for column in self.outliers_columns:\n",
    "                Q1 = X[column].quantile(self.q1)\n",
    "                Q3 = X[column].quantile(self.q3)\n",
    "                IQR = Q3 - Q1\n",
    "                lower_bound = Q1 - 1.5 * IQR\n",
    "                upper_bound = Q3 + 1.5 * IQR\n",
    "                outliers_mask = (X[column] < lower_bound) | (X[column] > upper_bound)\n",
    "                X.loc[outliers_mask, column] = None\n",
    "        return X\n",
    "\n",
    "    def _get_outliers_columns(self, X):\n",
    "        numerical_columns = X.select_dtypes(include=['int64', 'float64']).columns.tolist()\n",
    "        for column in numerical_columns:\n",
    "            if all(value in [0, 1] for value in X[column].unique()):\n",
    "                continue\n",
    "            if self.method == 'zscore':\n",
    "                outliers = X[abs(zscore(X[column])) > self.threshold]\n",
    "            else:\n",
    "                Q1 = X[column].quantile(self.q1)\n",
    "                Q3 = X[column].quantile(self.q3)\n",
    "                IQR = Q3 - Q1\n",
    "                outliers = X[(X[column] < (Q1 - 1.5 * IQR)) | (X[column] > (Q3 + 1.5 * IQR))]\n",
    "            num_outliers = len(outliers)\n",
    "            if num_outliers:\n",
    "                self.outliers_columns.append(column)"
   ]
  },
  {
   "cell_type": "markdown",
   "id": "f902b23e-053e-4328-847a-2f03255d5ff7",
   "metadata": {},
   "source": [
    "## Feature selection"
   ]
  },
  {
   "cell_type": "code",
   "execution_count": 293,
   "id": "9815168a-bae6-451f-a3e7-da9665259694",
   "metadata": {},
   "outputs": [],
   "source": [
    "class SelectFeaturesTransformer(BaseEstimator, TransformerMixin):\n",
    "    def __init__(self, target_name, model=LinearRegression(), corr_threshold=0.5, n_forward_backward_features=20):\n",
    "        self.target_name = target_name\n",
    "        self.model = model\n",
    "        self.corr_threshold = corr_threshold\n",
    "        self.n_forward_backward_features = n_forward_backward_features\n",
    "        self.selected_corr = []\n",
    "        self.selected_forward = []\n",
    "        self.selected_backward = []\n",
    "    \n",
    "    def fit(self, X, y=None):\n",
    "        self.selected_corr = (\n",
    "            x := X.corr(numeric_only=True).abs()[self.target_name]\n",
    "        ).sort_values(ascending=False)[(x > self.corr_threshold) & (x != 1)].index.to_list()\n",
    "\n",
    "        y = X[self.target_name]\n",
    "        X = X.drop(columns=[self.target_name])\n",
    "        \n",
    "        sfs = SequentialFeatureSelector(\n",
    "            self.model, direction='forward', scoring='r2', n_features_to_select=self.n_forward_backward_features)\n",
    "        sfs.fit(X, y)\n",
    "        choices = sfs.get_support()\n",
    "        self.selected_forward = [\n",
    "            feature for feature, is_selected in zip(X.columns, choices) if is_selected\n",
    "        ]\n",
    "        \n",
    "        sfs = SequentialFeatureSelector(\n",
    "            self.model, direction='backward', scoring='r2', n_features_to_select=self.n_forward_backward_features)\n",
    "        sfs.fit(X, y)\n",
    "        choices = sfs.get_support()\n",
    "        self.selected_backward = [\n",
    "            feature for feature, is_selected in zip(X.columns, choices) if is_selected\n",
    "        ]\n",
    "        return self\n",
    "\n",
    "    def transform(self, X, y=None):\n",
    "        selected_features = list(\n",
    "            set(self.selected_corr).union(\n",
    "                set(self.selected_forward).intersection(set(self.selected_backward))\n",
    "            )\n",
    "        )\n",
    "        return X[selected_features]"
   ]
  },
  {
   "cell_type": "code",
   "execution_count": 296,
   "id": "4d01d069-4eac-4161-9fa4-8213768ae5d1",
   "metadata": {},
   "outputs": [],
   "source": [
    "def transform_df(X, y, outliers_skewed, outliers_near_normal, scaler_near_normal, ohe_drop):\n",
    "    numerical_columns = X.select_dtypes(include=['int64', 'float64']).columns.tolist()\n",
    "    non_01_columns = [column for column in numerical_columns if not all(value in [0, 1] for value in df[column].unique())]\n",
    "    \n",
    "    skewed_columns = [column for column in numerical_columns if np.abs(df[column].skew()) > 0.5]\n",
    "    skewed_transformer = Pipeline(steps=[\n",
    "        ('select_cat_columns', SelectColumnsTransformer(skewed_columns)),\n",
    "        ('remove_outliers', RemoveOutliersTransformer(method=outliers_skewed)),\n",
    "        ('scaler', LogTransformer()),\n",
    "    ])\n",
    "    \n",
    "    near_normal_columns = [column for column in non_01_columns if column not in skewed_columns]\n",
    "    near_normal_transformer = Pipeline(steps=[\n",
    "        ('select_num_columns', SelectColumnsTransformer(near_normal_columns)),\n",
    "        ('remove_outliers', RemoveOutliersTransformer(method=outliers_near_normal)),\n",
    "        ('scaler', scaler_near_normal)\n",
    "    ])\n",
    "    \n",
    "    categorical_columns = X.select_dtypes(include=\"object\").columns.tolist()\n",
    "    categorical_transformer = Pipeline(steps=[\n",
    "        ('select_cat_columns', SelectColumnsTransformer(categorical_columns)), \n",
    "        ('ohe', OneHotEncoder(drop=ohe_drop, sparse_output=False, dtype=int))\n",
    "    ])\n",
    "    \n",
    "    transformer = ColumnTransformer(transformers=[\n",
    "        ('skewed', skewed_transformer, skewed_columns), \n",
    "        ('near_normal', near_normal_transformer, near_normal_columns), \n",
    "        ('categorical', categorical_transformer, categorical_columns),\n",
    "    ])\n",
    "    \n",
    "    pipeline = Pipeline(steps=[\n",
    "        ('preprocessor', transformer),\n",
    "        ('concat', ConcatenateFeaturesTargetTransformer()),\n",
    "        ('dropna', DropNaTransformer())\n",
    "    ])\n",
    "    \n",
    "    df_transformed = pd.DataFrame(pipeline.fit_transform(X, y))\n",
    "    \n",
    "    return df_transformed"
   ]
  },
  {
   "cell_type": "markdown",
   "id": "fdb7defa-f547-41bc-b3d4-16474b9ec9d9",
   "metadata": {},
   "source": [
    "# Model Building & Evaluation"
   ]
  },
  {
   "cell_type": "code",
   "execution_count": 314,
   "id": "eab33f22-ff46-49eb-af3c-b0bbebadcc8a",
   "metadata": {},
   "outputs": [],
   "source": [
    "def get_metrics(y_test, y_pred):\n",
    "    mae = mean_absolute_error(y_test, y_pred)\n",
    "    mape = mean_absolute_percentage_error(y_test, y_pred) * 100\n",
    "    r2 = r2_score(y_test, y_pred)\n",
    "    return dict(mae=mae, mape=mape, r2=r2)"
   ]
  },
  {
   "cell_type": "code",
   "execution_count": 315,
   "id": "14c7cd1d-d36d-4d22-8c66-cbd43f11cdc4",
   "metadata": {},
   "outputs": [],
   "source": [
    "# XGBRegressor\n",
    "\n",
    "distributions = {\n",
    "    'learning_rate': uniform(0.01, 0.4),\n",
    "    'max_depth': randint(3, 8),\n",
    "    'min_child_weight': randint(1, 10),\n",
    "    'gamma': uniform(0, 2),\n",
    "    'subsample': uniform(0.5, 0.5),\n",
    "    'colsample_bytree': uniform(0.5, 0.5),\n",
    "    'alpha': uniform(0, 1),\n",
    "    'lambda': uniform(0, 2)\n",
    "}"
   ]
  },
  {
   "cell_type": "code",
   "execution_count": 376,
   "id": "571f2656-5148-4fa7-82de-1ad857787005",
   "metadata": {},
   "outputs": [],
   "source": [
    "X_cleaned = df_cleaned.drop(columns=['ad_price'])\n",
    "y_cleaned = df_cleaned['ad_price']"
   ]
  },
  {
   "cell_type": "code",
   "execution_count": 381,
   "id": "dbbeaed1-c664-4616-ba4b-0ff4171e89c3",
   "metadata": {},
   "outputs": [],
   "source": [
    "def build_and_evaluate_models(\n",
    "    X, y, target_name,\n",
    "    outliers_skewed, outliers_near_normal,\n",
    "    scaler_near_normal,\n",
    "    ohe_drop,\n",
    "    corr_threshold, n_forward_backward_features,\n",
    "    test_size\n",
    "):\n",
    "    df_transformed = transform_df(\n",
    "        X, y, outliers_skewed, outliers_near_normal, scaler_near_normal, ohe_drop\n",
    "    )\n",
    "    \n",
    "    sft = SelectFeaturesTransformer(target_name=target_name, corr_threshold=corr_threshold, n_forward_backward_features=n_forward_backward_features)\n",
    "    sft.fit(df_transformed)\n",
    "    selected_X = sft.transform(df_transformed)\n",
    "    selected_X.info()\n",
    "    \n",
    "    X = selected_X\n",
    "    y = df_transformed['ad_price']\n",
    "    \n",
    "    print('\\n====== LINEAR REGRESSION ======')\n",
    "    \n",
    "    X_train, X_test, y_train, y_test = train_test_split(X, y, test_size=test_size, random_state=42)\n",
    "    \n",
    "    linear_reg_model = LinearRegression()\n",
    "    linear_reg_model.fit(X_train, y_train)\n",
    "    \n",
    "    print('TEST SET:')\n",
    "    y_pred = linear_reg_model.predict(X_test)\n",
    "    print(get_metrics(y_test, y_pred))\n",
    "    \n",
    "    print('TRAINING SET:')\n",
    "    y_pred_train = linear_reg_model.predict(X_train)\n",
    "    print(get_metrics(y_train, y_pred_train))\n",
    "    \n",
    "    \n",
    "    print('\\n====== XGBOOST REGRESSOR ======')\n",
    "    \n",
    "    xgb_reg_model = XGBRegressor(random_state=42)\n",
    "    optimizer = RandomizedSearchCV(\n",
    "        xgb_reg_model, \n",
    "        distributions, \n",
    "        n_iter=100,\n",
    "        n_jobs=-1\n",
    "    )\n",
    "    \n",
    "    X_train, X_test, y_train, y_test = train_test_split(X, y, test_size=test_size, random_state=42)\n",
    "    \n",
    "    optimizer.fit(X_train, y_train)\n",
    "    best_optimizer_params = optimizer.best_estimator_.get_params()\n",
    "    \n",
    "    for k, v in best_optimizer_params.items():\n",
    "        if v:\n",
    "            print(f'{k}: {v}')\n",
    "    print('---------')\n",
    "    print('TEST SET:')\n",
    "    y_pred = optimizer.predict(X_test)\n",
    "    print(get_metrics(y_test, y_pred))\n",
    "    \n",
    "    print('TRAINING SET:')\n",
    "    y_pred_train = optimizer.predict(X_train)\n",
    "    print(get_metrics(y_train, y_pred_train))"
   ]
  },
  {
   "cell_type": "code",
   "execution_count": 382,
   "id": "a589bb27-533f-425c-95fd-2f6ba4c15afa",
   "metadata": {},
   "outputs": [
    {
     "name": "stdout",
     "output_type": "stream",
     "text": [
      "<class 'pandas.core.frame.DataFrame'>\n",
      "RangeIndex: 27330 entries, 0 to 27329\n",
      "Data columns (total 37 columns):\n",
      " #   Column  Non-Null Count  Dtype  \n",
      "---  ------  --------------  -----  \n",
      " 0   31      27330 non-null  float64\n",
      " 1   53      27330 non-null  float64\n",
      " 2   35      27330 non-null  float64\n",
      " 3   8       27330 non-null  float64\n",
      " 4   57      27330 non-null  float64\n",
      " 5   44      27330 non-null  float64\n",
      " 6   43      27330 non-null  float64\n",
      " 7   6       27330 non-null  float64\n",
      " 8   32      27330 non-null  float64\n",
      " 9   1       27330 non-null  float64\n",
      " 10  13      27330 non-null  float64\n",
      " 11  12      27330 non-null  float64\n",
      " 12  28      27330 non-null  float64\n",
      " 13  2       27330 non-null  float64\n",
      " 14  10      27330 non-null  float64\n",
      " 15  36      27330 non-null  float64\n",
      " 16  14      27330 non-null  float64\n",
      " 17  9       27330 non-null  float64\n",
      " 18  27      27330 non-null  float64\n",
      " 19  38      27330 non-null  float64\n",
      " 20  58      27330 non-null  float64\n",
      " 21  25      27330 non-null  float64\n",
      " 22  39      27330 non-null  float64\n",
      " 23  46      27330 non-null  float64\n",
      " 24  26      27330 non-null  float64\n",
      " 25  42      27330 non-null  float64\n",
      " 26  37      27330 non-null  float64\n",
      " 27  3       27330 non-null  float64\n",
      " 28  47      27330 non-null  float64\n",
      " 29  11      27330 non-null  float64\n",
      " 30  30      27330 non-null  float64\n",
      " 31  55      27330 non-null  float64\n",
      " 32  51      27330 non-null  float64\n",
      " 33  52      27330 non-null  float64\n",
      " 34  4       27330 non-null  float64\n",
      " 35  7       27330 non-null  float64\n",
      " 36  59      27330 non-null  float64\n",
      "dtypes: float64(37)\n",
      "memory usage: 7.7 MB\n",
      "\n",
      "====== LINEAR REGRESSION ======\n",
      "TEST SET:\n",
      "{'mae': 129208.73502561287, 'mape': 25.156165864891566, 'r2': 0.5178865975382142}\n",
      "TRAINING SET:\n",
      "{'mae': 123931.95060373216, 'mape': 24.443752023518837, 'r2': 0.5637458133731248}\n",
      "\n",
      "====== XGBOOST REGRESSOR ======\n",
      "objective: reg:squarederror\n",
      "colsample_bytree: 0.8831618719819457\n",
      "gamma: 0.4498882082399749\n",
      "learning_rate: 0.12907058901868007\n",
      "max_depth: 7\n",
      "min_child_weight: 1\n",
      "missing: nan\n",
      "n_estimators: 100\n",
      "random_state: 42\n",
      "subsample: 0.76494644507534\n",
      "alpha: 0.1624634033674638\n",
      "lambda: 0.2099055130561538\n",
      "---------\n",
      "TEST SET:\n",
      "{'mae': 71631.16661121021, 'mape': 12.445698248757498, 'r2': 0.7574181716941579}\n",
      "TRAINING SET:\n",
      "{'mae': 50239.64729781976, 'mape': 9.459131734275607, 'r2': 0.9369849965822223}\n"
     ]
    }
   ],
   "source": [
    "build_and_evaluate_models(\n",
    "    X=X_cleaned, y=y_cleaned, target_name='ad_price',\n",
    "    outliers_skewed='iqr', outliers_near_normal='iqr',\n",
    "    scaler_near_normal=MinMaxScaler(),\n",
    "    ohe_drop=None,\n",
    "    corr_threshold=0.05, n_forward_backward_features=40,\n",
    "    test_size=0.2\n",
    ")"
   ]
  },
  {
   "cell_type": "code",
   "execution_count": 383,
   "id": "38d7ec27-2dc8-453a-9632-a4dda062e4a2",
   "metadata": {},
   "outputs": [
    {
     "name": "stdout",
     "output_type": "stream",
     "text": [
      "<class 'pandas.core.frame.DataFrame'>\n",
      "RangeIndex: 27330 entries, 0 to 27329\n",
      "Data columns (total 22 columns):\n",
      " #   Column  Non-Null Count  Dtype  \n",
      "---  ------  --------------  -----  \n",
      " 0   31      27330 non-null  float64\n",
      " 1   25      27330 non-null  float64\n",
      " 2   40      27330 non-null  float64\n",
      " 3   53      27330 non-null  float64\n",
      " 4   46      27330 non-null  float64\n",
      " 5   35      27330 non-null  float64\n",
      " 6   26      27330 non-null  float64\n",
      " 7   34      27330 non-null  float64\n",
      " 8   37      27330 non-null  float64\n",
      " 9   1       27330 non-null  float64\n",
      " 10  54      27330 non-null  float64\n",
      " 11  3       27330 non-null  float64\n",
      " 12  47      27330 non-null  float64\n",
      " 13  49      27330 non-null  float64\n",
      " 14  2       27330 non-null  float64\n",
      " 15  30      27330 non-null  float64\n",
      " 16  51      27330 non-null  float64\n",
      " 17  45      27330 non-null  float64\n",
      " 18  27      27330 non-null  float64\n",
      " 19  52      27330 non-null  float64\n",
      " 20  38      27330 non-null  float64\n",
      " 21  4       27330 non-null  float64\n",
      "dtypes: float64(22)\n",
      "memory usage: 4.6 MB\n",
      "\n",
      "====== LINEAR REGRESSION ======\n",
      "TEST SET:\n",
      "{'mae': 134392.91322143804, 'mape': 26.01393243696965, 'r2': 0.49636194981056747}\n",
      "TRAINING SET:\n",
      "{'mae': 128456.88867800553, 'mape': 25.189886105990727, 'r2': 0.543564659768816}\n",
      "\n",
      "====== XGBOOST REGRESSOR ======\n",
      "objective: reg:squarederror\n",
      "colsample_bytree: 0.7071053475089506\n",
      "gamma: 1.7271428458649698\n",
      "learning_rate: 0.2003290799887538\n",
      "max_depth: 7\n",
      "min_child_weight: 1\n",
      "missing: nan\n",
      "n_estimators: 100\n",
      "random_state: 42\n",
      "subsample: 0.9125778505347169\n",
      "alpha: 0.9447667207554131\n",
      "lambda: 1.5551352367793376\n",
      "---------\n",
      "TEST SET:\n",
      "{'mae': 77755.72062694383, 'mape': 13.278843875864899, 'r2': 0.73090609543}\n",
      "TRAINING SET:\n",
      "{'mae': 56258.73684624268, 'mape': 10.056879853785237, 'r2': 0.9034597589717637}\n"
     ]
    }
   ],
   "source": [
    "build_and_evaluate_models(\n",
    "    X=X_cleaned, y=y_cleaned, target_name='ad_price',\n",
    "    outliers_skewed='iqr', outliers_near_normal='iqr',\n",
    "    scaler_near_normal=StandardScaler(),\n",
    "    ohe_drop='first',\n",
    "    corr_threshold=0.25, n_forward_backward_features=30,\n",
    "    test_size=0.2\n",
    ")"
   ]
  },
  {
   "cell_type": "code",
   "execution_count": 384,
   "id": "f557a775-4c1a-4afa-9366-6974477be456",
   "metadata": {},
   "outputs": [
    {
     "name": "stdout",
     "output_type": "stream",
     "text": [
      "<class 'pandas.core.frame.DataFrame'>\n",
      "RangeIndex: 27330 entries, 0 to 27329\n",
      "Data columns (total 21 columns):\n",
      " #   Column  Non-Null Count  Dtype  \n",
      "---  ------  --------------  -----  \n",
      " 0   31      27330 non-null  float64\n",
      " 1   40      27330 non-null  float64\n",
      " 2   53      27330 non-null  float64\n",
      " 3   35      27330 non-null  float64\n",
      " 4   43      27330 non-null  float64\n",
      " 5   1       27330 non-null  float64\n",
      " 6   2       27330 non-null  float64\n",
      " 7   36      27330 non-null  float64\n",
      " 8   27      27330 non-null  float64\n",
      " 9   25      27330 non-null  float64\n",
      " 10  39      27330 non-null  float64\n",
      " 11  26      27330 non-null  float64\n",
      " 12  48      27330 non-null  float64\n",
      " 13  54      27330 non-null  float64\n",
      " 14  3       27330 non-null  float64\n",
      " 15  47      27330 non-null  float64\n",
      " 16  49      27330 non-null  float64\n",
      " 17  30      27330 non-null  float64\n",
      " 18  55      27330 non-null  float64\n",
      " 19  51      27330 non-null  float64\n",
      " 20  4       27330 non-null  float64\n",
      "dtypes: float64(21)\n",
      "memory usage: 4.4 MB\n",
      "\n",
      "====== LINEAR REGRESSION ======\n",
      "TEST SET:\n",
      "{'mae': 130515.72976496108, 'mape': 25.34314740104144, 'r2': 0.5135825374241988}\n",
      "TRAINING SET:\n",
      "{'mae': 125044.58433290855, 'mape': 24.598180244008386, 'r2': 0.5591693511723319}\n",
      "\n",
      "====== XGBOOST REGRESSOR ======\n",
      "objective: reg:squarederror\n",
      "colsample_bytree: 0.832455106085878\n",
      "gamma: 0.7631484534045163\n",
      "learning_rate: 0.22489883548447953\n",
      "max_depth: 7\n",
      "min_child_weight: 1\n",
      "missing: nan\n",
      "n_estimators: 100\n",
      "random_state: 42\n",
      "subsample: 0.9562188662196773\n",
      "alpha: 0.12488621736368355\n",
      "lambda: 0.9331407610413649\n",
      "---------\n",
      "TEST SET:\n",
      "{'mae': 76770.49340554107, 'mape': 13.084822942822921, 'r2': 0.7266716055914944}\n",
      "TRAINING SET:\n",
      "{'mae': 53240.93552007581, 'mape': 9.613120675165531, 'r2': 0.9195232472360226}\n"
     ]
    }
   ],
   "source": [
    "build_and_evaluate_models(\n",
    "    X=X_cleaned, y=y_cleaned, target_name='ad_price',\n",
    "    outliers_skewed='iqr', outliers_near_normal='iqr',\n",
    "    scaler_near_normal=MinMaxScaler(),\n",
    "    ohe_drop='if_binary',\n",
    "    corr_threshold=0.1, n_forward_backward_features=20,\n",
    "    test_size=0.2\n",
    ")"
   ]
  },
  {
   "cell_type": "code",
   "execution_count": 385,
   "id": "3b42576e-2708-4700-8adc-7700def5e0ed",
   "metadata": {},
   "outputs": [
    {
     "name": "stdout",
     "output_type": "stream",
     "text": [
      "<class 'pandas.core.frame.DataFrame'>\n",
      "RangeIndex: 27330 entries, 0 to 27329\n",
      "Data columns (total 18 columns):\n",
      " #   Column  Non-Null Count  Dtype  \n",
      "---  ------  --------------  -----  \n",
      " 0   58      27330 non-null  float64\n",
      " 1   25      27330 non-null  float64\n",
      " 2   31      27330 non-null  float64\n",
      " 3   53      27330 non-null  float64\n",
      " 4   39      27330 non-null  float64\n",
      " 5   26      27330 non-null  float64\n",
      " 6   37      27330 non-null  float64\n",
      " 7   32      27330 non-null  float64\n",
      " 8   1       27330 non-null  float64\n",
      " 9   3       27330 non-null  float64\n",
      " 10  47      27330 non-null  float64\n",
      " 11  2       27330 non-null  float64\n",
      " 12  36      27330 non-null  float64\n",
      " 13  30      27330 non-null  float64\n",
      " 14  27      27330 non-null  float64\n",
      " 15  52      27330 non-null  float64\n",
      " 16  38      27330 non-null  float64\n",
      " 17  59      27330 non-null  float64\n",
      "dtypes: float64(18)\n",
      "memory usage: 3.8 MB\n",
      "\n",
      "====== LINEAR REGRESSION ======\n",
      "TEST SET:\n",
      "{'mae': 134524.6918496158, 'mape': 25.85997321709701, 'r2': 0.49409384594979733}\n",
      "TRAINING SET:\n",
      "{'mae': 129562.06201975851, 'mape': 25.250436852407326, 'r2': 0.5387085900929693}\n",
      "\n",
      "====== XGBOOST REGRESSOR ======\n",
      "objective: reg:squarederror\n",
      "colsample_bytree: 0.5561463831230165\n",
      "gamma: 0.41518609579350363\n",
      "learning_rate: 0.1985050425356657\n",
      "max_depth: 6\n",
      "min_child_weight: 5\n",
      "missing: nan\n",
      "n_estimators: 100\n",
      "random_state: 42\n",
      "subsample: 0.8924032519765921\n",
      "alpha: 0.13808940961492333\n",
      "lambda: 0.8170206000909663\n",
      "---------\n",
      "TEST SET:\n",
      "{'mae': 83833.270221883, 'mape': 14.375804977382876, 'r2': 0.7016952118474292}\n",
      "TRAINING SET:\n",
      "{'mae': 67984.64814002899, 'mape': 11.921654788220462, 'r2': 0.8502576962017566}\n"
     ]
    }
   ],
   "source": [
    "build_and_evaluate_models(\n",
    "    X=X_cleaned, y=y_cleaned, target_name='ad_price',\n",
    "    outliers_skewed='iqr', outliers_near_normal='iqr',\n",
    "    scaler_near_normal=StandardScaler(),\n",
    "    ohe_drop=None,\n",
    "    corr_threshold=0.1, n_forward_backward_features=10,\n",
    "    test_size=0.2\n",
    ")"
   ]
  },
  {
   "cell_type": "code",
   "execution_count": 388,
   "id": "a0bca3ec-25e7-4c6b-b686-038d7e1d3baa",
   "metadata": {},
   "outputs": [
    {
     "name": "stdout",
     "output_type": "stream",
     "text": [
      "<class 'pandas.core.frame.DataFrame'>\n",
      "RangeIndex: 36852 entries, 0 to 36851\n",
      "Data columns (total 36 columns):\n",
      " #   Column  Non-Null Count  Dtype  \n",
      "---  ------  --------------  -----  \n",
      " 0   31      36852 non-null  float64\n",
      " 1   53      36852 non-null  float64\n",
      " 2   40      36852 non-null  float64\n",
      " 3   8       36852 non-null  float64\n",
      " 4   57      36852 non-null  float64\n",
      " 5   41      36852 non-null  float64\n",
      " 6   0       36852 non-null  float64\n",
      " 7   44      36852 non-null  float64\n",
      " 8   43      36852 non-null  float64\n",
      " 9   6       36852 non-null  float64\n",
      " 10  32      36852 non-null  float64\n",
      " 11  50      36852 non-null  float64\n",
      " 12  1       36852 non-null  float64\n",
      " 13  28      36852 non-null  float64\n",
      " 14  2       36852 non-null  float64\n",
      " 15  33      36852 non-null  float64\n",
      " 16  36      36852 non-null  float64\n",
      " 17  45      36852 non-null  float64\n",
      " 18  27      36852 non-null  float64\n",
      " 19  38      36852 non-null  float64\n",
      " 20  29      36852 non-null  float64\n",
      " 21  58      36852 non-null  float64\n",
      " 22  46      36852 non-null  float64\n",
      " 23  25      36852 non-null  float64\n",
      " 24  39      36852 non-null  float64\n",
      " 25  26      36852 non-null  float64\n",
      " 26  37      36852 non-null  float64\n",
      " 27  48      36852 non-null  float64\n",
      " 28  3       36852 non-null  float64\n",
      " 29  47      36852 non-null  float64\n",
      " 30  30      36852 non-null  float64\n",
      " 31  55      36852 non-null  float64\n",
      " 32  52      36852 non-null  float64\n",
      " 33  4       36852 non-null  float64\n",
      " 34  7       36852 non-null  float64\n",
      " 35  59      36852 non-null  float64\n",
      "dtypes: float64(36)\n",
      "memory usage: 10.1 MB\n",
      "\n",
      "====== LINEAR REGRESSION ======\n",
      "TEST SET:\n",
      "{'mae': 195653.38068104736, 'mape': 34.61864244027745, 'r2': 0.5219550660815162}\n",
      "TRAINING SET:\n",
      "{'mae': 196790.6741952444, 'mape': 34.211934961533785, 'r2': 0.5310736805093368}\n",
      "\n",
      "====== XGBOOST REGRESSOR ======\n",
      "objective: reg:squarederror\n",
      "colsample_bytree: 0.9943853959205342\n",
      "gamma: 1.5308038906406691\n",
      "learning_rate: 0.22913778321622236\n",
      "max_depth: 7\n",
      "min_child_weight: 2\n",
      "missing: nan\n",
      "n_estimators: 100\n",
      "random_state: 42\n",
      "subsample: 0.9791085503938657\n",
      "alpha: 0.6566186035742385\n",
      "lambda: 1.6256888607584892\n",
      "---------\n",
      "TEST SET:\n",
      "{'mae': 84464.93134994828, 'mape': 12.201854243599783, 'r2': 0.8545052303021788}\n",
      "TRAINING SET:\n",
      "{'mae': 59262.18385098666, 'mape': 9.658164088488462, 'r2': 0.9679692682143792}\n"
     ]
    }
   ],
   "source": [
    "build_and_evaluate_models(\n",
    "    X=X_cleaned, y=y_cleaned, target_name='ad_price',\n",
    "    outliers_skewed='zscore', outliers_near_normal='zscore',\n",
    "    scaler_near_normal=MinMaxScaler(),\n",
    "    ohe_drop=None,\n",
    "    corr_threshold=0.05, n_forward_backward_features=40,\n",
    "    test_size=0.2\n",
    ")"
   ]
  },
  {
   "cell_type": "code",
   "execution_count": 389,
   "id": "62b0167e-8b0b-45ce-8d74-1a66058e14ea",
   "metadata": {},
   "outputs": [
    {
     "name": "stdout",
     "output_type": "stream",
     "text": [
      "<class 'pandas.core.frame.DataFrame'>\n",
      "RangeIndex: 36852 entries, 0 to 36851\n",
      "Data columns (total 23 columns):\n",
      " #   Column  Non-Null Count  Dtype  \n",
      "---  ------  --------------  -----  \n",
      " 0   31      36852 non-null  float64\n",
      " 1   25      36852 non-null  float64\n",
      " 2   40      36852 non-null  float64\n",
      " 3   53      36852 non-null  float64\n",
      " 4   46      36852 non-null  float64\n",
      " 5   35      36852 non-null  float64\n",
      " 6   26      36852 non-null  float64\n",
      " 7   42      36852 non-null  float64\n",
      " 8   41      36852 non-null  float64\n",
      " 9   0       36852 non-null  float64\n",
      " 10  34      36852 non-null  float64\n",
      " 11  54      36852 non-null  float64\n",
      " 12  3       36852 non-null  float64\n",
      " 13  47      36852 non-null  float64\n",
      " 14  2       36852 non-null  float64\n",
      " 15  36      36852 non-null  float64\n",
      " 16  30      36852 non-null  float64\n",
      " 17  51      36852 non-null  float64\n",
      " 18  45      36852 non-null  float64\n",
      " 19  27      36852 non-null  float64\n",
      " 20  52      36852 non-null  float64\n",
      " 21  38      36852 non-null  float64\n",
      " 22  4       36852 non-null  float64\n",
      "dtypes: float64(23)\n",
      "memory usage: 6.5 MB\n",
      "\n",
      "====== LINEAR REGRESSION ======\n",
      "TEST SET:\n",
      "{'mae': 196264.00742230148, 'mape': 34.60268449506047, 'r2': 0.5206161127830125}\n",
      "TRAINING SET:\n",
      "{'mae': 197402.177040287, 'mape': 34.251603856240415, 'r2': 0.5292576388133917}\n",
      "\n",
      "====== XGBOOST REGRESSOR ======\n",
      "objective: reg:squarederror\n",
      "colsample_bytree: 0.9300795214035569\n",
      "gamma: 1.3298253937255586\n",
      "learning_rate: 0.19588449346065695\n",
      "max_depth: 7\n",
      "min_child_weight: 3\n",
      "missing: nan\n",
      "n_estimators: 100\n",
      "random_state: 42\n",
      "subsample: 0.5329160249109177\n",
      "alpha: 0.39289977676346866\n",
      "lambda: 1.6288642403667162\n",
      "---------\n",
      "TEST SET:\n",
      "{'mae': 107708.47314327263, 'mape': 15.265541310153402, 'r2': 0.7924042335427561}\n",
      "TRAINING SET:\n",
      "{'mae': 91522.8802668191, 'mape': 13.842876607807158, 'r2': 0.9122601139519642}\n"
     ]
    }
   ],
   "source": [
    "build_and_evaluate_models(\n",
    "    X=X_cleaned, y=y_cleaned, target_name='ad_price',\n",
    "    outliers_skewed='zscore', outliers_near_normal='zscore',\n",
    "    scaler_near_normal=StandardScaler(),\n",
    "    ohe_drop='first',\n",
    "    corr_threshold=0.25, n_forward_backward_features=30,\n",
    "    test_size=0.2\n",
    ")"
   ]
  },
  {
   "cell_type": "code",
   "execution_count": 390,
   "id": "22700b15-6be7-417f-9dca-32100ca82b32",
   "metadata": {},
   "outputs": [
    {
     "name": "stdout",
     "output_type": "stream",
     "text": [
      "<class 'pandas.core.frame.DataFrame'>\n",
      "RangeIndex: 36852 entries, 0 to 36851\n",
      "Data columns (total 19 columns):\n",
      " #   Column  Non-Null Count  Dtype  \n",
      "---  ------  --------------  -----  \n",
      " 0   31      36852 non-null  float64\n",
      " 1   25      36852 non-null  float64\n",
      " 2   40      36852 non-null  float64\n",
      " 3   53      36852 non-null  float64\n",
      " 4   35      36852 non-null  float64\n",
      " 5   26      36852 non-null  float64\n",
      " 6   44      36852 non-null  float64\n",
      " 7   43      36852 non-null  float64\n",
      " 8   48      36852 non-null  float64\n",
      " 9   54      36852 non-null  float64\n",
      " 10  3       36852 non-null  float64\n",
      " 11  49      36852 non-null  float64\n",
      " 12  2       36852 non-null  float64\n",
      " 13  36      36852 non-null  float64\n",
      " 14  30      36852 non-null  float64\n",
      " 15  55      36852 non-null  float64\n",
      " 16  27      36852 non-null  float64\n",
      " 17  4       36852 non-null  float64\n",
      " 18  29      36852 non-null  float64\n",
      "dtypes: float64(19)\n",
      "memory usage: 5.3 MB\n",
      "\n",
      "====== LINEAR REGRESSION ======\n",
      "TEST SET:\n",
      "{'mae': 197151.14148613007, 'mape': 34.74769061160256, 'r2': 0.517582846965353}\n",
      "TRAINING SET:\n",
      "{'mae': 197916.10735395763, 'mape': 34.276595896604114, 'r2': 0.527396724934995}\n",
      "\n",
      "====== XGBOOST REGRESSOR ======\n",
      "objective: reg:squarederror\n",
      "colsample_bytree: 0.9844739040745956\n",
      "gamma: 1.2496848275378578\n",
      "learning_rate: 0.16917533011548663\n",
      "max_depth: 7\n",
      "min_child_weight: 8\n",
      "missing: nan\n",
      "n_estimators: 100\n",
      "random_state: 42\n",
      "subsample: 0.8852451689844749\n",
      "alpha: 0.6285170939842905\n",
      "lambda: 0.7028449161614942\n",
      "---------\n",
      "TEST SET:\n",
      "{'mae': 100703.82046618505, 'mape': 14.451530685745098, 'r2': 0.8170830968777983}\n",
      "TRAINING SET:\n",
      "{'mae': 86137.0694545189, 'mape': 13.077199092040589, 'r2': 0.9203144111537828}\n"
     ]
    }
   ],
   "source": [
    "build_and_evaluate_models(\n",
    "    X=X_cleaned, y=y_cleaned, target_name='ad_price',\n",
    "    outliers_skewed='zscore', outliers_near_normal='zscore',\n",
    "    scaler_near_normal=MinMaxScaler(),\n",
    "    ohe_drop='if_binary',\n",
    "    corr_threshold=0.1, n_forward_backward_features=20,\n",
    "    test_size=0.2\n",
    ")"
   ]
  },
  {
   "cell_type": "code",
   "execution_count": 391,
   "id": "dce27583-5cbe-44ca-abc2-b11fc87903e3",
   "metadata": {},
   "outputs": [
    {
     "name": "stdout",
     "output_type": "stream",
     "text": [
      "<class 'pandas.core.frame.DataFrame'>\n",
      "RangeIndex: 36852 entries, 0 to 36851\n",
      "Data columns (total 16 columns):\n",
      " #   Column  Non-Null Count  Dtype  \n",
      "---  ------  --------------  -----  \n",
      " 0   58      36852 non-null  float64\n",
      " 1   31      36852 non-null  float64\n",
      " 2   53      36852 non-null  float64\n",
      " 3   26      36852 non-null  float64\n",
      " 4   37      36852 non-null  float64\n",
      " 5   32      36852 non-null  float64\n",
      " 6   48      36852 non-null  float64\n",
      " 7   3       36852 non-null  float64\n",
      " 8   47      36852 non-null  float64\n",
      " 9   2       36852 non-null  float64\n",
      " 10  36      36852 non-null  float64\n",
      " 11  30      36852 non-null  float64\n",
      " 12  27      36852 non-null  float64\n",
      " 13  52      36852 non-null  float64\n",
      " 14  59      36852 non-null  float64\n",
      " 15  29      36852 non-null  float64\n",
      "dtypes: float64(16)\n",
      "memory usage: 4.5 MB\n",
      "\n",
      "====== LINEAR REGRESSION ======\n",
      "TEST SET:\n",
      "{'mae': 204296.82037715372, 'mape': 35.91971069564238, 'r2': 0.5048680689989395}\n",
      "TRAINING SET:\n",
      "{'mae': 203933.2878786337, 'mape': 35.2292537151221, 'r2': 0.5147369669834359}\n",
      "\n",
      "====== XGBOOST REGRESSOR ======\n",
      "objective: reg:squarederror\n",
      "colsample_bytree: 0.7212898042658131\n",
      "gamma: 0.6400218187174362\n",
      "learning_rate: 0.12473494679313414\n",
      "max_depth: 7\n",
      "min_child_weight: 5\n",
      "missing: nan\n",
      "n_estimators: 100\n",
      "random_state: 42\n",
      "subsample: 0.5268547692598394\n",
      "alpha: 0.36624099921296605\n",
      "lambda: 0.0649710539862356\n",
      "---------\n",
      "TEST SET:\n",
      "{'mae': 117026.78485603421, 'mape': 17.628348009531454, 'r2': 0.7864894491720584}\n",
      "TRAINING SET:\n",
      "{'mae': 103445.27003933677, 'mape': 16.19606953318722, 'r2': 0.8870087863057453}\n"
     ]
    }
   ],
   "source": [
    "build_and_evaluate_models(\n",
    "    X=X_cleaned, y=y_cleaned, target_name='ad_price',\n",
    "    outliers_skewed='zscore', outliers_near_normal='zscore',\n",
    "    scaler_near_normal=StandardScaler(),\n",
    "    ohe_drop=None,\n",
    "    corr_threshold=0.1, n_forward_backward_features=10,\n",
    "    test_size=0.2\n",
    ")"
   ]
  },
  {
   "cell_type": "code",
   "execution_count": 392,
   "id": "8dcfd0fc-b6ed-4068-84e3-95bab9c02205",
   "metadata": {},
   "outputs": [
    {
     "name": "stdout",
     "output_type": "stream",
     "text": [
      "<class 'pandas.core.frame.DataFrame'>\n",
      "RangeIndex: 27423 entries, 0 to 27422\n",
      "Data columns (total 21 columns):\n",
      " #   Column  Non-Null Count  Dtype  \n",
      "---  ------  --------------  -----  \n",
      " 0   61      27423 non-null  float64\n",
      " 1   31      27423 non-null  float64\n",
      " 2   25      27423 non-null  float64\n",
      " 3   39      27423 non-null  float64\n",
      " 4   57      27423 non-null  float64\n",
      " 5   26      27423 non-null  float64\n",
      " 6   6       27423 non-null  float64\n",
      " 7   32      27423 non-null  float64\n",
      " 8   48      27423 non-null  float64\n",
      " 9   56      27423 non-null  float64\n",
      " 10  47      27423 non-null  float64\n",
      " 11  2       27423 non-null  float64\n",
      " 12  36      27423 non-null  float64\n",
      " 13  5       27423 non-null  float64\n",
      " 14  55      27423 non-null  float64\n",
      " 15  45      27423 non-null  float64\n",
      " 16  60      27423 non-null  float64\n",
      " 17  52      27423 non-null  float64\n",
      " 18  38      27423 non-null  float64\n",
      " 19  7       27423 non-null  float64\n",
      " 20  59      27423 non-null  float64\n",
      "dtypes: float64(21)\n",
      "memory usage: 4.4 MB\n",
      "\n",
      "====== LINEAR REGRESSION ======\n",
      "TEST SET:\n",
      "{'mae': 138872.65013673654, 'mape': 27.1800019696047, 'r2': 0.4785367905184551}\n",
      "TRAINING SET:\n",
      "{'mae': 135881.30958382715, 'mape': 26.42594754316745, 'r2': 0.5118186818295272}\n",
      "\n",
      "====== XGBOOST REGRESSOR ======\n",
      "objective: reg:squarederror\n",
      "colsample_bytree: 0.7608997371105838\n",
      "gamma: 1.1605933921278642\n",
      "learning_rate: 0.1738390987724605\n",
      "max_depth: 7\n",
      "min_child_weight: 1\n",
      "missing: nan\n",
      "n_estimators: 100\n",
      "random_state: 42\n",
      "subsample: 0.9056797305720166\n",
      "alpha: 0.8488225321634608\n",
      "lambda: 0.38402621419088434\n",
      "---------\n",
      "TEST SET:\n",
      "{'mae': 84160.46676589563, 'mape': 14.513524938496483, 'r2': 0.7090580318949762}\n",
      "TRAINING SET:\n",
      "{'mae': 63617.05512434902, 'mape': 11.458038220578723, 'r2': 0.885080828412935}\n"
     ]
    }
   ],
   "source": [
    "build_and_evaluate_models(\n",
    "    X=X_cleaned, y=y_cleaned, target_name='ad_price',\n",
    "    outliers_skewed='iqr', outliers_near_normal='zscore',\n",
    "    scaler_near_normal=MinMaxScaler(),\n",
    "    ohe_drop=None,\n",
    "    corr_threshold=0.5, n_forward_backward_features=40,\n",
    "    test_size=0.2\n",
    ")"
   ]
  },
  {
   "cell_type": "code",
   "execution_count": 393,
   "id": "5d5899e1-16fd-4a7f-b4a7-7384a76dade3",
   "metadata": {},
   "outputs": [
    {
     "name": "stdout",
     "output_type": "stream",
     "text": [
      "<class 'pandas.core.frame.DataFrame'>\n",
      "RangeIndex: 36740 entries, 0 to 36739\n",
      "Data columns (total 21 columns):\n",
      " #   Column  Non-Null Count  Dtype  \n",
      "---  ------  --------------  -----  \n",
      " 0   31      36740 non-null  float64\n",
      " 1   25      36740 non-null  float64\n",
      " 2   53      36740 non-null  float64\n",
      " 3   46      36740 non-null  float64\n",
      " 4   35      36740 non-null  float64\n",
      " 5   26      36740 non-null  float64\n",
      " 6   42      36740 non-null  float64\n",
      " 7   41      36740 non-null  float64\n",
      " 8   0       36740 non-null  float64\n",
      " 9   34      36740 non-null  float64\n",
      " 10  54      36740 non-null  float64\n",
      " 11  3       36740 non-null  float64\n",
      " 12  47      36740 non-null  float64\n",
      " 13  2       36740 non-null  float64\n",
      " 14  30      36740 non-null  float64\n",
      " 15  51      36740 non-null  float64\n",
      " 16  45      36740 non-null  float64\n",
      " 17  27      36740 non-null  float64\n",
      " 18  52      36740 non-null  float64\n",
      " 19  38      36740 non-null  float64\n",
      " 20  4       36740 non-null  float64\n",
      "dtypes: float64(21)\n",
      "memory usage: 5.9 MB\n",
      "\n",
      "====== LINEAR REGRESSION ======\n",
      "TEST SET:\n",
      "{'mae': 196775.2378276457, 'mape': 35.25915052266572, 'r2': 0.5475798737016664}\n",
      "TRAINING SET:\n",
      "{'mae': 199167.2367465624, 'mape': 34.57386244623455, 'r2': 0.5232793627626904}\n",
      "\n",
      "====== XGBOOST REGRESSOR ======\n",
      "objective: reg:squarederror\n",
      "colsample_bytree: 0.98453488869391\n",
      "gamma: 1.192363166709263\n",
      "learning_rate: 0.1613314728964761\n",
      "max_depth: 7\n",
      "min_child_weight: 7\n",
      "missing: nan\n",
      "n_estimators: 100\n",
      "random_state: 42\n",
      "subsample: 0.8731504453304751\n",
      "alpha: 0.8371744219737923\n",
      "lambda: 0.8122841678985044\n",
      "---------\n",
      "TEST SET:\n",
      "{'mae': 104510.8762556563, 'mape': 15.178732611873198, 'r2': 0.8406403382864891}\n",
      "TRAINING SET:\n",
      "{'mae': 93363.66469979075, 'mape': 13.866989558779244, 'r2': 0.8981809118327078}\n"
     ]
    }
   ],
   "source": [
    "build_and_evaluate_models(\n",
    "    X=X_cleaned, y=y_cleaned, target_name='ad_price',\n",
    "    outliers_skewed='zscore', outliers_near_normal='iqr',\n",
    "    scaler_near_normal=StandardScaler(),\n",
    "    ohe_drop='first',\n",
    "    corr_threshold=0.25, n_forward_backward_features=30,\n",
    "    test_size=0.2\n",
    ")"
   ]
  },
  {
   "cell_type": "code",
   "execution_count": 396,
   "id": "d045f565-c590-47a1-b19a-fb207ee3a1ab",
   "metadata": {},
   "outputs": [
    {
     "name": "stdout",
     "output_type": "stream",
     "text": [
      "<class 'pandas.core.frame.DataFrame'>\n",
      "RangeIndex: 27330 entries, 0 to 27329\n",
      "Data columns (total 40 columns):\n",
      " #   Column  Non-Null Count  Dtype  \n",
      "---  ------  --------------  -----  \n",
      " 0   61      27330 non-null  float64\n",
      " 1   31      27330 non-null  float64\n",
      " 2   53      27330 non-null  float64\n",
      " 3   40      27330 non-null  float64\n",
      " 4   35      27330 non-null  float64\n",
      " 5   41      27330 non-null  float64\n",
      " 6   0       27330 non-null  float64\n",
      " 7   44      27330 non-null  float64\n",
      " 8   43      27330 non-null  float64\n",
      " 9   32      27330 non-null  float64\n",
      " 10  50      27330 non-null  float64\n",
      " 11  1       27330 non-null  float64\n",
      " 12  56      27330 non-null  float64\n",
      " 13  28      27330 non-null  float64\n",
      " 14  2       27330 non-null  float64\n",
      " 15  33      27330 non-null  float64\n",
      " 16  36      27330 non-null  float64\n",
      " 17  45      27330 non-null  float64\n",
      " 18  27      27330 non-null  float64\n",
      " 19  38      27330 non-null  float64\n",
      " 20  29      27330 non-null  float64\n",
      " 21  58      27330 non-null  float64\n",
      " 22  25      27330 non-null  float64\n",
      " 23  39      27330 non-null  float64\n",
      " 24  46      27330 non-null  float64\n",
      " 25  26      27330 non-null  float64\n",
      " 26  42      27330 non-null  float64\n",
      " 27  34      27330 non-null  float64\n",
      " 28  37      27330 non-null  float64\n",
      " 29  48      27330 non-null  float64\n",
      " 30  54      27330 non-null  float64\n",
      " 31  3       27330 non-null  float64\n",
      " 32  47      27330 non-null  float64\n",
      " 33  49      27330 non-null  float64\n",
      " 34  30      27330 non-null  float64\n",
      " 35  55      27330 non-null  float64\n",
      " 36  51      27330 non-null  float64\n",
      " 37  52      27330 non-null  float64\n",
      " 38  4       27330 non-null  float64\n",
      " 39  59      27330 non-null  float64\n",
      "dtypes: float64(40)\n",
      "memory usage: 8.3 MB\n",
      "\n",
      "====== LINEAR REGRESSION ======\n",
      "TEST SET:\n",
      "{'mae': 127935.15763812659, 'mape': 24.96037889135303, 'r2': 0.524084445968835}\n",
      "TRAINING SET:\n",
      "{'mae': 123042.52762532016, 'mape': 24.316758959431024, 'r2': 0.5706467670475868}\n",
      "\n",
      "====== XGBOOST REGRESSOR ======\n",
      "objective: reg:squarederror\n",
      "colsample_bytree: 0.7626100661944115\n",
      "gamma: 1.0803625876683345\n",
      "learning_rate: 0.21089785312424245\n",
      "max_depth: 7\n",
      "min_child_weight: 1\n",
      "missing: nan\n",
      "n_estimators: 100\n",
      "random_state: 42\n",
      "subsample: 0.9046948836074353\n",
      "alpha: 0.9366600319853237\n",
      "lambda: 0.7331199068341114\n",
      "---------\n",
      "TEST SET:\n",
      "{'mae': 66442.77318766007, 'mape': 11.65721208058308, 'r2': 0.7906723572356193}\n",
      "TRAINING SET:\n",
      "{'mae': 41651.55023240258, 'mape': 7.972492666399889, 'r2': 0.9585669537061317}\n"
     ]
    }
   ],
   "source": [
    "build_and_evaluate_models(\n",
    "    X=X_cleaned, y=y_cleaned, target_name='ad_price',\n",
    "    outliers_skewed='iqr', outliers_near_normal='iqr',\n",
    "    scaler_near_normal=MinMaxScaler(),\n",
    "    ohe_drop=None,\n",
    "    corr_threshold=0.01, n_forward_backward_features=10,\n",
    "    test_size=0.2\n",
    ")"
   ]
  }
 ],
 "metadata": {
  "kernelspec": {
   "display_name": "Python 3 (ipykernel)",
   "language": "python",
   "name": "python3"
  },
  "language_info": {
   "codemirror_mode": {
    "name": "ipython",
    "version": 3
   },
   "file_extension": ".py",
   "mimetype": "text/x-python",
   "name": "python",
   "nbconvert_exporter": "python",
   "pygments_lexer": "ipython3",
   "version": "3.11.3"
  }
 },
 "nbformat": 4,
 "nbformat_minor": 5
}
